{
 "cells": [
  {
   "cell_type": "code",
   "execution_count": 1,
   "metadata": {
    "collapsed": true
   },
   "outputs": [],
   "source": [
    "import pandas as pd\n",
    "import numpy as np\n",
    "import os\n",
    "from sklearn import preprocessing,metrics \n",
    "from sklearn import cluster\n",
    "import numpy.random as npr\n",
    "from sklearn.model_selection import train_test_split, GridSearchCV,StratifiedKFold\n",
    "from sklearn.preprocessing import LabelEncoder\n",
    "from sklearn.model_selection import cross_val_score\n",
    "from sklearn import linear_model\n",
    "from sklearn.metrics import classification_report, mean_squared_error, r2_score, average_precision_score, precision_recall_curve, accuracy_score\n",
    "from sklearn.linear_model import LinearRegression\n",
    "from sklearn.neighbors import KNeighborsRegressor\n",
    "from sklearn import linear_model \n",
    "from sklearn import tree\n",
    "from sklearn.tree import DecisionTreeClassifier\n",
    "%matplotlib inline\n",
    "import seaborn as sns\n",
    "import matplotlib.pyplot as plt\n",
    "plt.rcParams['figure.figsize'] = (10, 8)"
   ]
  },
  {
   "cell_type": "code",
   "execution_count": 2,
   "metadata": {},
   "outputs": [
    {
     "name": "stdout",
     "output_type": "stream",
     "text": [
      "(188183, 115)\n"
     ]
    }
   ],
   "source": [
    "data = pd.read_csv(\"LendingClub2012to2013.csv\",low_memory = False, skiprows = 1)\n",
    "print (data.shape)\n",
    "#print (data.columns)"
   ]
  },
  {
   "cell_type": "code",
   "execution_count": 3,
   "metadata": {
    "scrolled": false
   },
   "outputs": [
    {
     "data": {
      "text/plain": [
       "Fully Paid            143919\n",
       "Charged Off            27536\n",
       "Current                15430\n",
       "Late (31-120 days)       706\n",
       "In Grace Period          387\n",
       "Late (16-30 days)        175\n",
       "Default                   28\n",
       "Name: loan_status, dtype: int64"
      ]
     },
     "execution_count": 3,
     "metadata": {},
     "output_type": "execute_result"
    }
   ],
   "source": [
    "data.loan_status.value_counts()"
   ]
  },
  {
   "cell_type": "code",
   "execution_count": 4,
   "metadata": {
    "scrolled": true
   },
   "outputs": [
    {
     "name": "stdout",
     "output_type": "stream",
     "text": [
      "          Loan Status   Count\n",
      "0          Fully Paid  143919\n",
      "1         Charged Off   27536\n",
      "2             Current   15430\n",
      "3  Late (31-120 days)     706\n",
      "4     In Grace Period     387\n",
      "5   Late (16-30 days)     175\n",
      "6             Default      28\n"
     ]
    }
   ],
   "source": [
    "status, count = data[\"loan_status\"].value_counts().index, data[\"loan_status\"].value_counts().values\n",
    "loan_status_index = pd.DataFrame({'Loan Status': status,'Count': count})[['Loan Status','Count']]\n",
    "print(loan_status_index)"
   ]
  },
  {
   "cell_type": "code",
   "execution_count": 5,
   "metadata": {
    "collapsed": true
   },
   "outputs": [],
   "source": [
    "newdata = data[(data['loan_status']==\"Fully Paid\") | (data['loan_status']==\"Charged Off\")]\n",
    "boolean = {\"Fully Paid\":1, \"Charged Off\":0} \n",
    "data = newdata.replace({\"loan_status\": boolean})"
   ]
  },
  {
   "cell_type": "code",
   "execution_count": 6,
   "metadata": {
    "scrolled": false
   },
   "outputs": [
    {
     "data": {
      "text/plain": [
       "1    143919\n",
       "0     27536\n",
       "Name: loan_status, dtype: int64"
      ]
     },
     "execution_count": 6,
     "metadata": {},
     "output_type": "execute_result"
    }
   ],
   "source": [
    "data['loan_status'].value_counts()"
   ]
  },
  {
   "cell_type": "code",
   "execution_count": 7,
   "metadata": {},
   "outputs": [
    {
     "name": "stdout",
     "output_type": "stream",
     "text": [
      "(171455, 46)\n"
     ]
    }
   ],
   "source": [
    "#dropping the variables which are not related to loan status and finances and 90% of these columns are empty\n",
    "\n",
    "data = data.drop(['id', 'member_id','all_util', 'annual_inc_joint', 'application_type', 'avg_cur_bal', \n",
    "             'bc_open_to_buy', 'bc_util', 'desc', 'dti_joint', 'earliest_cr_line',\n",
    "             'emp_title','funded_amnt_inv', 'il_util', 'inq_fi','inq_last_12m', 'issue_d',\n",
    "             'last_credit_pull_d', 'last_pymnt_d', 'max_bal_bc',\n",
    "             'mths_since_last_major_derog', 'mths_since_last_record', 'mo_sin_old_il_acct', \n",
    "             'mo_sin_old_rev_tl_op', 'mths_since_rcnt_il', 'mo_sin_rcnt_rev_tl_op', 'mo_sin_rcnt_tl', \n",
    "             'mths_since_last_delinq','mths_since_recent_bc', 'mths_since_recent_bc_dlq', \n",
    "             'mths_since_recent_inq', 'mths_since_recent_revol_delinq', 'next_pymnt_d', 'num_accts_ever_120_pd', \n",
    "             'num_actv_bc_tl', 'num_actv_rev_tl', 'num_accts_ever_120_pd', 'num_actv_bc_tl', 'num_actv_rev_tl', \n",
    "             'num_bc_sats', 'num_bc_tl', 'num_il_tl', 'num_op_rev_tl','num_rev_accts', 'num_rev_tl_bal_gt_0', \n",
    "             'num_sats', 'num_tl_120dpd_2m', 'num_tl_30dpd','num_tl_90g_dpd_24m','num_tl_op_past_12m', 'open_acc_6m', \n",
    "             'open_il_12m', 'open_il_24m','open_il_6m', 'open_rv_12m', 'open_rv_24m', 'out_prncp_inv', \n",
    "             'pct_tl_nvr_dlq','percent_bc_gt_75', 'pymnt_plan', 'policy_code', 'title', 'total_bal_il', \n",
    "             'tot_coll_amt', 'total_cu_tl',  'tot_cur_bal', 'tot_hi_cred_lim', 'total_il_high_credit_limit',\n",
    "             'total_pymnt_inv', 'total_rev_hi_lim', 'url','verification_status_joint'], axis=1)\n",
    "\n",
    "print (data.shape)"
   ]
  },
  {
   "cell_type": "code",
   "execution_count": 8,
   "metadata": {
    "collapsed": true
   },
   "outputs": [],
   "source": [
    "#Replacing missing values with Nan\n",
    "data = data.apply(lambda x: x.str.strip() if isinstance(x, str) else x).replace('', np.nan)"
   ]
  },
  {
   "cell_type": "code",
   "execution_count": 9,
   "metadata": {},
   "outputs": [
    {
     "name": "stdout",
     "output_type": "stream",
     "text": [
      "(171455, 46)\n"
     ]
    }
   ],
   "source": [
    "print (data.shape)"
   ]
  },
  {
   "cell_type": "code",
   "execution_count": 10,
   "metadata": {
    "scrolled": true
   },
   "outputs": [
    {
     "name": "stdout",
     "output_type": "stream",
     "text": [
      "Null values:\n",
      "loan_amnt                        0\n",
      "funded_amnt                      0\n",
      "term                             0\n",
      "int_rate                         0\n",
      "installment                      0\n",
      "grade                            0\n",
      "sub_grade                        0\n",
      "emp_length                       0\n",
      "home_ownership                   0\n",
      "annual_inc                       0\n",
      "verification_status              0\n",
      "loan_status                      0\n",
      "purpose                          0\n",
      "zip_code                         0\n",
      "addr_state                       0\n",
      "dti                              0\n",
      "delinq_2yrs                      0\n",
      "fico_range_low                   0\n",
      "fico_range_high                  0\n",
      "inq_last_6mths                   0\n",
      "open_acc                         0\n",
      "pub_rec                          0\n",
      "revol_bal                        0\n",
      "revol_util                     117\n",
      "total_acc                        0\n",
      "initial_list_status              0\n",
      "out_prncp                        0\n",
      "total_pymnt                      0\n",
      "total_rec_prncp                  0\n",
      "total_rec_int                    0\n",
      "total_rec_late_fee               0\n",
      "recoveries                       0\n",
      "collection_recovery_fee          0\n",
      "last_pymnt_amnt                  0\n",
      "last_fico_range_high             0\n",
      "last_fico_range_low              0\n",
      "collections_12_mths_ex_med       0\n",
      "acc_now_delinq                   0\n",
      "acc_open_past_24mths          7211\n",
      "chargeoff_within_12_mths         0\n",
      "delinq_amnt                      0\n",
      "mort_acc                      7211\n",
      "pub_rec_bankruptcies             0\n",
      "tax_liens                        0\n",
      "total_bal_ex_mort             7211\n",
      "total_bc_limit                7211\n",
      "dtype: int64\n"
     ]
    }
   ],
   "source": [
    "nullcount = data.isnull().sum()\n",
    "print(\"Null values:\\n{}\".format(nullcount))"
   ]
  },
  {
   "cell_type": "code",
   "execution_count": 11,
   "metadata": {},
   "outputs": [
    {
     "data": {
      "text/plain": [
       "(164139, 46)"
      ]
     },
     "execution_count": 11,
     "metadata": {},
     "output_type": "execute_result"
    }
   ],
   "source": [
    "data.dropna(how='any', inplace = True)\n",
    "data.shape"
   ]
  },
  {
   "cell_type": "markdown",
   "metadata": {},
   "source": [
    "# Data Correlation"
   ]
  },
  {
   "cell_type": "code",
   "execution_count": 12,
   "metadata": {
    "scrolled": true
   },
   "outputs": [
    {
     "data": {
      "text/plain": [
       "funded_amnt              loan_amnt               0.999904\n",
       "installment              loan_amnt               0.963494\n",
       "                         funded_amnt             0.963596\n",
       "fico_range_high          fico_range_low          1.000000\n",
       "total_acc                open_acc                0.665553\n",
       "total_pymnt              loan_amnt               0.889418\n",
       "                         funded_amnt             0.889540\n",
       "                         installment             0.869361\n",
       "total_rec_prncp          loan_amnt               0.826782\n",
       "                         funded_amnt             0.826910\n",
       "                         installment             0.823107\n",
       "                         total_pymnt             0.968188\n",
       "total_rec_int            loan_amnt               0.719249\n",
       "                         funded_amnt             0.719315\n",
       "                         installment             0.665525\n",
       "                         total_pymnt             0.772346\n",
       "                         total_rec_prncp         0.600124\n",
       "collection_recovery_fee  recoveries              0.827262\n",
       "last_pymnt_amnt          total_pymnt             0.553286\n",
       "                         total_rec_prncp         0.602681\n",
       "last_fico_range_high     loan_status             0.584735\n",
       "last_fico_range_low      last_fico_range_high    0.847286\n",
       "pub_rec_bankruptcies     pub_rec                 0.757002\n",
       "tax_liens                pub_rec                 0.651062\n",
       "dtype: float64"
      ]
     },
     "execution_count": 12,
     "metadata": {},
     "output_type": "execute_result"
    }
   ],
   "source": [
    "cor = data.corr()\n",
    "cor.loc[:,:] = np.tril(cor, k=-1) # below main lower triangle of an array\n",
    "cor = cor.stack()\n",
    "cor[(cor > 0.55) | (cor < -0.55)]"
   ]
  },
  {
   "cell_type": "code",
   "execution_count": 68,
   "metadata": {},
   "outputs": [
    {
     "name": "stdout",
     "output_type": "stream",
     "text": [
      "Shape : (164139, 37)\n"
     ]
    }
   ],
   "source": [
    "#Based on correlation calculation dropping the following values\n",
    "data.drop(['funded_amnt','fico_range_high', 'total_acc', 'total_rec_int', 'collection_recovery_fee', 'last_pymnt_amnt',\n",
    "           'last_fico_range_low', 'pub_rec_bankruptcies', 'tax_liens'],axis=1, inplace=True)\n",
    "\n",
    "print(\"Shape :\",data.shape)"
   ]
  },
  {
   "cell_type": "markdown",
   "metadata": {},
   "source": [
    "Data Encoding for certain variables"
   ]
  },
  {
   "cell_type": "code",
   "execution_count": 13,
   "metadata": {},
   "outputs": [
    {
     "data": {
      "text/html": [
       "<div>\n",
       "<style>\n",
       "    .dataframe thead tr:only-child th {\n",
       "        text-align: right;\n",
       "    }\n",
       "\n",
       "    .dataframe thead th {\n",
       "        text-align: left;\n",
       "    }\n",
       "\n",
       "    .dataframe tbody tr th {\n",
       "        vertical-align: top;\n",
       "    }\n",
       "</style>\n",
       "<table border=\"1\" class=\"dataframe\">\n",
       "  <thead>\n",
       "    <tr style=\"text-align: right;\">\n",
       "      <th></th>\n",
       "      <th>loan_amnt</th>\n",
       "      <th>funded_amnt</th>\n",
       "      <th>term</th>\n",
       "      <th>int_rate</th>\n",
       "      <th>installment</th>\n",
       "      <th>grade</th>\n",
       "      <th>sub_grade</th>\n",
       "      <th>emp_length</th>\n",
       "      <th>home_ownership</th>\n",
       "      <th>annual_inc</th>\n",
       "      <th>...</th>\n",
       "      <th>collections_12_mths_ex_med</th>\n",
       "      <th>acc_now_delinq</th>\n",
       "      <th>acc_open_past_24mths</th>\n",
       "      <th>chargeoff_within_12_mths</th>\n",
       "      <th>delinq_amnt</th>\n",
       "      <th>mort_acc</th>\n",
       "      <th>pub_rec_bankruptcies</th>\n",
       "      <th>tax_liens</th>\n",
       "      <th>total_bal_ex_mort</th>\n",
       "      <th>total_bc_limit</th>\n",
       "    </tr>\n",
       "  </thead>\n",
       "  <tbody>\n",
       "    <tr>\n",
       "      <th>0</th>\n",
       "      <td>20800.0</td>\n",
       "      <td>20800.0</td>\n",
       "      <td>36 months</td>\n",
       "      <td>13.53%</td>\n",
       "      <td>706.16</td>\n",
       "      <td>6</td>\n",
       "      <td>B5</td>\n",
       "      <td>10</td>\n",
       "      <td>2</td>\n",
       "      <td>81500.0</td>\n",
       "      <td>...</td>\n",
       "      <td>0.0</td>\n",
       "      <td>0.0</td>\n",
       "      <td>9.0</td>\n",
       "      <td>0.0</td>\n",
       "      <td>0.0</td>\n",
       "      <td>0.0</td>\n",
       "      <td>0.0</td>\n",
       "      <td>0.0</td>\n",
       "      <td>23473.0</td>\n",
       "      <td>15000.0</td>\n",
       "    </tr>\n",
       "    <tr>\n",
       "      <th>2</th>\n",
       "      <td>12000.0</td>\n",
       "      <td>12000.0</td>\n",
       "      <td>36 months</td>\n",
       "      <td>10.99%</td>\n",
       "      <td>392.81</td>\n",
       "      <td>6</td>\n",
       "      <td>B2</td>\n",
       "      <td>4</td>\n",
       "      <td>2</td>\n",
       "      <td>60000.0</td>\n",
       "      <td>...</td>\n",
       "      <td>0.0</td>\n",
       "      <td>0.0</td>\n",
       "      <td>8.0</td>\n",
       "      <td>0.0</td>\n",
       "      <td>0.0</td>\n",
       "      <td>0.0</td>\n",
       "      <td>0.0</td>\n",
       "      <td>0.0</td>\n",
       "      <td>7137.0</td>\n",
       "      <td>18100.0</td>\n",
       "    </tr>\n",
       "  </tbody>\n",
       "</table>\n",
       "<p>2 rows × 46 columns</p>\n",
       "</div>"
      ],
      "text/plain": [
       "   loan_amnt  funded_amnt        term int_rate  installment  grade sub_grade  \\\n",
       "0    20800.0      20800.0   36 months   13.53%       706.16      6        B5   \n",
       "2    12000.0      12000.0   36 months   10.99%       392.81      6        B2   \n",
       "\n",
       "   emp_length  home_ownership  annual_inc       ...        \\\n",
       "0          10               2     81500.0       ...         \n",
       "2           4               2     60000.0       ...         \n",
       "\n",
       "   collections_12_mths_ex_med  acc_now_delinq acc_open_past_24mths  \\\n",
       "0                         0.0             0.0                  9.0   \n",
       "2                         0.0             0.0                  8.0   \n",
       "\n",
       "  chargeoff_within_12_mths delinq_amnt  mort_acc  pub_rec_bankruptcies  \\\n",
       "0                      0.0         0.0       0.0                   0.0   \n",
       "2                      0.0         0.0       0.0                   0.0   \n",
       "\n",
       "   tax_liens  total_bal_ex_mort  total_bc_limit  \n",
       "0        0.0            23473.0         15000.0  \n",
       "2        0.0             7137.0         18100.0  \n",
       "\n",
       "[2 rows x 46 columns]"
      ]
     },
     "execution_count": 13,
     "metadata": {},
     "output_type": "execute_result"
    }
   ],
   "source": [
    "data['grade'] = data['grade'].map({'A':7,'B':6,'C':5,'D':4,'E':3,'F':2,'G':1})\n",
    "\n",
    "data[\"home_ownership\"] = data[\"home_ownership\"].map({\"MORTGAGE\":1,\"RENT\":2,\"OWN\":3,\"OTHER\":4,\"NONE\":5,\"ANY\":6})\n",
    "\n",
    "data[\"verification_status\"] = data[\"verification_status\"].map({\"Verified\":1,\"Not Verfified\":2, \"Source Verfied\":3})\n",
    "\n",
    "#code used from stackoverflow.com\n",
    "data[\"emp_length\"] = data[\"emp_length\"].replace({'years':'','year':'',' ':'','<':'','\\+':'','n/a':'0'}, regex = True)\n",
    "#code used from stackoverflow.com\n",
    "\n",
    "data[\"emp_length\"] = data[\"emp_length\"].apply(lambda x:int(x))\n",
    "\n",
    "\n",
    "data.head(2)"
   ]
  },
  {
   "cell_type": "code",
   "execution_count": 14,
   "metadata": {
    "collapsed": true
   },
   "outputs": [],
   "source": [
    "#code from textbook- Handbook for scikit learn\n",
    "data ['int_rate'] = data['int_rate'].apply(lambda x:float(x.rstrip('%'))/100)\n",
    "#removing % sign, conv to float  - int_rate column\n",
    "data= data.reset_index(drop=True)"
   ]
  },
  {
   "cell_type": "markdown",
   "metadata": {},
   "source": [
    "Relationship between term and Grade of the loan"
   ]
  },
  {
   "cell_type": "code",
   "execution_count": 15,
   "metadata": {
    "scrolled": false
   },
   "outputs": [
    {
     "data": {
      "text/plain": [
       "<matplotlib.axes._subplots.AxesSubplot at 0x1a18773b70>"
      ]
     },
     "execution_count": 15,
     "metadata": {},
     "output_type": "execute_result"
    },
    {
     "data": {
      "image/png": "[encoded data removed]",
      "text/plain": [
       "<matplotlib.figure.Figure at 0x1a18841a90>"
      ]
     },
     "metadata": {},
     "output_type": "display_data"
    }
   ],
   "source": [
    "data.groupby(['grade','term']).size().unstack().plot(kind='bar')"
   ]
  },
  {
   "cell_type": "code",
   "execution_count": 16,
   "metadata": {
    "scrolled": false
   },
   "outputs": [
    {
     "data": {
      "image/png": "[encoded data removed]",
      "text/plain": [
       "<matplotlib.figure.Figure at 0x1a186e9f98>"
      ]
     },
     "metadata": {},
     "output_type": "display_data"
    }
   ],
   "source": [
    "sns.set_style(\"whitegrid\")\n",
    "fig, axs = plt.subplots(1,2,figsize=(18,6))\n",
    "sns.distplot(data.loan_amnt, ax=axs[0])\n",
    "axs[0].set(xlabel='Loan Amount', \n",
    "       ylabel='% Distribution',title='Density Plot of Loan Amount')\n",
    "sns.violinplot(data.loan_amnt,color=\"g\", ax=axs[1])\n",
    "axs[1].set(xlabel='Loan Amount', \n",
    "       ylabel='Distribution',title='Violin Plot of Loan Amount')\n",
    "plt.legend()\n",
    "plt.show()"
   ]
  },
  {
   "cell_type": "markdown",
   "metadata": {},
   "source": [
    "Relationship between loan_status and purpose of the loan"
   ]
  },
  {
   "cell_type": "code",
   "execution_count": 17,
   "metadata": {},
   "outputs": [
    {
     "data": {
      "image/png": "[encoded data removed]",
      "text/plain": [
       "<matplotlib.figure.Figure at 0x1a11259860>"
      ]
     },
     "metadata": {},
     "output_type": "display_data"
    }
   ],
   "source": [
    "a = sns.factorplot(x = \"loan_status\", hue = \"purpose\", data = data, \n",
    "                   kind = 'count', size = 7, aspect = .9)"
   ]
  },
  {
   "cell_type": "code",
   "execution_count": 18,
   "metadata": {
    "collapsed": true
   },
   "outputs": [],
   "source": [
    "#Encode the categorical data\n",
    "from sklearn.preprocessing import LabelEncoder\n",
    "\n",
    "a = LabelEncoder()\n",
    "\n",
    "data = data\n",
    "     \n",
    "cols_encode = ['sub_grade', 'emp_length', 'purpose','initial_list_status','addr_state', 'zip_code', 'term']\n",
    "\n",
    "for col_name in cols_encode:\n",
    "    data[col_name] = a.fit_transform(data[col_name].astype('str'))"
   ]
  },
  {
   "cell_type": "code",
   "execution_count": 19,
   "metadata": {
    "scrolled": false
   },
   "outputs": [
    {
     "data": {
      "text/plain": [
       "(164139, 25)"
      ]
     },
     "execution_count": 19,
     "metadata": {},
     "output_type": "execute_result"
    }
   ],
   "source": [
    "cleandata = data [['loan_amnt', 'term', 'int_rate', 'installment', 'grade', 'sub_grade',\n",
    "           'emp_length', 'home_ownership', 'annual_inc','purpose', 'zip_code', \n",
    "           'addr_state', 'dti','delinq_2yrs', 'fico_range_low', 'inq_last_6mths', 'open_acc',\n",
    "           'revol_bal', 'initial_list_status',\n",
    "           'total_pymnt', 'total_rec_prncp',\n",
    "           'last_fico_range_high','total_bal_ex_mort', 'total_bc_limit','loan_status']]\n",
    "cleandata.shape"
   ]
  },
  {
   "cell_type": "code",
   "execution_count": 20,
   "metadata": {
    "scrolled": true
   },
   "outputs": [
    {
     "data": {
      "text/plain": [
       "1    137828\n",
       "0     26311\n",
       "Name: loan_status, dtype: int64"
      ]
     },
     "execution_count": 20,
     "metadata": {},
     "output_type": "execute_result"
    }
   ],
   "source": [
    "scl = preprocessing.StandardScaler() #instance of preprocessing\n",
    "fields = cleandata.columns.values[:-1]\n",
    "data = pd.DataFrame(scl.fit_transform(cleandata[fields]), columns = fields)\n",
    "cleandata['loan_status'] = cleandata['loan_status']\n",
    "cleandata['loan_status'].value_counts()"
   ]
  },
  {
   "cell_type": "code",
   "execution_count": 21,
   "metadata": {
    "collapsed": true
   },
   "outputs": [],
   "source": [
    "X = cleandata [['loan_amnt', 'term', 'int_rate', 'installment', 'grade', 'sub_grade',\n",
    "           'emp_length', 'home_ownership', 'annual_inc','purpose', 'zip_code', \n",
    "           'addr_state', 'dti','delinq_2yrs', 'fico_range_low', 'inq_last_6mths', 'open_acc',\n",
    "           'revol_bal', 'initial_list_status',\n",
    "           'total_pymnt', 'total_rec_prncp',\n",
    "           'last_fico_range_high','total_bal_ex_mort', 'total_bc_limit']]\n",
    "\n",
    "Y = cleandata[['loan_status']]"
   ]
  },
  {
   "cell_type": "code",
   "execution_count": 22,
   "metadata": {
    "collapsed": true
   },
   "outputs": [],
   "source": [
    "X_train1, X_test1, Y_train1, Y_test1 = train_test_split(X, Y, test_size = 0.2)"
   ]
  },
  {
   "cell_type": "code",
   "execution_count": 23,
   "metadata": {
    "collapsed": true
   },
   "outputs": [],
   "source": [
    "X_train2, X_test2, Y_train2, Y_test2 = train_test_split(X_train1, Y_train1, test_size=0.1)"
   ]
  },
  {
   "cell_type": "code",
   "execution_count": 24,
   "metadata": {},
   "outputs": [
    {
     "name": "stdout",
     "output_type": "stream",
     "text": [
      "Number of null values:\n",
      "loan_amnt               0\n",
      "term                    0\n",
      "int_rate                0\n",
      "installment             0\n",
      "grade                   0\n",
      "sub_grade               0\n",
      "emp_length              0\n",
      "home_ownership          0\n",
      "annual_inc              0\n",
      "purpose                 0\n",
      "zip_code                0\n",
      "addr_state              0\n",
      "dti                     0\n",
      "delinq_2yrs             0\n",
      "fico_range_low          0\n",
      "inq_last_6mths          0\n",
      "open_acc                0\n",
      "revol_bal               0\n",
      "initial_list_status     0\n",
      "total_pymnt             0\n",
      "total_rec_prncp         0\n",
      "last_fico_range_high    0\n",
      "total_bal_ex_mort       0\n",
      "total_bc_limit          0\n",
      "dtype: int64\n"
     ]
    }
   ],
   "source": [
    "nullcount = X.isnull().sum()\n",
    "print(\"Number of null values:\\n{}\".format(nullcount))"
   ]
  },
  {
   "cell_type": "code",
   "execution_count": 25,
   "metadata": {},
   "outputs": [
    {
     "name": "stderr",
     "output_type": "stream",
     "text": [
      "/Applications/anaconda3/lib/python3.6/site-packages/sklearn/utils/validation.py:578: DataConversionWarning: A column-vector y was passed when a 1d array was expected. Please change the shape of y to (n_samples, ), for example using ravel().\n",
      "  y = column_or_1d(y, warn=True)\n"
     ]
    },
    {
     "name": "stdout",
     "output_type": "stream",
     "text": [
      "No.of features: 10\n",
      "[ True False False  True False False False False False False  True  True\n",
      "  True False  True False  True False False  True  True  True False False]\n",
      "[ 1 10 13  1  3  2  8 11  6  4  1  1  1 14  1 12  1  7 15  1  1  1  9  5]\n"
     ]
    }
   ],
   "source": [
    "from sklearn.feature_selection import RFE\n",
    "\n",
    "clf_LR = linear_model.LogisticRegression()\n",
    "clf_LR.fit(X_train2,Y_train2)\n",
    "rfe = RFE(clf_LR, 10)\n",
    "rfe = rfe.fit(X_train2, Y_train2)\n",
    "# summarize the selection of the attributes\n",
    "print('No.of features: ' +  str ((rfe.n_features_)))\n",
    "print(rfe.support_)\n",
    "print(rfe.ranking_)"
   ]
  },
  {
   "cell_type": "code",
   "execution_count": 26,
   "metadata": {},
   "outputs": [
    {
     "data": {
      "text/html": [
       "<style  type=\"text/css\" >\n",
       "    #T_6d784876_2bf0_11e8_9386_9801a78ac6dbrow0_col0 {\n",
       "            background-color:  #b40426;\n",
       "        }    #T_6d784876_2bf0_11e8_9386_9801a78ac6dbrow0_col1 {\n",
       "            background-color:  #d9dce1;\n",
       "        }    #T_6d784876_2bf0_11e8_9386_9801a78ac6dbrow0_col2 {\n",
       "            background-color:  #90b2fe;\n",
       "        }    #T_6d784876_2bf0_11e8_9386_9801a78ac6dbrow0_col3 {\n",
       "            background-color:  #c0282f;\n",
       "        }    #T_6d784876_2bf0_11e8_9386_9801a78ac6dbrow0_col4 {\n",
       "            background-color:  #3f53c6;\n",
       "        }    #T_6d784876_2bf0_11e8_9386_9801a78ac6dbrow0_col5 {\n",
       "            background-color:  #97b8ff;\n",
       "        }    #T_6d784876_2bf0_11e8_9386_9801a78ac6dbrow0_col6 {\n",
       "            background-color:  #6a8bef;\n",
       "        }    #T_6d784876_2bf0_11e8_9386_9801a78ac6dbrow0_col7 {\n",
       "            background-color:  #3b4cc0;\n",
       "        }    #T_6d784876_2bf0_11e8_9386_9801a78ac6dbrow0_col8 {\n",
       "            background-color:  #d1dae9;\n",
       "        }    #T_6d784876_2bf0_11e8_9386_9801a78ac6dbrow0_col9 {\n",
       "            background-color:  #4257c9;\n",
       "        }    #T_6d784876_2bf0_11e8_9386_9801a78ac6dbrow0_col10 {\n",
       "            background-color:  #6687ed;\n",
       "        }    #T_6d784876_2bf0_11e8_9386_9801a78ac6dbrow0_col11 {\n",
       "            background-color:  #6b8df0;\n",
       "        }    #T_6d784876_2bf0_11e8_9386_9801a78ac6dbrow0_col12 {\n",
       "            background-color:  #7093f3;\n",
       "        }    #T_6d784876_2bf0_11e8_9386_9801a78ac6dbrow0_col13 {\n",
       "            background-color:  #6a8bef;\n",
       "        }    #T_6d784876_2bf0_11e8_9386_9801a78ac6dbrow0_col14 {\n",
       "            background-color:  #88abfd;\n",
       "        }    #T_6d784876_2bf0_11e8_9386_9801a78ac6dbrow0_col15 {\n",
       "            background-color:  #6f92f3;\n",
       "        }    #T_6d784876_2bf0_11e8_9386_9801a78ac6dbrow0_col16 {\n",
       "            background-color:  #a2c1ff;\n",
       "        }    #T_6d784876_2bf0_11e8_9386_9801a78ac6dbrow0_col17 {\n",
       "            background-color:  #c4d5f3;\n",
       "        }    #T_6d784876_2bf0_11e8_9386_9801a78ac6dbrow0_col18 {\n",
       "            background-color:  #6e90f2;\n",
       "        }    #T_6d784876_2bf0_11e8_9386_9801a78ac6dbrow0_col19 {\n",
       "            background-color:  #d55042;\n",
       "        }    #T_6d784876_2bf0_11e8_9386_9801a78ac6dbrow0_col20 {\n",
       "            background-color:  #e36b54;\n",
       "        }    #T_6d784876_2bf0_11e8_9386_9801a78ac6dbrow0_col21 {\n",
       "            background-color:  #7b9ff9;\n",
       "        }    #T_6d784876_2bf0_11e8_9386_9801a78ac6dbrow0_col22 {\n",
       "            background-color:  #bad0f8;\n",
       "        }    #T_6d784876_2bf0_11e8_9386_9801a78ac6dbrow0_col23 {\n",
       "            background-color:  #d2dbe8;\n",
       "        }    #T_6d784876_2bf0_11e8_9386_9801a78ac6dbrow1_col0 {\n",
       "            background-color:  #f0cdbb;\n",
       "        }    #T_6d784876_2bf0_11e8_9386_9801a78ac6dbrow1_col1 {\n",
       "            background-color:  #b40426;\n",
       "        }    #T_6d784876_2bf0_11e8_9386_9801a78ac6dbrow1_col2 {\n",
       "            background-color:  #f3c8b2;\n",
       "        }    #T_6d784876_2bf0_11e8_9386_9801a78ac6dbrow1_col3 {\n",
       "            background-color:  #cbd8ee;\n",
       "        }    #T_6d784876_2bf0_11e8_9386_9801a78ac6dbrow1_col4 {\n",
       "            background-color:  #3b4cc0;\n",
       "        }    #T_6d784876_2bf0_11e8_9386_9801a78ac6dbrow1_col5 {\n",
       "            background-color:  #f5c2aa;\n",
       "        }    #T_6d784876_2bf0_11e8_9386_9801a78ac6dbrow1_col6 {\n",
       "            background-color:  #a5c3fe;\n",
       "        }    #T_6d784876_2bf0_11e8_9386_9801a78ac6dbrow1_col7 {\n",
       "            background-color:  #8badfd;\n",
       "        }    #T_6d784876_2bf0_11e8_9386_9801a78ac6dbrow1_col8 {\n",
       "            background-color:  #b3cdfb;\n",
       "        }    #T_6d784876_2bf0_11e8_9386_9801a78ac6dbrow1_col9 {\n",
       "            background-color:  #9ebeff;\n",
       "        }    #T_6d784876_2bf0_11e8_9386_9801a78ac6dbrow1_col10 {\n",
       "            background-color:  #9dbdff;\n",
       "        }    #T_6d784876_2bf0_11e8_9386_9801a78ac6dbrow1_col11 {\n",
       "            background-color:  #a6c4fe;\n",
       "        }    #T_6d784876_2bf0_11e8_9386_9801a78ac6dbrow1_col12 {\n",
       "            background-color:  #afcafc;\n",
       "        }    #T_6d784876_2bf0_11e8_9386_9801a78ac6dbrow1_col13 {\n",
       "            background-color:  #a2c1ff;\n",
       "        }    #T_6d784876_2bf0_11e8_9386_9801a78ac6dbrow1_col14 {\n",
       "            background-color:  #a1c0ff;\n",
       "        }    #T_6d784876_2bf0_11e8_9386_9801a78ac6dbrow1_col15 {\n",
       "            background-color:  #b1cbfc;\n",
       "        }    #T_6d784876_2bf0_11e8_9386_9801a78ac6dbrow1_col16 {\n",
       "            background-color:  #b2ccfb;\n",
       "        }    #T_6d784876_2bf0_11e8_9386_9801a78ac6dbrow1_col17 {\n",
       "            background-color:  #b5cdfa;\n",
       "        }    #T_6d784876_2bf0_11e8_9386_9801a78ac6dbrow1_col18 {\n",
       "            background-color:  #9ebeff;\n",
       "        }    #T_6d784876_2bf0_11e8_9386_9801a78ac6dbrow1_col19 {\n",
       "            background-color:  #e3d9d3;\n",
       "        }    #T_6d784876_2bf0_11e8_9386_9801a78ac6dbrow1_col20 {\n",
       "            background-color:  #cdd9ec;\n",
       "        }    #T_6d784876_2bf0_11e8_9386_9801a78ac6dbrow1_col21 {\n",
       "            background-color:  #8badfd;\n",
       "        }    #T_6d784876_2bf0_11e8_9386_9801a78ac6dbrow1_col22 {\n",
       "            background-color:  #bad0f8;\n",
       "        }    #T_6d784876_2bf0_11e8_9386_9801a78ac6dbrow1_col23 {\n",
       "            background-color:  #b2ccfb;\n",
       "        }    #T_6d784876_2bf0_11e8_9386_9801a78ac6dbrow2_col0 {\n",
       "            background-color:  #ead4c8;\n",
       "        }    #T_6d784876_2bf0_11e8_9386_9801a78ac6dbrow2_col1 {\n",
       "            background-color:  #f7a889;\n",
       "        }    #T_6d784876_2bf0_11e8_9386_9801a78ac6dbrow2_col2 {\n",
       "            background-color:  #b40426;\n",
       "        }    #T_6d784876_2bf0_11e8_9386_9801a78ac6dbrow2_col3 {\n",
       "            background-color:  #ead4c8;\n",
       "        }    #T_6d784876_2bf0_11e8_9386_9801a78ac6dbrow2_col4 {\n",
       "            background-color:  #3b4cc0;\n",
       "        }    #T_6d784876_2bf0_11e8_9386_9801a78ac6dbrow2_col5 {\n",
       "            background-color:  #b50927;\n",
       "        }    #T_6d784876_2bf0_11e8_9386_9801a78ac6dbrow2_col6 {\n",
       "            background-color:  #dbdcde;\n",
       "        }    #T_6d784876_2bf0_11e8_9386_9801a78ac6dbrow2_col7 {\n",
       "            background-color:  #e8d6cc;\n",
       "        }    #T_6d784876_2bf0_11e8_9386_9801a78ac6dbrow2_col8 {\n",
       "            background-color:  #d4dbe6;\n",
       "        }    #T_6d784876_2bf0_11e8_9386_9801a78ac6dbrow2_col9 {\n",
       "            background-color:  #efcebd;\n",
       "        }    #T_6d784876_2bf0_11e8_9386_9801a78ac6dbrow2_col10 {\n",
       "            background-color:  #d9dce1;\n",
       "        }    #T_6d784876_2bf0_11e8_9386_9801a78ac6dbrow2_col11 {\n",
       "            background-color:  #dbdcde;\n",
       "        }    #T_6d784876_2bf0_11e8_9386_9801a78ac6dbrow2_col12 {\n",
       "            background-color:  #ebd3c6;\n",
       "        }    #T_6d784876_2bf0_11e8_9386_9801a78ac6dbrow2_col13 {\n",
       "            background-color:  #e6d7cf;\n",
       "        }    #T_6d784876_2bf0_11e8_9386_9801a78ac6dbrow2_col14 {\n",
       "            background-color:  #7da0f9;\n",
       "        }    #T_6d784876_2bf0_11e8_9386_9801a78ac6dbrow2_col15 {\n",
       "            background-color:  #f4c6af;\n",
       "        }    #T_6d784876_2bf0_11e8_9386_9801a78ac6dbrow2_col16 {\n",
       "            background-color:  #dadce0;\n",
       "        }    #T_6d784876_2bf0_11e8_9386_9801a78ac6dbrow2_col17 {\n",
       "            background-color:  #d7dce3;\n",
       "        }    #T_6d784876_2bf0_11e8_9386_9801a78ac6dbrow2_col18 {\n",
       "            background-color:  #d5dbe5;\n",
       "        }    #T_6d784876_2bf0_11e8_9386_9801a78ac6dbrow2_col19 {\n",
       "            background-color:  #e8d6cc;\n",
       "        }    #T_6d784876_2bf0_11e8_9386_9801a78ac6dbrow2_col20 {\n",
       "            background-color:  #d6dce4;\n",
       "        }    #T_6d784876_2bf0_11e8_9386_9801a78ac6dbrow2_col21 {\n",
       "            background-color:  #a3c2fe;\n",
       "        }    #T_6d784876_2bf0_11e8_9386_9801a78ac6dbrow2_col22 {\n",
       "            background-color:  #dddcdc;\n",
       "        }    #T_6d784876_2bf0_11e8_9386_9801a78ac6dbrow2_col23 {\n",
       "            background-color:  #aec9fc;\n",
       "        }    #T_6d784876_2bf0_11e8_9386_9801a78ac6dbrow3_col0 {\n",
       "            background-color:  #c0282f;\n",
       "        }    #T_6d784876_2bf0_11e8_9386_9801a78ac6dbrow3_col1 {\n",
       "            background-color:  #98b9ff;\n",
       "        }    #T_6d784876_2bf0_11e8_9386_9801a78ac6dbrow3_col2 {\n",
       "            background-color:  #86a9fc;\n",
       "        }    #T_6d784876_2bf0_11e8_9386_9801a78ac6dbrow3_col3 {\n",
       "            background-color:  #b40426;\n",
       "        }    #T_6d784876_2bf0_11e8_9386_9801a78ac6dbrow3_col4 {\n",
       "            background-color:  #3b4cc0;\n",
       "        }    #T_6d784876_2bf0_11e8_9386_9801a78ac6dbrow3_col5 {\n",
       "            background-color:  #8caffe;\n",
       "        }    #T_6d784876_2bf0_11e8_9386_9801a78ac6dbrow3_col6 {\n",
       "            background-color:  #6282ea;\n",
       "        }    #T_6d784876_2bf0_11e8_9386_9801a78ac6dbrow3_col7 {\n",
       "            background-color:  #3b4cc0;\n",
       "        }    #T_6d784876_2bf0_11e8_9386_9801a78ac6dbrow3_col8 {\n",
       "            background-color:  #ccd9ed;\n",
       "        }    #T_6d784876_2bf0_11e8_9386_9801a78ac6dbrow3_col9 {\n",
       "            background-color:  #3d50c3;\n",
       "        }    #T_6d784876_2bf0_11e8_9386_9801a78ac6dbrow3_col10 {\n",
       "            background-color:  #6180e9;\n",
       "        }    #T_6d784876_2bf0_11e8_9386_9801a78ac6dbrow3_col11 {\n",
       "            background-color:  #6384eb;\n",
       "        }    #T_6d784876_2bf0_11e8_9386_9801a78ac6dbrow3_col12 {\n",
       "            background-color:  #6a8bef;\n",
       "        }    #T_6d784876_2bf0_11e8_9386_9801a78ac6dbrow3_col13 {\n",
       "            background-color:  #6687ed;\n",
       "        }    #T_6d784876_2bf0_11e8_9386_9801a78ac6dbrow3_col14 {\n",
       "            background-color:  #6f92f3;\n",
       "        }    #T_6d784876_2bf0_11e8_9386_9801a78ac6dbrow3_col15 {\n",
       "            background-color:  #6c8ff1;\n",
       "        }    #T_6d784876_2bf0_11e8_9386_9801a78ac6dbrow3_col16 {\n",
       "            background-color:  #9abbff;\n",
       "        }    #T_6d784876_2bf0_11e8_9386_9801a78ac6dbrow3_col17 {\n",
       "            background-color:  #bed2f6;\n",
       "        }    #T_6d784876_2bf0_11e8_9386_9801a78ac6dbrow3_col18 {\n",
       "            background-color:  #6687ed;\n",
       "        }    #T_6d784876_2bf0_11e8_9386_9801a78ac6dbrow3_col19 {\n",
       "            background-color:  #da5a49;\n",
       "        }    #T_6d784876_2bf0_11e8_9386_9801a78ac6dbrow3_col20 {\n",
       "            background-color:  #e46e56;\n",
       "        }    #T_6d784876_2bf0_11e8_9386_9801a78ac6dbrow3_col21 {\n",
       "            background-color:  #7295f4;\n",
       "        }    #T_6d784876_2bf0_11e8_9386_9801a78ac6dbrow3_col22 {\n",
       "            background-color:  #b2ccfb;\n",
       "        }    #T_6d784876_2bf0_11e8_9386_9801a78ac6dbrow3_col23 {\n",
       "            background-color:  #c5d6f2;\n",
       "        }    #T_6d784876_2bf0_11e8_9386_9801a78ac6dbrow4_col0 {\n",
       "            background-color:  #c6d6f1;\n",
       "        }    #T_6d784876_2bf0_11e8_9386_9801a78ac6dbrow4_col1 {\n",
       "            background-color:  #93b5fe;\n",
       "        }    #T_6d784876_2bf0_11e8_9386_9801a78ac6dbrow4_col2 {\n",
       "            background-color:  #3c4ec2;\n",
       "        }    #T_6d784876_2bf0_11e8_9386_9801a78ac6dbrow4_col3 {\n",
       "            background-color:  #c7d7f0;\n",
       "        }    #T_6d784876_2bf0_11e8_9386_9801a78ac6dbrow4_col4 {\n",
       "            background-color:  #b40426;\n",
       "        }    #T_6d784876_2bf0_11e8_9386_9801a78ac6dbrow4_col5 {\n",
       "            background-color:  #3b4cc0;\n",
       "        }    #T_6d784876_2bf0_11e8_9386_9801a78ac6dbrow4_col6 {\n",
       "            background-color:  #dadce0;\n",
       "        }    #T_6d784876_2bf0_11e8_9386_9801a78ac6dbrow4_col7 {\n",
       "            background-color:  #cedaeb;\n",
       "        }    #T_6d784876_2bf0_11e8_9386_9801a78ac6dbrow4_col8 {\n",
       "            background-color:  #dfdbd9;\n",
       "        }    #T_6d784876_2bf0_11e8_9386_9801a78ac6dbrow4_col9 {\n",
       "            background-color:  #c0d4f5;\n",
       "        }    #T_6d784876_2bf0_11e8_9386_9801a78ac6dbrow4_col10 {\n",
       "            background-color:  #dcdddd;\n",
       "        }    #T_6d784876_2bf0_11e8_9386_9801a78ac6dbrow4_col11 {\n",
       "            background-color:  #dadce0;\n",
       "        }    #T_6d784876_2bf0_11e8_9386_9801a78ac6dbrow4_col12 {\n",
       "            background-color:  #cad8ef;\n",
       "        }    #T_6d784876_2bf0_11e8_9386_9801a78ac6dbrow4_col13 {\n",
       "            background-color:  #cfdaea;\n",
       "        }    #T_6d784876_2bf0_11e8_9386_9801a78ac6dbrow4_col14 {\n",
       "            background-color:  #f59c7d;\n",
       "        }    #T_6d784876_2bf0_11e8_9386_9801a78ac6dbrow4_col15 {\n",
       "            background-color:  #b6cefa;\n",
       "        }    #T_6d784876_2bf0_11e8_9386_9801a78ac6dbrow4_col16 {\n",
       "            background-color:  #dadce0;\n",
       "        }    #T_6d784876_2bf0_11e8_9386_9801a78ac6dbrow4_col17 {\n",
       "            background-color:  #dddcdc;\n",
       "        }    #T_6d784876_2bf0_11e8_9386_9801a78ac6dbrow4_col18 {\n",
       "            background-color:  #e0dbd8;\n",
       "        }    #T_6d784876_2bf0_11e8_9386_9801a78ac6dbrow4_col19 {\n",
       "            background-color:  #cbd8ee;\n",
       "        }    #T_6d784876_2bf0_11e8_9386_9801a78ac6dbrow4_col20 {\n",
       "            background-color:  #dedcdb;\n",
       "        }    #T_6d784876_2bf0_11e8_9386_9801a78ac6dbrow4_col21 {\n",
       "            background-color:  #f7bca1;\n",
       "        }    #T_6d784876_2bf0_11e8_9386_9801a78ac6dbrow4_col22 {\n",
       "            background-color:  #d7dce3;\n",
       "        }    #T_6d784876_2bf0_11e8_9386_9801a78ac6dbrow4_col23 {\n",
       "            background-color:  #f4c6af;\n",
       "        }    #T_6d784876_2bf0_11e8_9386_9801a78ac6dbrow5_col0 {\n",
       "            background-color:  #edd1c2;\n",
       "        }    #T_6d784876_2bf0_11e8_9386_9801a78ac6dbrow5_col1 {\n",
       "            background-color:  #f6a283;\n",
       "        }    #T_6d784876_2bf0_11e8_9386_9801a78ac6dbrow5_col2 {\n",
       "            background-color:  #b50927;\n",
       "        }    #T_6d784876_2bf0_11e8_9386_9801a78ac6dbrow5_col3 {\n",
       "            background-color:  #edd2c3;\n",
       "        }    #T_6d784876_2bf0_11e8_9386_9801a78ac6dbrow5_col4 {\n",
       "            background-color:  #3b4cc0;\n",
       "        }    #T_6d784876_2bf0_11e8_9386_9801a78ac6dbrow5_col5 {\n",
       "            background-color:  #b40426;\n",
       "        }    #T_6d784876_2bf0_11e8_9386_9801a78ac6dbrow5_col6 {\n",
       "            background-color:  #dcdddd;\n",
       "        }    #T_6d784876_2bf0_11e8_9386_9801a78ac6dbrow5_col7 {\n",
       "            background-color:  #e7d7ce;\n",
       "        }    #T_6d784876_2bf0_11e8_9386_9801a78ac6dbrow5_col8 {\n",
       "            background-color:  #d7dce3;\n",
       "        }    #T_6d784876_2bf0_11e8_9386_9801a78ac6dbrow5_col9 {\n",
       "            background-color:  #f1cdba;\n",
       "        }    #T_6d784876_2bf0_11e8_9386_9801a78ac6dbrow5_col10 {\n",
       "            background-color:  #dadce0;\n",
       "        }    #T_6d784876_2bf0_11e8_9386_9801a78ac6dbrow5_col11 {\n",
       "            background-color:  #dbdcde;\n",
       "        }    #T_6d784876_2bf0_11e8_9386_9801a78ac6dbrow5_col12 {\n",
       "            background-color:  #ead4c8;\n",
       "        }    #T_6d784876_2bf0_11e8_9386_9801a78ac6dbrow5_col13 {\n",
       "            background-color:  #e6d7cf;\n",
       "        }    #T_6d784876_2bf0_11e8_9386_9801a78ac6dbrow5_col14 {\n",
       "            background-color:  #85a8fc;\n",
       "        }    #T_6d784876_2bf0_11e8_9386_9801a78ac6dbrow5_col15 {\n",
       "            background-color:  #f4c5ad;\n",
       "        }    #T_6d784876_2bf0_11e8_9386_9801a78ac6dbrow5_col16 {\n",
       "            background-color:  #dcdddd;\n",
       "        }    #T_6d784876_2bf0_11e8_9386_9801a78ac6dbrow5_col17 {\n",
       "            background-color:  #d9dce1;\n",
       "        }    #T_6d784876_2bf0_11e8_9386_9801a78ac6dbrow5_col18 {\n",
       "            background-color:  #d6dce4;\n",
       "        }    #T_6d784876_2bf0_11e8_9386_9801a78ac6dbrow5_col19 {\n",
       "            background-color:  #ead4c8;\n",
       "        }    #T_6d784876_2bf0_11e8_9386_9801a78ac6dbrow5_col20 {\n",
       "            background-color:  #d9dce1;\n",
       "        }    #T_6d784876_2bf0_11e8_9386_9801a78ac6dbrow5_col21 {\n",
       "            background-color:  #a7c5fe;\n",
       "        }    #T_6d784876_2bf0_11e8_9386_9801a78ac6dbrow5_col22 {\n",
       "            background-color:  #e0dbd8;\n",
       "        }    #T_6d784876_2bf0_11e8_9386_9801a78ac6dbrow5_col23 {\n",
       "            background-color:  #b3cdfb;\n",
       "        }    #T_6d784876_2bf0_11e8_9386_9801a78ac6dbrow6_col0 {\n",
       "            background-color:  #445acc;\n",
       "        }    #T_6d784876_2bf0_11e8_9386_9801a78ac6dbrow6_col1 {\n",
       "            background-color:  #455cce;\n",
       "        }    #T_6d784876_2bf0_11e8_9386_9801a78ac6dbrow6_col2 {\n",
       "            background-color:  #445acc;\n",
       "        }    #T_6d784876_2bf0_11e8_9386_9801a78ac6dbrow6_col3 {\n",
       "            background-color:  #445acc;\n",
       "        }    #T_6d784876_2bf0_11e8_9386_9801a78ac6dbrow6_col4 {\n",
       "            background-color:  #3f53c6;\n",
       "        }    #T_6d784876_2bf0_11e8_9386_9801a78ac6dbrow6_col5 {\n",
       "            background-color:  #445acc;\n",
       "        }    #T_6d784876_2bf0_11e8_9386_9801a78ac6dbrow6_col6 {\n",
       "            background-color:  #b40426;\n",
       "        }    #T_6d784876_2bf0_11e8_9386_9801a78ac6dbrow6_col7 {\n",
       "            background-color:  #3c4ec2;\n",
       "        }    #T_6d784876_2bf0_11e8_9386_9801a78ac6dbrow6_col8 {\n",
       "            background-color:  #4358cb;\n",
       "        }    #T_6d784876_2bf0_11e8_9386_9801a78ac6dbrow6_col9 {\n",
       "            background-color:  #4055c8;\n",
       "        }    #T_6d784876_2bf0_11e8_9386_9801a78ac6dbrow6_col10 {\n",
       "            background-color:  #455cce;\n",
       "        }    #T_6d784876_2bf0_11e8_9386_9801a78ac6dbrow6_col11 {\n",
       "            background-color:  #3c4ec2;\n",
       "        }    #T_6d784876_2bf0_11e8_9386_9801a78ac6dbrow6_col12 {\n",
       "            background-color:  #4257c9;\n",
       "        }    #T_6d784876_2bf0_11e8_9386_9801a78ac6dbrow6_col13 {\n",
       "            background-color:  #3c4ec2;\n",
       "        }    #T_6d784876_2bf0_11e8_9386_9801a78ac6dbrow6_col14 {\n",
       "            background-color:  #3e51c5;\n",
       "        }    #T_6d784876_2bf0_11e8_9386_9801a78ac6dbrow6_col15 {\n",
       "            background-color:  #4257c9;\n",
       "        }    #T_6d784876_2bf0_11e8_9386_9801a78ac6dbrow6_col16 {\n",
       "            background-color:  #445acc;\n",
       "        }    #T_6d784876_2bf0_11e8_9386_9801a78ac6dbrow6_col17 {\n",
       "            background-color:  #3b4cc0;\n",
       "        }    #T_6d784876_2bf0_11e8_9386_9801a78ac6dbrow6_col18 {\n",
       "            background-color:  #4055c8;\n",
       "        }    #T_6d784876_2bf0_11e8_9386_9801a78ac6dbrow6_col19 {\n",
       "            background-color:  #4358cb;\n",
       "        }    #T_6d784876_2bf0_11e8_9386_9801a78ac6dbrow6_col20 {\n",
       "            background-color:  #4358cb;\n",
       "        }    #T_6d784876_2bf0_11e8_9386_9801a78ac6dbrow6_col21 {\n",
       "            background-color:  #3d50c3;\n",
       "        }    #T_6d784876_2bf0_11e8_9386_9801a78ac6dbrow6_col22 {\n",
       "            background-color:  #4055c8;\n",
       "        }    #T_6d784876_2bf0_11e8_9386_9801a78ac6dbrow6_col23 {\n",
       "            background-color:  #3b4cc0;\n",
       "        }    #T_6d784876_2bf0_11e8_9386_9801a78ac6dbrow7_col0 {\n",
       "            background-color:  #3c4ec2;\n",
       "        }    #T_6d784876_2bf0_11e8_9386_9801a78ac6dbrow7_col1 {\n",
       "            background-color:  #4f69d9;\n",
       "        }    #T_6d784876_2bf0_11e8_9386_9801a78ac6dbrow7_col2 {\n",
       "            background-color:  #88abfd;\n",
       "        }    #T_6d784876_2bf0_11e8_9386_9801a78ac6dbrow7_col3 {\n",
       "            background-color:  #4358cb;\n",
       "        }    #T_6d784876_2bf0_11e8_9386_9801a78ac6dbrow7_col4 {\n",
       "            background-color:  #4f69d9;\n",
       "        }    #T_6d784876_2bf0_11e8_9386_9801a78ac6dbrow7_col5 {\n",
       "            background-color:  #85a8fc;\n",
       "        }    #T_6d784876_2bf0_11e8_9386_9801a78ac6dbrow7_col6 {\n",
       "            background-color:  #6384eb;\n",
       "        }    #T_6d784876_2bf0_11e8_9386_9801a78ac6dbrow7_col7 {\n",
       "            background-color:  #b40426;\n",
       "        }    #T_6d784876_2bf0_11e8_9386_9801a78ac6dbrow7_col8 {\n",
       "            background-color:  #3b4cc0;\n",
       "        }    #T_6d784876_2bf0_11e8_9386_9801a78ac6dbrow7_col9 {\n",
       "            background-color:  #7597f6;\n",
       "        }    #T_6d784876_2bf0_11e8_9386_9801a78ac6dbrow7_col10 {\n",
       "            background-color:  #6687ed;\n",
       "        }    #T_6d784876_2bf0_11e8_9386_9801a78ac6dbrow7_col11 {\n",
       "            background-color:  #5d7ce6;\n",
       "        }    #T_6d784876_2bf0_11e8_9386_9801a78ac6dbrow7_col12 {\n",
       "            background-color:  #6f92f3;\n",
       "        }    #T_6d784876_2bf0_11e8_9386_9801a78ac6dbrow7_col13 {\n",
       "            background-color:  #5d7ce6;\n",
       "        }    #T_6d784876_2bf0_11e8_9386_9801a78ac6dbrow7_col14 {\n",
       "            background-color:  #4e68d8;\n",
       "        }    #T_6d784876_2bf0_11e8_9386_9801a78ac6dbrow7_col15 {\n",
       "            background-color:  #536edd;\n",
       "        }    #T_6d784876_2bf0_11e8_9386_9801a78ac6dbrow7_col16 {\n",
       "            background-color:  #485fd1;\n",
       "        }    #T_6d784876_2bf0_11e8_9386_9801a78ac6dbrow7_col17 {\n",
       "            background-color:  #465ecf;\n",
       "        }    #T_6d784876_2bf0_11e8_9386_9801a78ac6dbrow7_col18 {\n",
       "            background-color:  #6485ec;\n",
       "        }    #T_6d784876_2bf0_11e8_9386_9801a78ac6dbrow7_col19 {\n",
       "            background-color:  #3f53c6;\n",
       "        }    #T_6d784876_2bf0_11e8_9386_9801a78ac6dbrow7_col20 {\n",
       "            background-color:  #3e51c5;\n",
       "        }    #T_6d784876_2bf0_11e8_9386_9801a78ac6dbrow7_col21 {\n",
       "            background-color:  #5572df;\n",
       "        }    #T_6d784876_2bf0_11e8_9386_9801a78ac6dbrow7_col22 {\n",
       "            background-color:  #465ecf;\n",
       "        }    #T_6d784876_2bf0_11e8_9386_9801a78ac6dbrow7_col23 {\n",
       "            background-color:  #4961d2;\n",
       "        }    #T_6d784876_2bf0_11e8_9386_9801a78ac6dbrow8_col0 {\n",
       "            background-color:  #d5dbe5;\n",
       "        }    #T_6d784876_2bf0_11e8_9386_9801a78ac6dbrow8_col1 {\n",
       "            background-color:  #85a8fc;\n",
       "        }    #T_6d784876_2bf0_11e8_9386_9801a78ac6dbrow8_col2 {\n",
       "            background-color:  #6282ea;\n",
       "        }    #T_6d784876_2bf0_11e8_9386_9801a78ac6dbrow8_col3 {\n",
       "            background-color:  #d4dbe6;\n",
       "        }    #T_6d784876_2bf0_11e8_9386_9801a78ac6dbrow8_col4 {\n",
       "            background-color:  #779af7;\n",
       "        }    #T_6d784876_2bf0_11e8_9386_9801a78ac6dbrow8_col5 {\n",
       "            background-color:  #6687ed;\n",
       "        }    #T_6d784876_2bf0_11e8_9386_9801a78ac6dbrow8_col6 {\n",
       "            background-color:  #7093f3;\n",
       "        }    #T_6d784876_2bf0_11e8_9386_9801a78ac6dbrow8_col7 {\n",
       "            background-color:  #3f53c6;\n",
       "        }    #T_6d784876_2bf0_11e8_9386_9801a78ac6dbrow8_col8 {\n",
       "            background-color:  #b40426;\n",
       "        }    #T_6d784876_2bf0_11e8_9386_9801a78ac6dbrow8_col9 {\n",
       "            background-color:  #7396f5;\n",
       "        }    #T_6d784876_2bf0_11e8_9386_9801a78ac6dbrow8_col10 {\n",
       "            background-color:  #6a8bef;\n",
       "        }    #T_6d784876_2bf0_11e8_9386_9801a78ac6dbrow8_col11 {\n",
       "            background-color:  #6e90f2;\n",
       "        }    #T_6d784876_2bf0_11e8_9386_9801a78ac6dbrow8_col12 {\n",
       "            background-color:  #3b4cc0;\n",
       "        }    #T_6d784876_2bf0_11e8_9386_9801a78ac6dbrow8_col13 {\n",
       "            background-color:  #82a6fb;\n",
       "        }    #T_6d784876_2bf0_11e8_9386_9801a78ac6dbrow8_col14 {\n",
       "            background-color:  #8fb1fe;\n",
       "        }    #T_6d784876_2bf0_11e8_9386_9801a78ac6dbrow8_col15 {\n",
       "            background-color:  #88abfd;\n",
       "        }    #T_6d784876_2bf0_11e8_9386_9801a78ac6dbrow8_col16 {\n",
       "            background-color:  #9dbdff;\n",
       "        }    #T_6d784876_2bf0_11e8_9386_9801a78ac6dbrow8_col17 {\n",
       "            background-color:  #cedaeb;\n",
       "        }    #T_6d784876_2bf0_11e8_9386_9801a78ac6dbrow8_col18 {\n",
       "            background-color:  #7597f6;\n",
       "        }    #T_6d784876_2bf0_11e8_9386_9801a78ac6dbrow8_col19 {\n",
       "            background-color:  #d1dae9;\n",
       "        }    #T_6d784876_2bf0_11e8_9386_9801a78ac6dbrow8_col20 {\n",
       "            background-color:  #d1dae9;\n",
       "        }    #T_6d784876_2bf0_11e8_9386_9801a78ac6dbrow8_col21 {\n",
       "            background-color:  #86a9fc;\n",
       "        }    #T_6d784876_2bf0_11e8_9386_9801a78ac6dbrow8_col22 {\n",
       "            background-color:  #dadce0;\n",
       "        }    #T_6d784876_2bf0_11e8_9386_9801a78ac6dbrow8_col23 {\n",
       "            background-color:  #c4d5f3;\n",
       "        }    #T_6d784876_2bf0_11e8_9386_9801a78ac6dbrow9_col0 {\n",
       "            background-color:  #465ecf;\n",
       "        }    #T_6d784876_2bf0_11e8_9386_9801a78ac6dbrow9_col1 {\n",
       "            background-color:  #688aef;\n",
       "        }    #T_6d784876_2bf0_11e8_9386_9801a78ac6dbrow9_col2 {\n",
       "            background-color:  #a2c1ff;\n",
       "        }    #T_6d784876_2bf0_11e8_9386_9801a78ac6dbrow9_col3 {\n",
       "            background-color:  #4a63d3;\n",
       "        }    #T_6d784876_2bf0_11e8_9386_9801a78ac6dbrow9_col4 {\n",
       "            background-color:  #3b4cc0;\n",
       "        }    #T_6d784876_2bf0_11e8_9386_9801a78ac6dbrow9_col5 {\n",
       "            background-color:  #a5c3fe;\n",
       "        }    #T_6d784876_2bf0_11e8_9386_9801a78ac6dbrow9_col6 {\n",
       "            background-color:  #6b8df0;\n",
       "        }    #T_6d784876_2bf0_11e8_9386_9801a78ac6dbrow9_col7 {\n",
       "            background-color:  #779af7;\n",
       "        }    #T_6d784876_2bf0_11e8_9386_9801a78ac6dbrow9_col8 {\n",
       "            background-color:  #7093f3;\n",
       "        }    #T_6d784876_2bf0_11e8_9386_9801a78ac6dbrow9_col9 {\n",
       "            background-color:  #b40426;\n",
       "        }    #T_6d784876_2bf0_11e8_9386_9801a78ac6dbrow9_col10 {\n",
       "            background-color:  #688aef;\n",
       "        }    #T_6d784876_2bf0_11e8_9386_9801a78ac6dbrow9_col11 {\n",
       "            background-color:  #6b8df0;\n",
       "        }    #T_6d784876_2bf0_11e8_9386_9801a78ac6dbrow9_col12 {\n",
       "            background-color:  #5673e0;\n",
       "        }    #T_6d784876_2bf0_11e8_9386_9801a78ac6dbrow9_col13 {\n",
       "            background-color:  #7295f4;\n",
       "        }    #T_6d784876_2bf0_11e8_9386_9801a78ac6dbrow9_col14 {\n",
       "            background-color:  #80a3fa;\n",
       "        }    #T_6d784876_2bf0_11e8_9386_9801a78ac6dbrow9_col15 {\n",
       "            background-color:  #7b9ff9;\n",
       "        }    #T_6d784876_2bf0_11e8_9386_9801a78ac6dbrow9_col16 {\n",
       "            background-color:  #5875e1;\n",
       "        }    #T_6d784876_2bf0_11e8_9386_9801a78ac6dbrow9_col17 {\n",
       "            background-color:  #5a78e4;\n",
       "        }    #T_6d784876_2bf0_11e8_9386_9801a78ac6dbrow9_col18 {\n",
       "            background-color:  #6384eb;\n",
       "        }    #T_6d784876_2bf0_11e8_9386_9801a78ac6dbrow9_col19 {\n",
       "            background-color:  #4961d2;\n",
       "        }    #T_6d784876_2bf0_11e8_9386_9801a78ac6dbrow9_col20 {\n",
       "            background-color:  #465ecf;\n",
       "        }    #T_6d784876_2bf0_11e8_9386_9801a78ac6dbrow9_col21 {\n",
       "            background-color:  #5b7ae5;\n",
       "        }    #T_6d784876_2bf0_11e8_9386_9801a78ac6dbrow9_col22 {\n",
       "            background-color:  #6788ee;\n",
       "        }    #T_6d784876_2bf0_11e8_9386_9801a78ac6dbrow9_col23 {\n",
       "            background-color:  #5977e3;\n",
       "        }    #T_6d784876_2bf0_11e8_9386_9801a78ac6dbrow10_col0 {\n",
       "            background-color:  #81a4fb;\n",
       "        }    #T_6d784876_2bf0_11e8_9386_9801a78ac6dbrow10_col1 {\n",
       "            background-color:  #7b9ff9;\n",
       "        }    #T_6d784876_2bf0_11e8_9386_9801a78ac6dbrow10_col2 {\n",
       "            background-color:  #81a4fb;\n",
       "        }    #T_6d784876_2bf0_11e8_9386_9801a78ac6dbrow10_col3 {\n",
       "            background-color:  #82a6fb;\n",
       "        }    #T_6d784876_2bf0_11e8_9386_9801a78ac6dbrow10_col4 {\n",
       "            background-color:  #84a7fc;\n",
       "        }    #T_6d784876_2bf0_11e8_9386_9801a78ac6dbrow10_col5 {\n",
       "            background-color:  #80a3fa;\n",
       "        }    #T_6d784876_2bf0_11e8_9386_9801a78ac6dbrow10_col6 {\n",
       "            background-color:  #85a8fc;\n",
       "        }    #T_6d784876_2bf0_11e8_9386_9801a78ac6dbrow10_col7 {\n",
       "            background-color:  #7ea1fa;\n",
       "        }    #T_6d784876_2bf0_11e8_9386_9801a78ac6dbrow10_col8 {\n",
       "            background-color:  #7da0f9;\n",
       "        }    #T_6d784876_2bf0_11e8_9386_9801a78ac6dbrow10_col9 {\n",
       "            background-color:  #7ea1fa;\n",
       "        }    #T_6d784876_2bf0_11e8_9386_9801a78ac6dbrow10_col10 {\n",
       "            background-color:  #b40426;\n",
       "        }    #T_6d784876_2bf0_11e8_9386_9801a78ac6dbrow10_col11 {\n",
       "            background-color:  #3b4cc0;\n",
       "        }    #T_6d784876_2bf0_11e8_9386_9801a78ac6dbrow10_col12 {\n",
       "            background-color:  #85a8fc;\n",
       "        }    #T_6d784876_2bf0_11e8_9386_9801a78ac6dbrow10_col13 {\n",
       "            background-color:  #7ea1fa;\n",
       "        }    #T_6d784876_2bf0_11e8_9386_9801a78ac6dbrow10_col14 {\n",
       "            background-color:  #7b9ff9;\n",
       "        }    #T_6d784876_2bf0_11e8_9386_9801a78ac6dbrow10_col15 {\n",
       "            background-color:  #80a3fa;\n",
       "        }    #T_6d784876_2bf0_11e8_9386_9801a78ac6dbrow10_col16 {\n",
       "            background-color:  #7396f5;\n",
       "        }    #T_6d784876_2bf0_11e8_9386_9801a78ac6dbrow10_col17 {\n",
       "            background-color:  #7b9ff9;\n",
       "        }    #T_6d784876_2bf0_11e8_9386_9801a78ac6dbrow10_col18 {\n",
       "            background-color:  #84a7fc;\n",
       "        }    #T_6d784876_2bf0_11e8_9386_9801a78ac6dbrow10_col19 {\n",
       "            background-color:  #82a6fb;\n",
       "        }    #T_6d784876_2bf0_11e8_9386_9801a78ac6dbrow10_col20 {\n",
       "            background-color:  #84a7fc;\n",
       "        }    #T_6d784876_2bf0_11e8_9386_9801a78ac6dbrow10_col21 {\n",
       "            background-color:  #89acfd;\n",
       "        }    #T_6d784876_2bf0_11e8_9386_9801a78ac6dbrow10_col22 {\n",
       "            background-color:  #7b9ff9;\n",
       "        }    #T_6d784876_2bf0_11e8_9386_9801a78ac6dbrow10_col23 {\n",
       "            background-color:  #799cf8;\n",
       "        }    #T_6d784876_2bf0_11e8_9386_9801a78ac6dbrow11_col0 {\n",
       "            background-color:  #85a8fc;\n",
       "        }    #T_6d784876_2bf0_11e8_9386_9801a78ac6dbrow11_col1 {\n",
       "            background-color:  #86a9fc;\n",
       "        }    #T_6d784876_2bf0_11e8_9386_9801a78ac6dbrow11_col2 {\n",
       "            background-color:  #82a6fb;\n",
       "        }    #T_6d784876_2bf0_11e8_9386_9801a78ac6dbrow11_col3 {\n",
       "            background-color:  #85a8fc;\n",
       "        }    #T_6d784876_2bf0_11e8_9386_9801a78ac6dbrow11_col4 {\n",
       "            background-color:  #81a4fb;\n",
       "        }    #T_6d784876_2bf0_11e8_9386_9801a78ac6dbrow11_col5 {\n",
       "            background-color:  #84a7fc;\n",
       "        }    #T_6d784876_2bf0_11e8_9386_9801a78ac6dbrow11_col6 {\n",
       "            background-color:  #7da0f9;\n",
       "        }    #T_6d784876_2bf0_11e8_9386_9801a78ac6dbrow11_col7 {\n",
       "            background-color:  #7699f6;\n",
       "        }    #T_6d784876_2bf0_11e8_9386_9801a78ac6dbrow11_col8 {\n",
       "            background-color:  #81a4fb;\n",
       "        }    #T_6d784876_2bf0_11e8_9386_9801a78ac6dbrow11_col9 {\n",
       "            background-color:  #81a4fb;\n",
       "        }    #T_6d784876_2bf0_11e8_9386_9801a78ac6dbrow11_col10 {\n",
       "            background-color:  #3b4cc0;\n",
       "        }    #T_6d784876_2bf0_11e8_9386_9801a78ac6dbrow11_col11 {\n",
       "            background-color:  #b40426;\n",
       "        }    #T_6d784876_2bf0_11e8_9386_9801a78ac6dbrow11_col12 {\n",
       "            background-color:  #8db0fe;\n",
       "        }    #T_6d784876_2bf0_11e8_9386_9801a78ac6dbrow11_col13 {\n",
       "            background-color:  #82a6fb;\n",
       "        }    #T_6d784876_2bf0_11e8_9386_9801a78ac6dbrow11_col14 {\n",
       "            background-color:  #85a8fc;\n",
       "        }    #T_6d784876_2bf0_11e8_9386_9801a78ac6dbrow11_col15 {\n",
       "            background-color:  #85a8fc;\n",
       "        }    #T_6d784876_2bf0_11e8_9386_9801a78ac6dbrow11_col16 {\n",
       "            background-color:  #8badfd;\n",
       "        }    #T_6d784876_2bf0_11e8_9386_9801a78ac6dbrow11_col17 {\n",
       "            background-color:  #82a6fb;\n",
       "        }    #T_6d784876_2bf0_11e8_9386_9801a78ac6dbrow11_col18 {\n",
       "            background-color:  #81a4fb;\n",
       "        }    #T_6d784876_2bf0_11e8_9386_9801a78ac6dbrow11_col19 {\n",
       "            background-color:  #85a8fc;\n",
       "        }    #T_6d784876_2bf0_11e8_9386_9801a78ac6dbrow11_col20 {\n",
       "            background-color:  #84a7fc;\n",
       "        }    #T_6d784876_2bf0_11e8_9386_9801a78ac6dbrow11_col21 {\n",
       "            background-color:  #81a4fb;\n",
       "        }    #T_6d784876_2bf0_11e8_9386_9801a78ac6dbrow11_col22 {\n",
       "            background-color:  #86a9fc;\n",
       "        }    #T_6d784876_2bf0_11e8_9386_9801a78ac6dbrow11_col23 {\n",
       "            background-color:  #84a7fc;\n",
       "        }    #T_6d784876_2bf0_11e8_9386_9801a78ac6dbrow12_col0 {\n",
       "            background-color:  #779af7;\n",
       "        }    #T_6d784876_2bf0_11e8_9386_9801a78ac6dbrow12_col1 {\n",
       "            background-color:  #80a3fa;\n",
       "        }    #T_6d784876_2bf0_11e8_9386_9801a78ac6dbrow12_col2 {\n",
       "            background-color:  #97b8ff;\n",
       "        }    #T_6d784876_2bf0_11e8_9386_9801a78ac6dbrow12_col3 {\n",
       "            background-color:  #779af7;\n",
       "        }    #T_6d784876_2bf0_11e8_9386_9801a78ac6dbrow12_col4 {\n",
       "            background-color:  #4e68d8;\n",
       "        }    #T_6d784876_2bf0_11e8_9386_9801a78ac6dbrow12_col5 {\n",
       "            background-color:  #94b6ff;\n",
       "        }    #T_6d784876_2bf0_11e8_9386_9801a78ac6dbrow12_col6 {\n",
       "            background-color:  #6e90f2;\n",
       "        }    #T_6d784876_2bf0_11e8_9386_9801a78ac6dbrow12_col7 {\n",
       "            background-color:  #7597f6;\n",
       "        }    #T_6d784876_2bf0_11e8_9386_9801a78ac6dbrow12_col8 {\n",
       "            background-color:  #3b4cc0;\n",
       "        }    #T_6d784876_2bf0_11e8_9386_9801a78ac6dbrow12_col9 {\n",
       "            background-color:  #5977e3;\n",
       "        }    #T_6d784876_2bf0_11e8_9386_9801a78ac6dbrow12_col10 {\n",
       "            background-color:  #7295f4;\n",
       "        }    #T_6d784876_2bf0_11e8_9386_9801a78ac6dbrow12_col11 {\n",
       "            background-color:  #7a9df8;\n",
       "        }    #T_6d784876_2bf0_11e8_9386_9801a78ac6dbrow12_col12 {\n",
       "            background-color:  #b40426;\n",
       "        }    #T_6d784876_2bf0_11e8_9386_9801a78ac6dbrow12_col13 {\n",
       "            background-color:  #6b8df0;\n",
       "        }    #T_6d784876_2bf0_11e8_9386_9801a78ac6dbrow12_col14 {\n",
       "            background-color:  #516ddb;\n",
       "        }    #T_6d784876_2bf0_11e8_9386_9801a78ac6dbrow12_col15 {\n",
       "            background-color:  #7396f5;\n",
       "        }    #T_6d784876_2bf0_11e8_9386_9801a78ac6dbrow12_col16 {\n",
       "            background-color:  #c4d5f3;\n",
       "        }    #T_6d784876_2bf0_11e8_9386_9801a78ac6dbrow12_col17 {\n",
       "            background-color:  #97b8ff;\n",
       "        }    #T_6d784876_2bf0_11e8_9386_9801a78ac6dbrow12_col18 {\n",
       "            background-color:  #6e90f2;\n",
       "        }    #T_6d784876_2bf0_11e8_9386_9801a78ac6dbrow12_col19 {\n",
       "            background-color:  #7295f4;\n",
       "        }    #T_6d784876_2bf0_11e8_9386_9801a78ac6dbrow12_col20 {\n",
       "            background-color:  #6a8bef;\n",
       "        }    #T_6d784876_2bf0_11e8_9386_9801a78ac6dbrow12_col21 {\n",
       "            background-color:  #5572df;\n",
       "        }    #T_6d784876_2bf0_11e8_9386_9801a78ac6dbrow12_col22 {\n",
       "            background-color:  #c7d7f0;\n",
       "        }    #T_6d784876_2bf0_11e8_9386_9801a78ac6dbrow12_col23 {\n",
       "            background-color:  #7699f6;\n",
       "        }    #T_6d784876_2bf0_11e8_9386_9801a78ac6dbrow13_col0 {\n",
       "            background-color:  #688aef;\n",
       "        }    #T_6d784876_2bf0_11e8_9386_9801a78ac6dbrow13_col1 {\n",
       "            background-color:  #6687ed;\n",
       "        }    #T_6d784876_2bf0_11e8_9386_9801a78ac6dbrow13_col2 {\n",
       "            background-color:  #81a4fb;\n",
       "        }    #T_6d784876_2bf0_11e8_9386_9801a78ac6dbrow13_col3 {\n",
       "            background-color:  #6b8df0;\n",
       "        }    #T_6d784876_2bf0_11e8_9386_9801a78ac6dbrow13_col4 {\n",
       "            background-color:  #4e68d8;\n",
       "        }    #T_6d784876_2bf0_11e8_9386_9801a78ac6dbrow13_col5 {\n",
       "            background-color:  #80a3fa;\n",
       "        }    #T_6d784876_2bf0_11e8_9386_9801a78ac6dbrow13_col6 {\n",
       "            background-color:  #5f7fe8;\n",
       "        }    #T_6d784876_2bf0_11e8_9386_9801a78ac6dbrow13_col7 {\n",
       "            background-color:  #5977e3;\n",
       "        }    #T_6d784876_2bf0_11e8_9386_9801a78ac6dbrow13_col8 {\n",
       "            background-color:  #7a9df8;\n",
       "        }    #T_6d784876_2bf0_11e8_9386_9801a78ac6dbrow13_col9 {\n",
       "            background-color:  #6a8bef;\n",
       "        }    #T_6d784876_2bf0_11e8_9386_9801a78ac6dbrow13_col10 {\n",
       "            background-color:  #6282ea;\n",
       "        }    #T_6d784876_2bf0_11e8_9386_9801a78ac6dbrow13_col11 {\n",
       "            background-color:  #6687ed;\n",
       "        }    #T_6d784876_2bf0_11e8_9386_9801a78ac6dbrow13_col12 {\n",
       "            background-color:  #6282ea;\n",
       "        }    #T_6d784876_2bf0_11e8_9386_9801a78ac6dbrow13_col13 {\n",
       "            background-color:  #b40426;\n",
       "        }    #T_6d784876_2bf0_11e8_9386_9801a78ac6dbrow13_col14 {\n",
       "            background-color:  #3b4cc0;\n",
       "        }    #T_6d784876_2bf0_11e8_9386_9801a78ac6dbrow13_col15 {\n",
       "            background-color:  #6e90f2;\n",
       "        }    #T_6d784876_2bf0_11e8_9386_9801a78ac6dbrow13_col16 {\n",
       "            background-color:  #7699f6;\n",
       "        }    #T_6d784876_2bf0_11e8_9386_9801a78ac6dbrow13_col17 {\n",
       "            background-color:  #5f7fe8;\n",
       "        }    #T_6d784876_2bf0_11e8_9386_9801a78ac6dbrow13_col18 {\n",
       "            background-color:  #6788ee;\n",
       "        }    #T_6d784876_2bf0_11e8_9386_9801a78ac6dbrow13_col19 {\n",
       "            background-color:  #6a8bef;\n",
       "        }    #T_6d784876_2bf0_11e8_9386_9801a78ac6dbrow13_col20 {\n",
       "            background-color:  #6687ed;\n",
       "        }    #T_6d784876_2bf0_11e8_9386_9801a78ac6dbrow13_col21 {\n",
       "            background-color:  #5572df;\n",
       "        }    #T_6d784876_2bf0_11e8_9386_9801a78ac6dbrow13_col22 {\n",
       "            background-color:  #7093f3;\n",
       "        }    #T_6d784876_2bf0_11e8_9386_9801a78ac6dbrow13_col23 {\n",
       "            background-color:  #5572df;\n",
       "        }    #T_6d784876_2bf0_11e8_9386_9801a78ac6dbrow14_col0 {\n",
       "            background-color:  #c9d7f0;\n",
       "        }    #T_6d784876_2bf0_11e8_9386_9801a78ac6dbrow14_col1 {\n",
       "            background-color:  #b1cbfc;\n",
       "        }    #T_6d784876_2bf0_11e8_9386_9801a78ac6dbrow14_col2 {\n",
       "            background-color:  #3b4cc0;\n",
       "        }    #T_6d784876_2bf0_11e8_9386_9801a78ac6dbrow14_col3 {\n",
       "            background-color:  #bed2f6;\n",
       "        }    #T_6d784876_2bf0_11e8_9386_9801a78ac6dbrow14_col4 {\n",
       "            background-color:  #f7b497;\n",
       "        }    #T_6d784876_2bf0_11e8_9386_9801a78ac6dbrow14_col5 {\n",
       "            background-color:  #4257c9;\n",
       "        }    #T_6d784876_2bf0_11e8_9386_9801a78ac6dbrow14_col6 {\n",
       "            background-color:  #afcafc;\n",
       "        }    #T_6d784876_2bf0_11e8_9386_9801a78ac6dbrow14_col7 {\n",
       "            background-color:  #9dbdff;\n",
       "        }    #T_6d784876_2bf0_11e8_9386_9801a78ac6dbrow14_col8 {\n",
       "            background-color:  #cad8ef;\n",
       "        }    #T_6d784876_2bf0_11e8_9386_9801a78ac6dbrow14_col9 {\n",
       "            background-color:  #c0d4f5;\n",
       "        }    #T_6d784876_2bf0_11e8_9386_9801a78ac6dbrow14_col10 {\n",
       "            background-color:  #aec9fc;\n",
       "        }    #T_6d784876_2bf0_11e8_9386_9801a78ac6dbrow14_col11 {\n",
       "            background-color:  #b5cdfa;\n",
       "        }    #T_6d784876_2bf0_11e8_9386_9801a78ac6dbrow14_col12 {\n",
       "            background-color:  #9bbcff;\n",
       "        }    #T_6d784876_2bf0_11e8_9386_9801a78ac6dbrow14_col13 {\n",
       "            background-color:  #8fb1fe;\n",
       "        }    #T_6d784876_2bf0_11e8_9386_9801a78ac6dbrow14_col14 {\n",
       "            background-color:  #b40426;\n",
       "        }    #T_6d784876_2bf0_11e8_9386_9801a78ac6dbrow14_col15 {\n",
       "            background-color:  #aac7fd;\n",
       "        }    #T_6d784876_2bf0_11e8_9386_9801a78ac6dbrow14_col16 {\n",
       "            background-color:  #b5cdfa;\n",
       "        }    #T_6d784876_2bf0_11e8_9386_9801a78ac6dbrow14_col17 {\n",
       "            background-color:  #bbd1f8;\n",
       "        }    #T_6d784876_2bf0_11e8_9386_9801a78ac6dbrow14_col18 {\n",
       "            background-color:  #b6cefa;\n",
       "        }    #T_6d784876_2bf0_11e8_9386_9801a78ac6dbrow14_col19 {\n",
       "            background-color:  #c5d6f2;\n",
       "        }    #T_6d784876_2bf0_11e8_9386_9801a78ac6dbrow14_col20 {\n",
       "            background-color:  #d1dae9;\n",
       "        }    #T_6d784876_2bf0_11e8_9386_9801a78ac6dbrow14_col21 {\n",
       "            background-color:  #edd2c3;\n",
       "        }    #T_6d784876_2bf0_11e8_9386_9801a78ac6dbrow14_col22 {\n",
       "            background-color:  #bbd1f8;\n",
       "        }    #T_6d784876_2bf0_11e8_9386_9801a78ac6dbrow14_col23 {\n",
       "            background-color:  #f2cab5;\n",
       "        }    #T_6d784876_2bf0_11e8_9386_9801a78ac6dbrow15_col0 {\n",
       "            background-color:  #81a4fb;\n",
       "        }    #T_6d784876_2bf0_11e8_9386_9801a78ac6dbrow15_col1 {\n",
       "            background-color:  #8caffe;\n",
       "        }    #T_6d784876_2bf0_11e8_9386_9801a78ac6dbrow15_col2 {\n",
       "            background-color:  #c0d4f5;\n",
       "        }    #T_6d784876_2bf0_11e8_9386_9801a78ac6dbrow15_col3 {\n",
       "            background-color:  #85a8fc;\n",
       "        }    #T_6d784876_2bf0_11e8_9386_9801a78ac6dbrow15_col4 {\n",
       "            background-color:  #3b4cc0;\n",
       "        }    #T_6d784876_2bf0_11e8_9386_9801a78ac6dbrow15_col5 {\n",
       "            background-color:  #c1d4f4;\n",
       "        }    #T_6d784876_2bf0_11e8_9386_9801a78ac6dbrow15_col6 {\n",
       "            background-color:  #7a9df8;\n",
       "        }    #T_6d784876_2bf0_11e8_9386_9801a78ac6dbrow15_col7 {\n",
       "            background-color:  #6485ec;\n",
       "        }    #T_6d784876_2bf0_11e8_9386_9801a78ac6dbrow15_col8 {\n",
       "            background-color:  #93b5fe;\n",
       "        }    #T_6d784876_2bf0_11e8_9386_9801a78ac6dbrow15_col9 {\n",
       "            background-color:  #89acfd;\n",
       "        }    #T_6d784876_2bf0_11e8_9386_9801a78ac6dbrow15_col10 {\n",
       "            background-color:  #779af7;\n",
       "        }    #T_6d784876_2bf0_11e8_9386_9801a78ac6dbrow15_col11 {\n",
       "            background-color:  #7da0f9;\n",
       "        }    #T_6d784876_2bf0_11e8_9386_9801a78ac6dbrow15_col12 {\n",
       "            background-color:  #7ea1fa;\n",
       "        }    #T_6d784876_2bf0_11e8_9386_9801a78ac6dbrow15_col13 {\n",
       "            background-color:  #82a6fb;\n",
       "        }    #T_6d784876_2bf0_11e8_9386_9801a78ac6dbrow15_col14 {\n",
       "            background-color:  #7093f3;\n",
       "        }    #T_6d784876_2bf0_11e8_9386_9801a78ac6dbrow15_col15 {\n",
       "            background-color:  #b40426;\n",
       "        }    #T_6d784876_2bf0_11e8_9386_9801a78ac6dbrow15_col16 {\n",
       "            background-color:  #9fbfff;\n",
       "        }    #T_6d784876_2bf0_11e8_9386_9801a78ac6dbrow15_col17 {\n",
       "            background-color:  #7da0f9;\n",
       "        }    #T_6d784876_2bf0_11e8_9386_9801a78ac6dbrow15_col18 {\n",
       "            background-color:  #7a9df8;\n",
       "        }    #T_6d784876_2bf0_11e8_9386_9801a78ac6dbrow15_col19 {\n",
       "            background-color:  #7ea1fa;\n",
       "        }    #T_6d784876_2bf0_11e8_9386_9801a78ac6dbrow15_col20 {\n",
       "            background-color:  #7699f6;\n",
       "        }    #T_6d784876_2bf0_11e8_9386_9801a78ac6dbrow15_col21 {\n",
       "            background-color:  #6687ed;\n",
       "        }    #T_6d784876_2bf0_11e8_9386_9801a78ac6dbrow15_col22 {\n",
       "            background-color:  #93b5fe;\n",
       "        }    #T_6d784876_2bf0_11e8_9386_9801a78ac6dbrow15_col23 {\n",
       "            background-color:  #7ea1fa;\n",
       "        }    #T_6d784876_2bf0_11e8_9386_9801a78ac6dbrow16_col0 {\n",
       "            background-color:  #97b8ff;\n",
       "        }    #T_6d784876_2bf0_11e8_9386_9801a78ac6dbrow16_col1 {\n",
       "            background-color:  #7093f3;\n",
       "        }    #T_6d784876_2bf0_11e8_9386_9801a78ac6dbrow16_col2 {\n",
       "            background-color:  #5d7ce6;\n",
       "        }    #T_6d784876_2bf0_11e8_9386_9801a78ac6dbrow16_col3 {\n",
       "            background-color:  #96b7ff;\n",
       "        }    #T_6d784876_2bf0_11e8_9386_9801a78ac6dbrow16_col4 {\n",
       "            background-color:  #5977e3;\n",
       "        }    #T_6d784876_2bf0_11e8_9386_9801a78ac6dbrow16_col5 {\n",
       "            background-color:  #5e7de7;\n",
       "        }    #T_6d784876_2bf0_11e8_9386_9801a78ac6dbrow16_col6 {\n",
       "            background-color:  #5e7de7;\n",
       "        }    #T_6d784876_2bf0_11e8_9386_9801a78ac6dbrow16_col7 {\n",
       "            background-color:  #3b4cc0;\n",
       "        }    #T_6d784876_2bf0_11e8_9386_9801a78ac6dbrow16_col8 {\n",
       "            background-color:  #8caffe;\n",
       "        }    #T_6d784876_2bf0_11e8_9386_9801a78ac6dbrow16_col9 {\n",
       "            background-color:  #465ecf;\n",
       "        }    #T_6d784876_2bf0_11e8_9386_9801a78ac6dbrow16_col10 {\n",
       "            background-color:  #4c66d6;\n",
       "        }    #T_6d784876_2bf0_11e8_9386_9801a78ac6dbrow16_col11 {\n",
       "            background-color:  #6687ed;\n",
       "        }    #T_6d784876_2bf0_11e8_9386_9801a78ac6dbrow16_col12 {\n",
       "            background-color:  #b7cff9;\n",
       "        }    #T_6d784876_2bf0_11e8_9386_9801a78ac6dbrow16_col13 {\n",
       "            background-color:  #6c8ff1;\n",
       "        }    #T_6d784876_2bf0_11e8_9386_9801a78ac6dbrow16_col14 {\n",
       "            background-color:  #5e7de7;\n",
       "        }    #T_6d784876_2bf0_11e8_9386_9801a78ac6dbrow16_col15 {\n",
       "            background-color:  #82a6fb;\n",
       "        }    #T_6d784876_2bf0_11e8_9386_9801a78ac6dbrow16_col16 {\n",
       "            background-color:  #b40426;\n",
       "        }    #T_6d784876_2bf0_11e8_9386_9801a78ac6dbrow16_col17 {\n",
       "            background-color:  #9ebeff;\n",
       "        }    #T_6d784876_2bf0_11e8_9386_9801a78ac6dbrow16_col18 {\n",
       "            background-color:  #6180e9;\n",
       "        }    #T_6d784876_2bf0_11e8_9386_9801a78ac6dbrow16_col19 {\n",
       "            background-color:  #8fb1fe;\n",
       "        }    #T_6d784876_2bf0_11e8_9386_9801a78ac6dbrow16_col20 {\n",
       "            background-color:  #8caffe;\n",
       "        }    #T_6d784876_2bf0_11e8_9386_9801a78ac6dbrow16_col21 {\n",
       "            background-color:  #5f7fe8;\n",
       "        }    #T_6d784876_2bf0_11e8_9386_9801a78ac6dbrow16_col22 {\n",
       "            background-color:  #d2dbe8;\n",
       "        }    #T_6d784876_2bf0_11e8_9386_9801a78ac6dbrow16_col23 {\n",
       "            background-color:  #bad0f8;\n",
       "        }    #T_6d784876_2bf0_11e8_9386_9801a78ac6dbrow17_col0 {\n",
       "            background-color:  #bcd2f7;\n",
       "        }    #T_6d784876_2bf0_11e8_9386_9801a78ac6dbrow17_col1 {\n",
       "            background-color:  #7597f6;\n",
       "        }    #T_6d784876_2bf0_11e8_9386_9801a78ac6dbrow17_col2 {\n",
       "            background-color:  #5673e0;\n",
       "        }    #T_6d784876_2bf0_11e8_9386_9801a78ac6dbrow17_col3 {\n",
       "            background-color:  #bbd1f8;\n",
       "        }    #T_6d784876_2bf0_11e8_9386_9801a78ac6dbrow17_col4 {\n",
       "            background-color:  #6282ea;\n",
       "        }    #T_6d784876_2bf0_11e8_9386_9801a78ac6dbrow17_col5 {\n",
       "            background-color:  #5875e1;\n",
       "        }    #T_6d784876_2bf0_11e8_9386_9801a78ac6dbrow17_col6 {\n",
       "            background-color:  #5572df;\n",
       "        }    #T_6d784876_2bf0_11e8_9386_9801a78ac6dbrow17_col7 {\n",
       "            background-color:  #3b4cc0;\n",
       "        }    #T_6d784876_2bf0_11e8_9386_9801a78ac6dbrow17_col8 {\n",
       "            background-color:  #c4d5f3;\n",
       "        }    #T_6d784876_2bf0_11e8_9386_9801a78ac6dbrow17_col9 {\n",
       "            background-color:  #4a63d3;\n",
       "        }    #T_6d784876_2bf0_11e8_9386_9801a78ac6dbrow17_col10 {\n",
       "            background-color:  #5673e0;\n",
       "        }    #T_6d784876_2bf0_11e8_9386_9801a78ac6dbrow17_col11 {\n",
       "            background-color:  #5d7ce6;\n",
       "        }    #T_6d784876_2bf0_11e8_9386_9801a78ac6dbrow17_col12 {\n",
       "            background-color:  #86a9fc;\n",
       "        }    #T_6d784876_2bf0_11e8_9386_9801a78ac6dbrow17_col13 {\n",
       "            background-color:  #5572df;\n",
       "        }    #T_6d784876_2bf0_11e8_9386_9801a78ac6dbrow17_col14 {\n",
       "            background-color:  #688aef;\n",
       "        }    #T_6d784876_2bf0_11e8_9386_9801a78ac6dbrow17_col15 {\n",
       "            background-color:  #5f7fe8;\n",
       "        }    #T_6d784876_2bf0_11e8_9386_9801a78ac6dbrow17_col16 {\n",
       "            background-color:  #9ebeff;\n",
       "        }    #T_6d784876_2bf0_11e8_9386_9801a78ac6dbrow17_col17 {\n",
       "            background-color:  #b40426;\n",
       "        }    #T_6d784876_2bf0_11e8_9386_9801a78ac6dbrow17_col18 {\n",
       "            background-color:  #6180e9;\n",
       "        }    #T_6d784876_2bf0_11e8_9386_9801a78ac6dbrow17_col19 {\n",
       "            background-color:  #b6cefa;\n",
       "        }    #T_6d784876_2bf0_11e8_9386_9801a78ac6dbrow17_col20 {\n",
       "            background-color:  #b3cdfb;\n",
       "        }    #T_6d784876_2bf0_11e8_9386_9801a78ac6dbrow17_col21 {\n",
       "            background-color:  #6c8ff1;\n",
       "        }    #T_6d784876_2bf0_11e8_9386_9801a78ac6dbrow17_col22 {\n",
       "            background-color:  #f2cbb7;\n",
       "        }    #T_6d784876_2bf0_11e8_9386_9801a78ac6dbrow17_col23 {\n",
       "            background-color:  #e5d8d1;\n",
       "        }    #T_6d784876_2bf0_11e8_9386_9801a78ac6dbrow18_col0 {\n",
       "            background-color:  #4b64d5;\n",
       "        }    #T_6d784876_2bf0_11e8_9386_9801a78ac6dbrow18_col1 {\n",
       "            background-color:  #4055c8;\n",
       "        }    #T_6d784876_2bf0_11e8_9386_9801a78ac6dbrow18_col2 {\n",
       "            background-color:  #3b4cc0;\n",
       "        }    #T_6d784876_2bf0_11e8_9386_9801a78ac6dbrow18_col3 {\n",
       "            background-color:  #4b64d5;\n",
       "        }    #T_6d784876_2bf0_11e8_9386_9801a78ac6dbrow18_col4 {\n",
       "            background-color:  #506bda;\n",
       "        }    #T_6d784876_2bf0_11e8_9386_9801a78ac6dbrow18_col5 {\n",
       "            background-color:  #3b4cc0;\n",
       "        }    #T_6d784876_2bf0_11e8_9386_9801a78ac6dbrow18_col6 {\n",
       "            background-color:  #445acc;\n",
       "        }    #T_6d784876_2bf0_11e8_9386_9801a78ac6dbrow18_col7 {\n",
       "            background-color:  #4055c8;\n",
       "        }    #T_6d784876_2bf0_11e8_9386_9801a78ac6dbrow18_col8 {\n",
       "            background-color:  #4b64d5;\n",
       "        }    #T_6d784876_2bf0_11e8_9386_9801a78ac6dbrow18_col9 {\n",
       "            background-color:  #3c4ec2;\n",
       "        }    #T_6d784876_2bf0_11e8_9386_9801a78ac6dbrow18_col10 {\n",
       "            background-color:  #465ecf;\n",
       "        }    #T_6d784876_2bf0_11e8_9386_9801a78ac6dbrow18_col11 {\n",
       "            background-color:  #445acc;\n",
       "        }    #T_6d784876_2bf0_11e8_9386_9801a78ac6dbrow18_col12 {\n",
       "            background-color:  #445acc;\n",
       "        }    #T_6d784876_2bf0_11e8_9386_9801a78ac6dbrow18_col13 {\n",
       "            background-color:  #455cce;\n",
       "        }    #T_6d784876_2bf0_11e8_9386_9801a78ac6dbrow18_col14 {\n",
       "            background-color:  #4961d2;\n",
       "        }    #T_6d784876_2bf0_11e8_9386_9801a78ac6dbrow18_col15 {\n",
       "            background-color:  #445acc;\n",
       "        }    #T_6d784876_2bf0_11e8_9386_9801a78ac6dbrow18_col16 {\n",
       "            background-color:  #4a63d3;\n",
       "        }    #T_6d784876_2bf0_11e8_9386_9801a78ac6dbrow18_col17 {\n",
       "            background-color:  #4961d2;\n",
       "        }    #T_6d784876_2bf0_11e8_9386_9801a78ac6dbrow18_col18 {\n",
       "            background-color:  #b40426;\n",
       "        }    #T_6d784876_2bf0_11e8_9386_9801a78ac6dbrow18_col19 {\n",
       "            background-color:  #4b64d5;\n",
       "        }    #T_6d784876_2bf0_11e8_9386_9801a78ac6dbrow18_col20 {\n",
       "            background-color:  #4e68d8;\n",
       "        }    #T_6d784876_2bf0_11e8_9386_9801a78ac6dbrow18_col21 {\n",
       "            background-color:  #4e68d8;\n",
       "        }    #T_6d784876_2bf0_11e8_9386_9801a78ac6dbrow18_col22 {\n",
       "            background-color:  #4961d2;\n",
       "        }    #T_6d784876_2bf0_11e8_9386_9801a78ac6dbrow18_col23 {\n",
       "            background-color:  #4e68d8;\n",
       "        }    #T_6d784876_2bf0_11e8_9386_9801a78ac6dbrow19_col0 {\n",
       "            background-color:  #d55042;\n",
       "        }    #T_6d784876_2bf0_11e8_9386_9801a78ac6dbrow19_col1 {\n",
       "            background-color:  #c1d4f4;\n",
       "        }    #T_6d784876_2bf0_11e8_9386_9801a78ac6dbrow19_col2 {\n",
       "            background-color:  #85a8fc;\n",
       "        }    #T_6d784876_2bf0_11e8_9386_9801a78ac6dbrow19_col3 {\n",
       "            background-color:  #d95847;\n",
       "        }    #T_6d784876_2bf0_11e8_9386_9801a78ac6dbrow19_col4 {\n",
       "            background-color:  #445acc;\n",
       "        }    #T_6d784876_2bf0_11e8_9386_9801a78ac6dbrow19_col5 {\n",
       "            background-color:  #89acfd;\n",
       "        }    #T_6d784876_2bf0_11e8_9386_9801a78ac6dbrow19_col6 {\n",
       "            background-color:  #6687ed;\n",
       "        }    #T_6d784876_2bf0_11e8_9386_9801a78ac6dbrow19_col7 {\n",
       "            background-color:  #3b4cc0;\n",
       "        }    #T_6d784876_2bf0_11e8_9386_9801a78ac6dbrow19_col8 {\n",
       "            background-color:  #cad8ef;\n",
       "        }    #T_6d784876_2bf0_11e8_9386_9801a78ac6dbrow19_col9 {\n",
       "            background-color:  #4055c8;\n",
       "        }    #T_6d784876_2bf0_11e8_9386_9801a78ac6dbrow19_col10 {\n",
       "            background-color:  #6485ec;\n",
       "        }    #T_6d784876_2bf0_11e8_9386_9801a78ac6dbrow19_col11 {\n",
       "            background-color:  #6788ee;\n",
       "        }    #T_6d784876_2bf0_11e8_9386_9801a78ac6dbrow19_col12 {\n",
       "            background-color:  #688aef;\n",
       "        }    #T_6d784876_2bf0_11e8_9386_9801a78ac6dbrow19_col13 {\n",
       "            background-color:  #688aef;\n",
       "        }    #T_6d784876_2bf0_11e8_9386_9801a78ac6dbrow19_col14 {\n",
       "            background-color:  #80a3fa;\n",
       "        }    #T_6d784876_2bf0_11e8_9386_9801a78ac6dbrow19_col15 {\n",
       "            background-color:  #6788ee;\n",
       "        }    #T_6d784876_2bf0_11e8_9386_9801a78ac6dbrow19_col16 {\n",
       "            background-color:  #97b8ff;\n",
       "        }    #T_6d784876_2bf0_11e8_9386_9801a78ac6dbrow19_col17 {\n",
       "            background-color:  #bbd1f8;\n",
       "        }    #T_6d784876_2bf0_11e8_9386_9801a78ac6dbrow19_col18 {\n",
       "            background-color:  #6a8bef;\n",
       "        }    #T_6d784876_2bf0_11e8_9386_9801a78ac6dbrow19_col19 {\n",
       "            background-color:  #b40426;\n",
       "        }    #T_6d784876_2bf0_11e8_9386_9801a78ac6dbrow19_col20 {\n",
       "            background-color:  #be242e;\n",
       "        }    #T_6d784876_2bf0_11e8_9386_9801a78ac6dbrow19_col21 {\n",
       "            background-color:  #a9c6fd;\n",
       "        }    #T_6d784876_2bf0_11e8_9386_9801a78ac6dbrow19_col22 {\n",
       "            background-color:  #b1cbfc;\n",
       "        }    #T_6d784876_2bf0_11e8_9386_9801a78ac6dbrow19_col23 {\n",
       "            background-color:  #c6d6f1;\n",
       "        }    #T_6d784876_2bf0_11e8_9386_9801a78ac6dbrow20_col0 {\n",
       "            background-color:  #e36c55;\n",
       "        }    #T_6d784876_2bf0_11e8_9386_9801a78ac6dbrow20_col1 {\n",
       "            background-color:  #9fbfff;\n",
       "        }    #T_6d784876_2bf0_11e8_9386_9801a78ac6dbrow20_col2 {\n",
       "            background-color:  #5d7ce6;\n",
       "        }    #T_6d784876_2bf0_11e8_9386_9801a78ac6dbrow20_col3 {\n",
       "            background-color:  #e46e56;\n",
       "        }    #T_6d784876_2bf0_11e8_9386_9801a78ac6dbrow20_col4 {\n",
       "            background-color:  #6b8df0;\n",
       "        }    #T_6d784876_2bf0_11e8_9386_9801a78ac6dbrow20_col5 {\n",
       "            background-color:  #6180e9;\n",
       "        }    #T_6d784876_2bf0_11e8_9386_9801a78ac6dbrow20_col6 {\n",
       "            background-color:  #6687ed;\n",
       "        }    #T_6d784876_2bf0_11e8_9386_9801a78ac6dbrow20_col7 {\n",
       "            background-color:  #3b4cc0;\n",
       "        }    #T_6d784876_2bf0_11e8_9386_9801a78ac6dbrow20_col8 {\n",
       "            background-color:  #cbd8ee;\n",
       "        }    #T_6d784876_2bf0_11e8_9386_9801a78ac6dbrow20_col9 {\n",
       "            background-color:  #3f53c6;\n",
       "        }    #T_6d784876_2bf0_11e8_9386_9801a78ac6dbrow20_col10 {\n",
       "            background-color:  #6788ee;\n",
       "        }    #T_6d784876_2bf0_11e8_9386_9801a78ac6dbrow20_col11 {\n",
       "            background-color:  #6788ee;\n",
       "        }    #T_6d784876_2bf0_11e8_9386_9801a78ac6dbrow20_col12 {\n",
       "            background-color:  #5f7fe8;\n",
       "        }    #T_6d784876_2bf0_11e8_9386_9801a78ac6dbrow20_col13 {\n",
       "            background-color:  #6687ed;\n",
       "        }    #T_6d784876_2bf0_11e8_9386_9801a78ac6dbrow20_col14 {\n",
       "            background-color:  #93b5fe;\n",
       "        }    #T_6d784876_2bf0_11e8_9386_9801a78ac6dbrow20_col15 {\n",
       "            background-color:  #6282ea;\n",
       "        }    #T_6d784876_2bf0_11e8_9386_9801a78ac6dbrow20_col16 {\n",
       "            background-color:  #94b6ff;\n",
       "        }    #T_6d784876_2bf0_11e8_9386_9801a78ac6dbrow20_col17 {\n",
       "            background-color:  #bad0f8;\n",
       "        }    #T_6d784876_2bf0_11e8_9386_9801a78ac6dbrow20_col18 {\n",
       "            background-color:  #6e90f2;\n",
       "        }    #T_6d784876_2bf0_11e8_9386_9801a78ac6dbrow20_col19 {\n",
       "            background-color:  #be242e;\n",
       "        }    #T_6d784876_2bf0_11e8_9386_9801a78ac6dbrow20_col20 {\n",
       "            background-color:  #b40426;\n",
       "        }    #T_6d784876_2bf0_11e8_9386_9801a78ac6dbrow20_col21 {\n",
       "            background-color:  #c5d6f2;\n",
       "        }    #T_6d784876_2bf0_11e8_9386_9801a78ac6dbrow20_col22 {\n",
       "            background-color:  #aec9fc;\n",
       "        }    #T_6d784876_2bf0_11e8_9386_9801a78ac6dbrow20_col23 {\n",
       "            background-color:  #cedaeb;\n",
       "        }    #T_6d784876_2bf0_11e8_9386_9801a78ac6dbrow21_col0 {\n",
       "            background-color:  #a1c0ff;\n",
       "        }    #T_6d784876_2bf0_11e8_9386_9801a78ac6dbrow21_col1 {\n",
       "            background-color:  #7699f6;\n",
       "        }    #T_6d784876_2bf0_11e8_9386_9801a78ac6dbrow21_col2 {\n",
       "            background-color:  #3b4cc0;\n",
       "        }    #T_6d784876_2bf0_11e8_9386_9801a78ac6dbrow21_col3 {\n",
       "            background-color:  #9ebeff;\n",
       "        }    #T_6d784876_2bf0_11e8_9386_9801a78ac6dbrow21_col4 {\n",
       "            background-color:  #dbdcde;\n",
       "        }    #T_6d784876_2bf0_11e8_9386_9801a78ac6dbrow21_col5 {\n",
       "            background-color:  #3d50c3;\n",
       "        }    #T_6d784876_2bf0_11e8_9386_9801a78ac6dbrow21_col6 {\n",
       "            background-color:  #8badfd;\n",
       "        }    #T_6d784876_2bf0_11e8_9386_9801a78ac6dbrow21_col7 {\n",
       "            background-color:  #7b9ff9;\n",
       "        }    #T_6d784876_2bf0_11e8_9386_9801a78ac6dbrow21_col8 {\n",
       "            background-color:  #a5c3fe;\n",
       "        }    #T_6d784876_2bf0_11e8_9386_9801a78ac6dbrow21_col9 {\n",
       "            background-color:  #80a3fa;\n",
       "        }    #T_6d784876_2bf0_11e8_9386_9801a78ac6dbrow21_col10 {\n",
       "            background-color:  #96b7ff;\n",
       "        }    #T_6d784876_2bf0_11e8_9386_9801a78ac6dbrow21_col11 {\n",
       "            background-color:  #8db0fe;\n",
       "        }    #T_6d784876_2bf0_11e8_9386_9801a78ac6dbrow21_col12 {\n",
       "            background-color:  #779af7;\n",
       "        }    #T_6d784876_2bf0_11e8_9386_9801a78ac6dbrow21_col13 {\n",
       "            background-color:  #80a3fa;\n",
       "        }    #T_6d784876_2bf0_11e8_9386_9801a78ac6dbrow21_col14 {\n",
       "            background-color:  #dddcdc;\n",
       "        }    #T_6d784876_2bf0_11e8_9386_9801a78ac6dbrow21_col15 {\n",
       "            background-color:  #7b9ff9;\n",
       "        }    #T_6d784876_2bf0_11e8_9386_9801a78ac6dbrow21_col16 {\n",
       "            background-color:  #92b4fe;\n",
       "        }    #T_6d784876_2bf0_11e8_9386_9801a78ac6dbrow21_col17 {\n",
       "            background-color:  #9dbdff;\n",
       "        }    #T_6d784876_2bf0_11e8_9386_9801a78ac6dbrow21_col18 {\n",
       "            background-color:  #96b7ff;\n",
       "        }    #T_6d784876_2bf0_11e8_9386_9801a78ac6dbrow21_col19 {\n",
       "            background-color:  #c7d7f0;\n",
       "        }    #T_6d784876_2bf0_11e8_9386_9801a78ac6dbrow21_col20 {\n",
       "            background-color:  #dbdcde;\n",
       "        }    #T_6d784876_2bf0_11e8_9386_9801a78ac6dbrow21_col21 {\n",
       "            background-color:  #b40426;\n",
       "        }    #T_6d784876_2bf0_11e8_9386_9801a78ac6dbrow21_col22 {\n",
       "            background-color:  #98b9ff;\n",
       "        }    #T_6d784876_2bf0_11e8_9386_9801a78ac6dbrow21_col23 {\n",
       "            background-color:  #c6d6f1;\n",
       "        }    #T_6d784876_2bf0_11e8_9386_9801a78ac6dbrow22_col0 {\n",
       "            background-color:  #b2ccfb;\n",
       "        }    #T_6d784876_2bf0_11e8_9386_9801a78ac6dbrow22_col1 {\n",
       "            background-color:  #7da0f9;\n",
       "        }    #T_6d784876_2bf0_11e8_9386_9801a78ac6dbrow22_col2 {\n",
       "            background-color:  #6485ec;\n",
       "        }    #T_6d784876_2bf0_11e8_9386_9801a78ac6dbrow22_col3 {\n",
       "            background-color:  #afcafc;\n",
       "        }    #T_6d784876_2bf0_11e8_9386_9801a78ac6dbrow22_col4 {\n",
       "            background-color:  #5470de;\n",
       "        }    #T_6d784876_2bf0_11e8_9386_9801a78ac6dbrow22_col5 {\n",
       "            background-color:  #6788ee;\n",
       "        }    #T_6d784876_2bf0_11e8_9386_9801a78ac6dbrow22_col6 {\n",
       "            background-color:  #5b7ae5;\n",
       "        }    #T_6d784876_2bf0_11e8_9386_9801a78ac6dbrow22_col7 {\n",
       "            background-color:  #3b4cc0;\n",
       "        }    #T_6d784876_2bf0_11e8_9386_9801a78ac6dbrow22_col8 {\n",
       "            background-color:  #d2dbe8;\n",
       "        }    #T_6d784876_2bf0_11e8_9386_9801a78ac6dbrow22_col9 {\n",
       "            background-color:  #5875e1;\n",
       "        }    #T_6d784876_2bf0_11e8_9386_9801a78ac6dbrow22_col10 {\n",
       "            background-color:  #5673e0;\n",
       "        }    #T_6d784876_2bf0_11e8_9386_9801a78ac6dbrow22_col11 {\n",
       "            background-color:  #6282ea;\n",
       "        }    #T_6d784876_2bf0_11e8_9386_9801a78ac6dbrow22_col12 {\n",
       "            background-color:  #bbd1f8;\n",
       "        }    #T_6d784876_2bf0_11e8_9386_9801a78ac6dbrow22_col13 {\n",
       "            background-color:  #688aef;\n",
       "        }    #T_6d784876_2bf0_11e8_9386_9801a78ac6dbrow22_col14 {\n",
       "            background-color:  #688aef;\n",
       "        }    #T_6d784876_2bf0_11e8_9386_9801a78ac6dbrow22_col15 {\n",
       "            background-color:  #779af7;\n",
       "        }    #T_6d784876_2bf0_11e8_9386_9801a78ac6dbrow22_col16 {\n",
       "            background-color:  #d3dbe7;\n",
       "        }    #T_6d784876_2bf0_11e8_9386_9801a78ac6dbrow22_col17 {\n",
       "            background-color:  #f2cbb7;\n",
       "        }    #T_6d784876_2bf0_11e8_9386_9801a78ac6dbrow22_col18 {\n",
       "            background-color:  #6180e9;\n",
       "        }    #T_6d784876_2bf0_11e8_9386_9801a78ac6dbrow22_col19 {\n",
       "            background-color:  #abc8fd;\n",
       "        }    #T_6d784876_2bf0_11e8_9386_9801a78ac6dbrow22_col20 {\n",
       "            background-color:  #a7c5fe;\n",
       "        }    #T_6d784876_2bf0_11e8_9386_9801a78ac6dbrow22_col21 {\n",
       "            background-color:  #6788ee;\n",
       "        }    #T_6d784876_2bf0_11e8_9386_9801a78ac6dbrow22_col22 {\n",
       "            background-color:  #b40426;\n",
       "        }    #T_6d784876_2bf0_11e8_9386_9801a78ac6dbrow22_col23 {\n",
       "            background-color:  #b1cbfc;\n",
       "        }    #T_6d784876_2bf0_11e8_9386_9801a78ac6dbrow23_col0 {\n",
       "            background-color:  #dfdbd9;\n",
       "        }    #T_6d784876_2bf0_11e8_9386_9801a78ac6dbrow23_col1 {\n",
       "            background-color:  #94b6ff;\n",
       "        }    #T_6d784876_2bf0_11e8_9386_9801a78ac6dbrow23_col2 {\n",
       "            background-color:  #3b4cc0;\n",
       "        }    #T_6d784876_2bf0_11e8_9386_9801a78ac6dbrow23_col3 {\n",
       "            background-color:  #d8dce2;\n",
       "        }    #T_6d784876_2bf0_11e8_9386_9801a78ac6dbrow23_col4 {\n",
       "            background-color:  #c5d6f2;\n",
       "        }    #T_6d784876_2bf0_11e8_9386_9801a78ac6dbrow23_col5 {\n",
       "            background-color:  #3f53c6;\n",
       "        }    #T_6d784876_2bf0_11e8_9386_9801a78ac6dbrow23_col6 {\n",
       "            background-color:  #7b9ff9;\n",
       "        }    #T_6d784876_2bf0_11e8_9386_9801a78ac6dbrow23_col7 {\n",
       "            background-color:  #6384eb;\n",
       "        }    #T_6d784876_2bf0_11e8_9386_9801a78ac6dbrow23_col8 {\n",
       "            background-color:  #cfdaea;\n",
       "        }    #T_6d784876_2bf0_11e8_9386_9801a78ac6dbrow23_col9 {\n",
       "            background-color:  #7093f3;\n",
       "        }    #T_6d784876_2bf0_11e8_9386_9801a78ac6dbrow23_col10 {\n",
       "            background-color:  #7a9df8;\n",
       "        }    #T_6d784876_2bf0_11e8_9386_9801a78ac6dbrow23_col11 {\n",
       "            background-color:  #85a8fc;\n",
       "        }    #T_6d784876_2bf0_11e8_9386_9801a78ac6dbrow23_col12 {\n",
       "            background-color:  #89acfd;\n",
       "        }    #T_6d784876_2bf0_11e8_9386_9801a78ac6dbrow23_col13 {\n",
       "            background-color:  #7396f5;\n",
       "        }    #T_6d784876_2bf0_11e8_9386_9801a78ac6dbrow23_col14 {\n",
       "            background-color:  #e1dad6;\n",
       "        }    #T_6d784876_2bf0_11e8_9386_9801a78ac6dbrow23_col15 {\n",
       "            background-color:  #86a9fc;\n",
       "        }    #T_6d784876_2bf0_11e8_9386_9801a78ac6dbrow23_col16 {\n",
       "            background-color:  #d2dbe8;\n",
       "        }    #T_6d784876_2bf0_11e8_9386_9801a78ac6dbrow23_col17 {\n",
       "            background-color:  #f1cdba;\n",
       "        }    #T_6d784876_2bf0_11e8_9386_9801a78ac6dbrow23_col18 {\n",
       "            background-color:  #8badfd;\n",
       "        }    #T_6d784876_2bf0_11e8_9386_9801a78ac6dbrow23_col19 {\n",
       "            background-color:  #d7dce3;\n",
       "        }    #T_6d784876_2bf0_11e8_9386_9801a78ac6dbrow23_col20 {\n",
       "            background-color:  #dddcdc;\n",
       "        }    #T_6d784876_2bf0_11e8_9386_9801a78ac6dbrow23_col21 {\n",
       "            background-color:  #bed2f6;\n",
       "        }    #T_6d784876_2bf0_11e8_9386_9801a78ac6dbrow23_col22 {\n",
       "            background-color:  #cbd8ee;\n",
       "        }    #T_6d784876_2bf0_11e8_9386_9801a78ac6dbrow23_col23 {\n",
       "            background-color:  #b40426;\n",
       "        }</style>  \n",
       "<table id=\"T_6d784876_2bf0_11e8_9386_9801a78ac6db\" > \n",
       "<thead>    <tr> \n",
       "        <th class=\"blank level0\" ></th> \n",
       "        <th class=\"col_heading level0 col0\" >loan_amnt</th> \n",
       "        <th class=\"col_heading level0 col1\" >term</th> \n",
       "        <th class=\"col_heading level0 col2\" >int_rate</th> \n",
       "        <th class=\"col_heading level0 col3\" >installment</th> \n",
       "        <th class=\"col_heading level0 col4\" >grade</th> \n",
       "        <th class=\"col_heading level0 col5\" >sub_grade</th> \n",
       "        <th class=\"col_heading level0 col6\" >emp_length</th> \n",
       "        <th class=\"col_heading level0 col7\" >home_ownership</th> \n",
       "        <th class=\"col_heading level0 col8\" >annual_inc</th> \n",
       "        <th class=\"col_heading level0 col9\" >purpose</th> \n",
       "        <th class=\"col_heading level0 col10\" >zip_code</th> \n",
       "        <th class=\"col_heading level0 col11\" >addr_state</th> \n",
       "        <th class=\"col_heading level0 col12\" >dti</th> \n",
       "        <th class=\"col_heading level0 col13\" >delinq_2yrs</th> \n",
       "        <th class=\"col_heading level0 col14\" >fico_range_low</th> \n",
       "        <th class=\"col_heading level0 col15\" >inq_last_6mths</th> \n",
       "        <th class=\"col_heading level0 col16\" >open_acc</th> \n",
       "        <th class=\"col_heading level0 col17\" >revol_bal</th> \n",
       "        <th class=\"col_heading level0 col18\" >initial_list_status</th> \n",
       "        <th class=\"col_heading level0 col19\" >total_pymnt</th> \n",
       "        <th class=\"col_heading level0 col20\" >total_rec_prncp</th> \n",
       "        <th class=\"col_heading level0 col21\" >last_fico_range_high</th> \n",
       "        <th class=\"col_heading level0 col22\" >total_bal_ex_mort</th> \n",
       "        <th class=\"col_heading level0 col23\" >total_bc_limit</th> \n",
       "    </tr></thead> \n",
       "<tbody>    <tr> \n",
       "        <th id=\"T_6d784876_2bf0_11e8_9386_9801a78ac6dblevel0_row0\" class=\"row_heading level0 row0\" >loan_amnt</th> \n",
       "        <td id=\"T_6d784876_2bf0_11e8_9386_9801a78ac6dbrow0_col0\" class=\"data row0 col0\" >1.0</td> \n",
       "        <td id=\"T_6d784876_2bf0_11e8_9386_9801a78ac6dbrow0_col1\" class=\"data row0 col1\" >0.4</td> \n",
       "        <td id=\"T_6d784876_2bf0_11e8_9386_9801a78ac6dbrow0_col2\" class=\"data row0 col2\" >0.13</td> \n",
       "        <td id=\"T_6d784876_2bf0_11e8_9386_9801a78ac6dbrow0_col3\" class=\"data row0 col3\" >0.96</td> \n",
       "        <td id=\"T_6d784876_2bf0_11e8_9386_9801a78ac6dbrow0_col4\" class=\"data row0 col4\" >-0.14</td> \n",
       "        <td id=\"T_6d784876_2bf0_11e8_9386_9801a78ac6dbrow0_col5\" class=\"data row0 col5\" >0.16</td> \n",
       "        <td id=\"T_6d784876_2bf0_11e8_9386_9801a78ac6dbrow0_col6\" class=\"data row0 col6\" >0.0088</td> \n",
       "        <td id=\"T_6d784876_2bf0_11e8_9386_9801a78ac6dbrow0_col7\" class=\"data row0 col7\" >-0.17</td> \n",
       "        <td id=\"T_6d784876_2bf0_11e8_9386_9801a78ac6dbrow0_col8\" class=\"data row0 col8\" >0.37</td> \n",
       "        <td id=\"T_6d784876_2bf0_11e8_9386_9801a78ac6dbrow0_col9\" class=\"data row0 col9\" >-0.14</td> \n",
       "        <td id=\"T_6d784876_2bf0_11e8_9386_9801a78ac6dbrow0_col10\" class=\"data row0 col10\" >-0.0049</td> \n",
       "        <td id=\"T_6d784876_2bf0_11e8_9386_9801a78ac6dbrow0_col11\" class=\"data row0 col11\" >0.013</td> \n",
       "        <td id=\"T_6d784876_2bf0_11e8_9386_9801a78ac6dbrow0_col12\" class=\"data row0 col12\" >0.03</td> \n",
       "        <td id=\"T_6d784876_2bf0_11e8_9386_9801a78ac6dbrow0_col13\" class=\"data row0 col13\" >0.0087</td> \n",
       "        <td id=\"T_6d784876_2bf0_11e8_9386_9801a78ac6dbrow0_col14\" class=\"data row0 col14\" >0.11</td> \n",
       "        <td id=\"T_6d784876_2bf0_11e8_9386_9801a78ac6dbrow0_col15\" class=\"data row0 col15\" >0.026</td> \n",
       "        <td id=\"T_6d784876_2bf0_11e8_9386_9801a78ac6dbrow0_col16\" class=\"data row0 col16\" >0.19</td> \n",
       "        <td id=\"T_6d784876_2bf0_11e8_9386_9801a78ac6dbrow0_col17\" class=\"data row0 col17\" >0.32</td> \n",
       "        <td id=\"T_6d784876_2bf0_11e8_9386_9801a78ac6dbrow0_col18\" class=\"data row0 col18\" >0.022</td> \n",
       "        <td id=\"T_6d784876_2bf0_11e8_9386_9801a78ac6dbrow0_col19\" class=\"data row0 col19\" >0.89</td> \n",
       "        <td id=\"T_6d784876_2bf0_11e8_9386_9801a78ac6dbrow0_col20\" class=\"data row0 col20\" >0.83</td> \n",
       "        <td id=\"T_6d784876_2bf0_11e8_9386_9801a78ac6dbrow0_col21\" class=\"data row0 col21\" >0.066</td> \n",
       "        <td id=\"T_6d784876_2bf0_11e8_9386_9801a78ac6dbrow0_col22\" class=\"data row0 col22\" >0.28</td> \n",
       "        <td id=\"T_6d784876_2bf0_11e8_9386_9801a78ac6dbrow0_col23\" class=\"data row0 col23\" >0.37</td> \n",
       "    </tr>    <tr> \n",
       "        <th id=\"T_6d784876_2bf0_11e8_9386_9801a78ac6dblevel0_row1\" class=\"row_heading level0 row1\" >term</th> \n",
       "        <td id=\"T_6d784876_2bf0_11e8_9386_9801a78ac6dbrow1_col0\" class=\"data row1 col0\" >0.4</td> \n",
       "        <td id=\"T_6d784876_2bf0_11e8_9386_9801a78ac6dbrow1_col1\" class=\"data row1 col1\" >1.0</td> \n",
       "        <td id=\"T_6d784876_2bf0_11e8_9386_9801a78ac6dbrow1_col2\" class=\"data row1 col2\" >0.44</td> \n",
       "        <td id=\"T_6d784876_2bf0_11e8_9386_9801a78ac6dbrow1_col3\" class=\"data row1 col3\" >0.18</td> \n",
       "        <td id=\"T_6d784876_2bf0_11e8_9386_9801a78ac6dbrow1_col4\" class=\"data row1 col4\" >-0.45</td> \n",
       "        <td id=\"T_6d784876_2bf0_11e8_9386_9801a78ac6dbrow1_col5\" class=\"data row1 col5\" >0.47</td> \n",
       "        <td id=\"T_6d784876_2bf0_11e8_9386_9801a78ac6dbrow1_col6\" class=\"data row1 col6\" >0.012</td> \n",
       "        <td id=\"T_6d784876_2bf0_11e8_9386_9801a78ac6dbrow1_col7\" class=\"data row1 col7\" >-0.094</td> \n",
       "        <td id=\"T_6d784876_2bf0_11e8_9386_9801a78ac6dbrow1_col8\" class=\"data row1 col8\" >0.076</td> \n",
       "        <td id=\"T_6d784876_2bf0_11e8_9386_9801a78ac6dbrow1_col9\" class=\"data row1 col9\" >-0.013</td> \n",
       "        <td id=\"T_6d784876_2bf0_11e8_9386_9801a78ac6dbrow1_col10\" class=\"data row1 col10\" >-0.022</td> \n",
       "        <td id=\"T_6d784876_2bf0_11e8_9386_9801a78ac6dbrow1_col11\" class=\"data row1 col11\" >0.017</td> \n",
       "        <td id=\"T_6d784876_2bf0_11e8_9386_9801a78ac6dbrow1_col12\" class=\"data row1 col12\" >0.059</td> \n",
       "        <td id=\"T_6d784876_2bf0_11e8_9386_9801a78ac6dbrow1_col13\" class=\"data row1 col13\" >0.0029</td> \n",
       "        <td id=\"T_6d784876_2bf0_11e8_9386_9801a78ac6dbrow1_col14\" class=\"data row1 col14\" >-0.0067</td> \n",
       "        <td id=\"T_6d784876_2bf0_11e8_9386_9801a78ac6dbrow1_col15\" class=\"data row1 col15\" >0.063</td> \n",
       "        <td id=\"T_6d784876_2bf0_11e8_9386_9801a78ac6dbrow1_col16\" class=\"data row1 col16\" >0.071</td> \n",
       "        <td id=\"T_6d784876_2bf0_11e8_9386_9801a78ac6dbrow1_col17\" class=\"data row1 col17\" >0.081</td> \n",
       "        <td id=\"T_6d784876_2bf0_11e8_9386_9801a78ac6dbrow1_col18\" class=\"data row1 col18\" >-0.015</td> \n",
       "        <td id=\"T_6d784876_2bf0_11e8_9386_9801a78ac6dbrow1_col19\" class=\"data row1 col19\" >0.31</td> \n",
       "        <td id=\"T_6d784876_2bf0_11e8_9386_9801a78ac6dbrow1_col20\" class=\"data row1 col20\" >0.19</td> \n",
       "        <td id=\"T_6d784876_2bf0_11e8_9386_9801a78ac6dbrow1_col21\" class=\"data row1 col21\" >-0.096</td> \n",
       "        <td id=\"T_6d784876_2bf0_11e8_9386_9801a78ac6dbrow1_col22\" class=\"data row1 col22\" >0.1</td> \n",
       "        <td id=\"T_6d784876_2bf0_11e8_9386_9801a78ac6dbrow1_col23\" class=\"data row1 col23\" >0.067</td> \n",
       "    </tr>    <tr> \n",
       "        <th id=\"T_6d784876_2bf0_11e8_9386_9801a78ac6dblevel0_row2\" class=\"row_heading level0 row2\" >int_rate</th> \n",
       "        <td id=\"T_6d784876_2bf0_11e8_9386_9801a78ac6dbrow2_col0\" class=\"data row2 col0\" >0.13</td> \n",
       "        <td id=\"T_6d784876_2bf0_11e8_9386_9801a78ac6dbrow2_col1\" class=\"data row2 col1\" >0.44</td> \n",
       "        <td id=\"T_6d784876_2bf0_11e8_9386_9801a78ac6dbrow2_col2\" class=\"data row2 col2\" >1.0</td> \n",
       "        <td id=\"T_6d784876_2bf0_11e8_9386_9801a78ac6dbrow2_col3\" class=\"data row2 col3\" >0.13</td> \n",
       "        <td id=\"T_6d784876_2bf0_11e8_9386_9801a78ac6dbrow2_col4\" class=\"data row2 col4\" >-0.96</td> \n",
       "        <td id=\"T_6d784876_2bf0_11e8_9386_9801a78ac6dbrow2_col5\" class=\"data row2 col5\" >0.99</td> \n",
       "        <td id=\"T_6d784876_2bf0_11e8_9386_9801a78ac6dbrow2_col6\" class=\"data row2 col6\" >0.0087</td> \n",
       "        <td id=\"T_6d784876_2bf0_11e8_9386_9801a78ac6dbrow2_col7\" class=\"data row2 col7\" >0.1</td> \n",
       "        <td id=\"T_6d784876_2bf0_11e8_9386_9801a78ac6dbrow2_col8\" class=\"data row2 col8\" >-0.045</td> \n",
       "        <td id=\"T_6d784876_2bf0_11e8_9386_9801a78ac6dbrow2_col9\" class=\"data row2 col9\" >0.18</td> \n",
       "        <td id=\"T_6d784876_2bf0_11e8_9386_9801a78ac6dbrow2_col10\" class=\"data row2 col10\" >-0.0049</td> \n",
       "        <td id=\"T_6d784876_2bf0_11e8_9386_9801a78ac6dbrow2_col11\" class=\"data row2 col11\" >0.0038</td> \n",
       "        <td id=\"T_6d784876_2bf0_11e8_9386_9801a78ac6dbrow2_col12\" class=\"data row2 col12\" >0.14</td> \n",
       "        <td id=\"T_6d784876_2bf0_11e8_9386_9801a78ac6dbrow2_col13\" class=\"data row2 col13\" >0.09</td> \n",
       "        <td id=\"T_6d784876_2bf0_11e8_9386_9801a78ac6dbrow2_col14\" class=\"data row2 col14\" >-0.56</td> \n",
       "        <td id=\"T_6d784876_2bf0_11e8_9386_9801a78ac6dbrow2_col15\" class=\"data row2 col15\" >0.25</td> \n",
       "        <td id=\"T_6d784876_2bf0_11e8_9386_9801a78ac6dbrow2_col16\" class=\"data row2 col16\" >0.0029</td> \n",
       "        <td id=\"T_6d784876_2bf0_11e8_9386_9801a78ac6dbrow2_col17\" class=\"data row2 col17\" >-0.022</td> \n",
       "        <td id=\"T_6d784876_2bf0_11e8_9386_9801a78ac6dbrow2_col18\" class=\"data row2 col18\" >-0.037</td> \n",
       "        <td id=\"T_6d784876_2bf0_11e8_9386_9801a78ac6dbrow2_col19\" class=\"data row2 col19\" >0.11</td> \n",
       "        <td id=\"T_6d784876_2bf0_11e8_9386_9801a78ac6dbrow2_col20\" class=\"data row2 col20\" >-0.028</td> \n",
       "        <td id=\"T_6d784876_2bf0_11e8_9386_9801a78ac6dbrow2_col21\" class=\"data row2 col21\" >-0.34</td> \n",
       "        <td id=\"T_6d784876_2bf0_11e8_9386_9801a78ac6dbrow2_col22\" class=\"data row2 col22\" >0.026</td> \n",
       "        <td id=\"T_6d784876_2bf0_11e8_9386_9801a78ac6dbrow2_col23\" class=\"data row2 col23\" >-0.28</td> \n",
       "    </tr>    <tr> \n",
       "        <th id=\"T_6d784876_2bf0_11e8_9386_9801a78ac6dblevel0_row3\" class=\"row_heading level0 row3\" >installment</th> \n",
       "        <td id=\"T_6d784876_2bf0_11e8_9386_9801a78ac6dbrow3_col0\" class=\"data row3 col0\" >0.96</td> \n",
       "        <td id=\"T_6d784876_2bf0_11e8_9386_9801a78ac6dbrow3_col1\" class=\"data row3 col1\" >0.18</td> \n",
       "        <td id=\"T_6d784876_2bf0_11e8_9386_9801a78ac6dbrow3_col2\" class=\"data row3 col2\" >0.13</td> \n",
       "        <td id=\"T_6d784876_2bf0_11e8_9386_9801a78ac6dbrow3_col3\" class=\"data row3 col3\" >1.0</td> \n",
       "        <td id=\"T_6d784876_2bf0_11e8_9386_9801a78ac6dbrow3_col4\" class=\"data row3 col4\" >-0.13</td> \n",
       "        <td id=\"T_6d784876_2bf0_11e8_9386_9801a78ac6dbrow3_col5\" class=\"data row3 col5\" >0.14</td> \n",
       "        <td id=\"T_6d784876_2bf0_11e8_9386_9801a78ac6dbrow3_col6\" class=\"data row3 col6\" >0.0084</td> \n",
       "        <td id=\"T_6d784876_2bf0_11e8_9386_9801a78ac6dbrow3_col7\" class=\"data row3 col7\" >-0.14</td> \n",
       "        <td id=\"T_6d784876_2bf0_11e8_9386_9801a78ac6dbrow3_col8\" class=\"data row3 col8\" >0.36</td> \n",
       "        <td id=\"T_6d784876_2bf0_11e8_9386_9801a78ac6dbrow3_col9\" class=\"data row3 col9\" >-0.13</td> \n",
       "        <td id=\"T_6d784876_2bf0_11e8_9386_9801a78ac6dbrow3_col10\" class=\"data row3 col10\" >4.3e-05</td> \n",
       "        <td id=\"T_6d784876_2bf0_11e8_9386_9801a78ac6dbrow3_col11\" class=\"data row3 col11\" >0.0093</td> \n",
       "        <td id=\"T_6d784876_2bf0_11e8_9386_9801a78ac6dbrow3_col12\" class=\"data row3 col12\" >0.032</td> \n",
       "        <td id=\"T_6d784876_2bf0_11e8_9386_9801a78ac6dbrow3_col13\" class=\"data row3 col13\" >0.02</td> \n",
       "        <td id=\"T_6d784876_2bf0_11e8_9386_9801a78ac6dbrow3_col14\" class=\"data row3 col14\" >0.051</td> \n",
       "        <td id=\"T_6d784876_2bf0_11e8_9386_9801a78ac6dbrow3_col15\" class=\"data row3 col15\" >0.04</td> \n",
       "        <td id=\"T_6d784876_2bf0_11e8_9386_9801a78ac6dbrow3_col16\" class=\"data row3 col16\" >0.19</td> \n",
       "        <td id=\"T_6d784876_2bf0_11e8_9386_9801a78ac6dbrow3_col17\" class=\"data row3 col17\" >0.31</td> \n",
       "        <td id=\"T_6d784876_2bf0_11e8_9386_9801a78ac6dbrow3_col18\" class=\"data row3 col18\" >0.022</td> \n",
       "        <td id=\"T_6d784876_2bf0_11e8_9386_9801a78ac6dbrow3_col19\" class=\"data row3 col19\" >0.87</td> \n",
       "        <td id=\"T_6d784876_2bf0_11e8_9386_9801a78ac6dbrow3_col20\" class=\"data row3 col20\" >0.82</td> \n",
       "        <td id=\"T_6d784876_2bf0_11e8_9386_9801a78ac6dbrow3_col21\" class=\"data row3 col21\" >0.06</td> \n",
       "        <td id=\"T_6d784876_2bf0_11e8_9386_9801a78ac6dbrow3_col22\" class=\"data row3 col22\" >0.27</td> \n",
       "        <td id=\"T_6d784876_2bf0_11e8_9386_9801a78ac6dbrow3_col23\" class=\"data row3 col23\" >0.34</td> \n",
       "    </tr>    <tr> \n",
       "        <th id=\"T_6d784876_2bf0_11e8_9386_9801a78ac6dblevel0_row4\" class=\"row_heading level0 row4\" >grade</th> \n",
       "        <td id=\"T_6d784876_2bf0_11e8_9386_9801a78ac6dbrow4_col0\" class=\"data row4 col0\" >-0.14</td> \n",
       "        <td id=\"T_6d784876_2bf0_11e8_9386_9801a78ac6dbrow4_col1\" class=\"data row4 col1\" >-0.45</td> \n",
       "        <td id=\"T_6d784876_2bf0_11e8_9386_9801a78ac6dbrow4_col2\" class=\"data row4 col2\" >-0.96</td> \n",
       "        <td id=\"T_6d784876_2bf0_11e8_9386_9801a78ac6dbrow4_col3\" class=\"data row4 col3\" >-0.13</td> \n",
       "        <td id=\"T_6d784876_2bf0_11e8_9386_9801a78ac6dbrow4_col4\" class=\"data row4 col4\" >1.0</td> \n",
       "        <td id=\"T_6d784876_2bf0_11e8_9386_9801a78ac6dbrow4_col5\" class=\"data row4 col5\" >-0.98</td> \n",
       "        <td id=\"T_6d784876_2bf0_11e8_9386_9801a78ac6dbrow4_col6\" class=\"data row4 col6\" >-0.0073</td> \n",
       "        <td id=\"T_6d784876_2bf0_11e8_9386_9801a78ac6dbrow4_col7\" class=\"data row4 col7\" >-0.092</td> \n",
       "        <td id=\"T_6d784876_2bf0_11e8_9386_9801a78ac6dbrow4_col8\" class=\"data row4 col8\" >0.03</td> \n",
       "        <td id=\"T_6d784876_2bf0_11e8_9386_9801a78ac6dbrow4_col9\" class=\"data row4 col9\" >-0.19</td> \n",
       "        <td id=\"T_6d784876_2bf0_11e8_9386_9801a78ac6dbrow4_col10\" class=\"data row4 col10\" >0.0076</td> \n",
       "        <td id=\"T_6d784876_2bf0_11e8_9386_9801a78ac6dbrow4_col11\" class=\"data row4 col11\" >-0.0041</td> \n",
       "        <td id=\"T_6d784876_2bf0_11e8_9386_9801a78ac6dbrow4_col12\" class=\"data row4 col12\" >-0.12</td> \n",
       "        <td id=\"T_6d784876_2bf0_11e8_9386_9801a78ac6dbrow4_col13\" class=\"data row4 col13\" >-0.085</td> \n",
       "        <td id=\"T_6d784876_2bf0_11e8_9386_9801a78ac6dbrow4_col14\" class=\"data row4 col14\" >0.5</td> \n",
       "        <td id=\"T_6d784876_2bf0_11e8_9386_9801a78ac6dbrow4_col15\" class=\"data row4 col15\" >-0.25</td> \n",
       "        <td id=\"T_6d784876_2bf0_11e8_9386_9801a78ac6dbrow4_col16\" class=\"data row4 col16\" >-0.0078</td> \n",
       "        <td id=\"T_6d784876_2bf0_11e8_9386_9801a78ac6dbrow4_col17\" class=\"data row4 col17\" >0.018</td> \n",
       "        <td id=\"T_6d784876_2bf0_11e8_9386_9801a78ac6dbrow4_col18\" class=\"data row4 col18\" >0.038</td> \n",
       "        <td id=\"T_6d784876_2bf0_11e8_9386_9801a78ac6dbrow4_col19\" class=\"data row4 col19\" >-0.12</td> \n",
       "        <td id=\"T_6d784876_2bf0_11e8_9386_9801a78ac6dbrow4_col20\" class=\"data row4 col20\" >0.022</td> \n",
       "        <td id=\"T_6d784876_2bf0_11e8_9386_9801a78ac6dbrow4_col21\" class=\"data row4 col21\" >0.32</td> \n",
       "        <td id=\"T_6d784876_2bf0_11e8_9386_9801a78ac6dbrow4_col22\" class=\"data row4 col22\" >-0.032</td> \n",
       "        <td id=\"T_6d784876_2bf0_11e8_9386_9801a78ac6dbrow4_col23\" class=\"data row4 col23\" >0.25</td> \n",
       "    </tr>    <tr> \n",
       "        <th id=\"T_6d784876_2bf0_11e8_9386_9801a78ac6dblevel0_row5\" class=\"row_heading level0 row5\" >sub_grade</th> \n",
       "        <td id=\"T_6d784876_2bf0_11e8_9386_9801a78ac6dbrow5_col0\" class=\"data row5 col0\" >0.16</td> \n",
       "        <td id=\"T_6d784876_2bf0_11e8_9386_9801a78ac6dbrow5_col1\" class=\"data row5 col1\" >0.47</td> \n",
       "        <td id=\"T_6d784876_2bf0_11e8_9386_9801a78ac6dbrow5_col2\" class=\"data row5 col2\" >0.99</td> \n",
       "        <td id=\"T_6d784876_2bf0_11e8_9386_9801a78ac6dbrow5_col3\" class=\"data row5 col3\" >0.14</td> \n",
       "        <td id=\"T_6d784876_2bf0_11e8_9386_9801a78ac6dbrow5_col4\" class=\"data row5 col4\" >-0.98</td> \n",
       "        <td id=\"T_6d784876_2bf0_11e8_9386_9801a78ac6dbrow5_col5\" class=\"data row5 col5\" >1.0</td> \n",
       "        <td id=\"T_6d784876_2bf0_11e8_9386_9801a78ac6dbrow5_col6\" class=\"data row5 col6\" >0.0077</td> \n",
       "        <td id=\"T_6d784876_2bf0_11e8_9386_9801a78ac6dbrow5_col7\" class=\"data row5 col7\" >0.095</td> \n",
       "        <td id=\"T_6d784876_2bf0_11e8_9386_9801a78ac6dbrow5_col8\" class=\"data row5 col8\" >-0.03</td> \n",
       "        <td id=\"T_6d784876_2bf0_11e8_9386_9801a78ac6dbrow5_col9\" class=\"data row5 col9\" >0.19</td> \n",
       "        <td id=\"T_6d784876_2bf0_11e8_9386_9801a78ac6dbrow5_col10\" class=\"data row5 col10\" >-0.0065</td> \n",
       "        <td id=\"T_6d784876_2bf0_11e8_9386_9801a78ac6dbrow5_col11\" class=\"data row5 col11\" >0.0044</td> \n",
       "        <td id=\"T_6d784876_2bf0_11e8_9386_9801a78ac6dbrow5_col12\" class=\"data row5 col12\" >0.13</td> \n",
       "        <td id=\"T_6d784876_2bf0_11e8_9386_9801a78ac6dbrow5_col13\" class=\"data row5 col13\" >0.087</td> \n",
       "        <td id=\"T_6d784876_2bf0_11e8_9386_9801a78ac6dbrow5_col14\" class=\"data row5 col14\" >-0.52</td> \n",
       "        <td id=\"T_6d784876_2bf0_11e8_9386_9801a78ac6dbrow5_col15\" class=\"data row5 col15\" >0.26</td> \n",
       "        <td id=\"T_6d784876_2bf0_11e8_9386_9801a78ac6dbrow5_col16\" class=\"data row5 col16\" >0.0083</td> \n",
       "        <td id=\"T_6d784876_2bf0_11e8_9386_9801a78ac6dbrow5_col17\" class=\"data row5 col17\" >-0.015</td> \n",
       "        <td id=\"T_6d784876_2bf0_11e8_9386_9801a78ac6dbrow5_col18\" class=\"data row5 col18\" >-0.036</td> \n",
       "        <td id=\"T_6d784876_2bf0_11e8_9386_9801a78ac6dbrow5_col19\" class=\"data row5 col19\" >0.12</td> \n",
       "        <td id=\"T_6d784876_2bf0_11e8_9386_9801a78ac6dbrow5_col20\" class=\"data row5 col20\" >-0.016</td> \n",
       "        <td id=\"T_6d784876_2bf0_11e8_9386_9801a78ac6dbrow5_col21\" class=\"data row5 col21\" >-0.33</td> \n",
       "        <td id=\"T_6d784876_2bf0_11e8_9386_9801a78ac6dbrow5_col22\" class=\"data row5 col22\" >0.036</td> \n",
       "        <td id=\"T_6d784876_2bf0_11e8_9386_9801a78ac6dbrow5_col23\" class=\"data row5 col23\" >-0.26</td> \n",
       "    </tr>    <tr> \n",
       "        <th id=\"T_6d784876_2bf0_11e8_9386_9801a78ac6dblevel0_row6\" class=\"row_heading level0 row6\" >emp_length</th> \n",
       "        <td id=\"T_6d784876_2bf0_11e8_9386_9801a78ac6dbrow6_col0\" class=\"data row6 col0\" >0.0088</td> \n",
       "        <td id=\"T_6d784876_2bf0_11e8_9386_9801a78ac6dbrow6_col1\" class=\"data row6 col1\" >0.012</td> \n",
       "        <td id=\"T_6d784876_2bf0_11e8_9386_9801a78ac6dbrow6_col2\" class=\"data row6 col2\" >0.0087</td> \n",
       "        <td id=\"T_6d784876_2bf0_11e8_9386_9801a78ac6dbrow6_col3\" class=\"data row6 col3\" >0.0084</td> \n",
       "        <td id=\"T_6d784876_2bf0_11e8_9386_9801a78ac6dbrow6_col4\" class=\"data row6 col4\" >-0.0073</td> \n",
       "        <td id=\"T_6d784876_2bf0_11e8_9386_9801a78ac6dbrow6_col5\" class=\"data row6 col5\" >0.0077</td> \n",
       "        <td id=\"T_6d784876_2bf0_11e8_9386_9801a78ac6dbrow6_col6\" class=\"data row6 col6\" >1.0</td> \n",
       "        <td id=\"T_6d784876_2bf0_11e8_9386_9801a78ac6dbrow6_col7\" class=\"data row6 col7\" >-0.02</td> \n",
       "        <td id=\"T_6d784876_2bf0_11e8_9386_9801a78ac6dbrow6_col8\" class=\"data row6 col8\" >0.0048</td> \n",
       "        <td id=\"T_6d784876_2bf0_11e8_9386_9801a78ac6dbrow6_col9\" class=\"data row6 col9\" >-0.0027</td> \n",
       "        <td id=\"T_6d784876_2bf0_11e8_9386_9801a78ac6dbrow6_col10\" class=\"data row6 col10\" >0.011</td> \n",
       "        <td id=\"T_6d784876_2bf0_11e8_9386_9801a78ac6dbrow6_col11\" class=\"data row6 col11\" >-0.02</td> \n",
       "        <td id=\"T_6d784876_2bf0_11e8_9386_9801a78ac6dbrow6_col12\" class=\"data row6 col12\" >-0.0017</td> \n",
       "        <td id=\"T_6d784876_2bf0_11e8_9386_9801a78ac6dbrow6_col13\" class=\"data row6 col13\" >-0.021</td> \n",
       "        <td id=\"T_6d784876_2bf0_11e8_9386_9801a78ac6dbrow6_col14\" class=\"data row6 col14\" >-0.013</td> \n",
       "        <td id=\"T_6d784876_2bf0_11e8_9386_9801a78ac6dbrow6_col15\" class=\"data row6 col15\" >0.0018</td> \n",
       "        <td id=\"T_6d784876_2bf0_11e8_9386_9801a78ac6dbrow6_col16\" class=\"data row6 col16\" >0.0075</td> \n",
       "        <td id=\"T_6d784876_2bf0_11e8_9386_9801a78ac6dbrow6_col17\" class=\"data row6 col17\" >-0.026</td> \n",
       "        <td id=\"T_6d784876_2bf0_11e8_9386_9801a78ac6dbrow6_col18\" class=\"data row6 col18\" >-0.0038</td> \n",
       "        <td id=\"T_6d784876_2bf0_11e8_9386_9801a78ac6dbrow6_col19\" class=\"data row6 col19\" >0.0056</td> \n",
       "        <td id=\"T_6d784876_2bf0_11e8_9386_9801a78ac6dbrow6_col20\" class=\"data row6 col20\" >0.0044</td> \n",
       "        <td id=\"T_6d784876_2bf0_11e8_9386_9801a78ac6dbrow6_col21\" class=\"data row6 col21\" >-0.017</td> \n",
       "        <td id=\"T_6d784876_2bf0_11e8_9386_9801a78ac6dbrow6_col22\" class=\"data row6 col22\" >-0.005</td> \n",
       "        <td id=\"T_6d784876_2bf0_11e8_9386_9801a78ac6dbrow6_col23\" class=\"data row6 col23\" >-0.026</td> \n",
       "    </tr>    <tr> \n",
       "        <th id=\"T_6d784876_2bf0_11e8_9386_9801a78ac6dblevel0_row7\" class=\"row_heading level0 row7\" >home_ownership</th> \n",
       "        <td id=\"T_6d784876_2bf0_11e8_9386_9801a78ac6dbrow7_col0\" class=\"data row7 col0\" >-0.17</td> \n",
       "        <td id=\"T_6d784876_2bf0_11e8_9386_9801a78ac6dbrow7_col1\" class=\"data row7 col1\" >-0.094</td> \n",
       "        <td id=\"T_6d784876_2bf0_11e8_9386_9801a78ac6dbrow7_col2\" class=\"data row7 col2\" >0.1</td> \n",
       "        <td id=\"T_6d784876_2bf0_11e8_9386_9801a78ac6dbrow7_col3\" class=\"data row7 col3\" >-0.14</td> \n",
       "        <td id=\"T_6d784876_2bf0_11e8_9386_9801a78ac6dbrow7_col4\" class=\"data row7 col4\" >-0.092</td> \n",
       "        <td id=\"T_6d784876_2bf0_11e8_9386_9801a78ac6dbrow7_col5\" class=\"data row7 col5\" >0.095</td> \n",
       "        <td id=\"T_6d784876_2bf0_11e8_9386_9801a78ac6dbrow7_col6\" class=\"data row7 col6\" >-0.02</td> \n",
       "        <td id=\"T_6d784876_2bf0_11e8_9386_9801a78ac6dbrow7_col7\" class=\"data row7 col7\" >1.0</td> \n",
       "        <td id=\"T_6d784876_2bf0_11e8_9386_9801a78ac6dbrow7_col8\" class=\"data row7 col8\" >-0.17</td> \n",
       "        <td id=\"T_6d784876_2bf0_11e8_9386_9801a78ac6dbrow7_col9\" class=\"data row7 col9\" >0.039</td> \n",
       "        <td id=\"T_6d784876_2bf0_11e8_9386_9801a78ac6dbrow7_col10\" class=\"data row7 col10\" >-0.011</td> \n",
       "        <td id=\"T_6d784876_2bf0_11e8_9386_9801a78ac6dbrow7_col11\" class=\"data row7 col11\" >-0.043</td> \n",
       "        <td id=\"T_6d784876_2bf0_11e8_9386_9801a78ac6dbrow7_col12\" class=\"data row7 col12\" >0.019</td> \n",
       "        <td id=\"T_6d784876_2bf0_11e8_9386_9801a78ac6dbrow7_col13\" class=\"data row7 col13\" >-0.044</td> \n",
       "        <td id=\"T_6d784876_2bf0_11e8_9386_9801a78ac6dbrow7_col14\" class=\"data row7 col14\" >-0.099</td> \n",
       "        <td id=\"T_6d784876_2bf0_11e8_9386_9801a78ac6dbrow7_col15\" class=\"data row7 col15\" >-0.08</td> \n",
       "        <td id=\"T_6d784876_2bf0_11e8_9386_9801a78ac6dbrow7_col16\" class=\"data row7 col16\" >-0.12</td> \n",
       "        <td id=\"T_6d784876_2bf0_11e8_9386_9801a78ac6dbrow7_col17\" class=\"data row7 col17\" >-0.12</td> \n",
       "        <td id=\"T_6d784876_2bf0_11e8_9386_9801a78ac6dbrow7_col18\" class=\"data row7 col18\" >-0.017</td> \n",
       "        <td id=\"T_6d784876_2bf0_11e8_9386_9801a78ac6dbrow7_col19\" class=\"data row7 col19\" >-0.15</td> \n",
       "        <td id=\"T_6d784876_2bf0_11e8_9386_9801a78ac6dbrow7_col20\" class=\"data row7 col20\" >-0.16</td> \n",
       "        <td id=\"T_6d784876_2bf0_11e8_9386_9801a78ac6dbrow7_col21\" class=\"data row7 col21\" >-0.071</td> \n",
       "        <td id=\"T_6d784876_2bf0_11e8_9386_9801a78ac6dbrow7_col22\" class=\"data row7 col22\" >-0.13</td> \n",
       "        <td id=\"T_6d784876_2bf0_11e8_9386_9801a78ac6dbrow7_col23\" class=\"data row7 col23\" >-0.12</td> \n",
       "    </tr>    <tr> \n",
       "        <th id=\"T_6d784876_2bf0_11e8_9386_9801a78ac6dblevel0_row8\" class=\"row_heading level0 row8\" >annual_inc</th> \n",
       "        <td id=\"T_6d784876_2bf0_11e8_9386_9801a78ac6dbrow8_col0\" class=\"data row8 col0\" >0.37</td> \n",
       "        <td id=\"T_6d784876_2bf0_11e8_9386_9801a78ac6dbrow8_col1\" class=\"data row8 col1\" >0.076</td> \n",
       "        <td id=\"T_6d784876_2bf0_11e8_9386_9801a78ac6dbrow8_col2\" class=\"data row8 col2\" >-0.045</td> \n",
       "        <td id=\"T_6d784876_2bf0_11e8_9386_9801a78ac6dbrow8_col3\" class=\"data row8 col3\" >0.36</td> \n",
       "        <td id=\"T_6d784876_2bf0_11e8_9386_9801a78ac6dbrow8_col4\" class=\"data row8 col4\" >0.03</td> \n",
       "        <td id=\"T_6d784876_2bf0_11e8_9386_9801a78ac6dbrow8_col5\" class=\"data row8 col5\" >-0.03</td> \n",
       "        <td id=\"T_6d784876_2bf0_11e8_9386_9801a78ac6dbrow8_col6\" class=\"data row8 col6\" >0.0048</td> \n",
       "        <td id=\"T_6d784876_2bf0_11e8_9386_9801a78ac6dbrow8_col7\" class=\"data row8 col7\" >-0.17</td> \n",
       "        <td id=\"T_6d784876_2bf0_11e8_9386_9801a78ac6dbrow8_col8\" class=\"data row8 col8\" >1.0</td> \n",
       "        <td id=\"T_6d784876_2bf0_11e8_9386_9801a78ac6dbrow8_col9\" class=\"data row8 col9\" >0.015</td> \n",
       "        <td id=\"T_6d784876_2bf0_11e8_9386_9801a78ac6dbrow8_col10\" class=\"data row8 col10\" >-0.016</td> \n",
       "        <td id=\"T_6d784876_2bf0_11e8_9386_9801a78ac6dbrow8_col11\" class=\"data row8 col11\" >-0.0023</td> \n",
       "        <td id=\"T_6d784876_2bf0_11e8_9386_9801a78ac6dbrow8_col12\" class=\"data row8 col12\" >-0.2</td> \n",
       "        <td id=\"T_6d784876_2bf0_11e8_9386_9801a78ac6dbrow8_col13\" class=\"data row8 col13\" >0.068</td> \n",
       "        <td id=\"T_6d784876_2bf0_11e8_9386_9801a78ac6dbrow8_col14\" class=\"data row8 col14\" >0.11</td> \n",
       "        <td id=\"T_6d784876_2bf0_11e8_9386_9801a78ac6dbrow8_col15\" class=\"data row8 col15\" >0.085</td> \n",
       "        <td id=\"T_6d784876_2bf0_11e8_9386_9801a78ac6dbrow8_col16\" class=\"data row8 col16\" >0.16</td> \n",
       "        <td id=\"T_6d784876_2bf0_11e8_9386_9801a78ac6dbrow8_col17\" class=\"data row8 col17\" >0.34</td> \n",
       "        <td id=\"T_6d784876_2bf0_11e8_9386_9801a78ac6dbrow8_col18\" class=\"data row8 col18\" >0.021</td> \n",
       "        <td id=\"T_6d784876_2bf0_11e8_9386_9801a78ac6dbrow8_col19\" class=\"data row8 col19\" >0.35</td> \n",
       "        <td id=\"T_6d784876_2bf0_11e8_9386_9801a78ac6dbrow8_col20\" class=\"data row8 col20\" >0.35</td> \n",
       "        <td id=\"T_6d784876_2bf0_11e8_9386_9801a78ac6dbrow8_col21\" class=\"data row8 col21\" >0.083</td> \n",
       "        <td id=\"T_6d784876_2bf0_11e8_9386_9801a78ac6dbrow8_col22\" class=\"data row8 col22\" >0.39</td> \n",
       "        <td id=\"T_6d784876_2bf0_11e8_9386_9801a78ac6dbrow8_col23\" class=\"data row8 col23\" >0.29</td> \n",
       "    </tr>    <tr> \n",
       "        <th id=\"T_6d784876_2bf0_11e8_9386_9801a78ac6dblevel0_row9\" class=\"row_heading level0 row9\" >purpose</th> \n",
       "        <td id=\"T_6d784876_2bf0_11e8_9386_9801a78ac6dbrow9_col0\" class=\"data row9 col0\" >-0.14</td> \n",
       "        <td id=\"T_6d784876_2bf0_11e8_9386_9801a78ac6dbrow9_col1\" class=\"data row9 col1\" >-0.013</td> \n",
       "        <td id=\"T_6d784876_2bf0_11e8_9386_9801a78ac6dbrow9_col2\" class=\"data row9 col2\" >0.18</td> \n",
       "        <td id=\"T_6d784876_2bf0_11e8_9386_9801a78ac6dbrow9_col3\" class=\"data row9 col3\" >-0.13</td> \n",
       "        <td id=\"T_6d784876_2bf0_11e8_9386_9801a78ac6dbrow9_col4\" class=\"data row9 col4\" >-0.19</td> \n",
       "        <td id=\"T_6d784876_2bf0_11e8_9386_9801a78ac6dbrow9_col5\" class=\"data row9 col5\" >0.19</td> \n",
       "        <td id=\"T_6d784876_2bf0_11e8_9386_9801a78ac6dbrow9_col6\" class=\"data row9 col6\" >-0.0027</td> \n",
       "        <td id=\"T_6d784876_2bf0_11e8_9386_9801a78ac6dbrow9_col7\" class=\"data row9 col7\" >0.039</td> \n",
       "        <td id=\"T_6d784876_2bf0_11e8_9386_9801a78ac6dbrow9_col8\" class=\"data row9 col8\" >0.015</td> \n",
       "        <td id=\"T_6d784876_2bf0_11e8_9386_9801a78ac6dbrow9_col9\" class=\"data row9 col9\" >1.0</td> \n",
       "        <td id=\"T_6d784876_2bf0_11e8_9386_9801a78ac6dbrow9_col10\" class=\"data row9 col10\" >-0.015</td> \n",
       "        <td id=\"T_6d784876_2bf0_11e8_9386_9801a78ac6dbrow9_col11\" class=\"data row9 col11\" >-0.0051</td> \n",
       "        <td id=\"T_6d784876_2bf0_11e8_9386_9801a78ac6dbrow9_col12\" class=\"data row9 col12\" >-0.078</td> \n",
       "        <td id=\"T_6d784876_2bf0_11e8_9386_9801a78ac6dbrow9_col13\" class=\"data row9 col13\" >0.017</td> \n",
       "        <td id=\"T_6d784876_2bf0_11e8_9386_9801a78ac6dbrow9_col14\" class=\"data row9 col14\" >0.064</td> \n",
       "        <td id=\"T_6d784876_2bf0_11e8_9386_9801a78ac6dbrow9_col15\" class=\"data row9 col15\" >0.053</td> \n",
       "        <td id=\"T_6d784876_2bf0_11e8_9386_9801a78ac6dbrow9_col16\" class=\"data row9 col16\" >-0.072</td> \n",
       "        <td id=\"T_6d784876_2bf0_11e8_9386_9801a78ac6dbrow9_col17\" class=\"data row9 col17\" >-0.063</td> \n",
       "        <td id=\"T_6d784876_2bf0_11e8_9386_9801a78ac6dbrow9_col18\" class=\"data row9 col18\" >-0.033</td> \n",
       "        <td id=\"T_6d784876_2bf0_11e8_9386_9801a78ac6dbrow9_col19\" class=\"data row9 col19\" >-0.13</td> \n",
       "        <td id=\"T_6d784876_2bf0_11e8_9386_9801a78ac6dbrow9_col20\" class=\"data row9 col20\" >-0.14</td> \n",
       "        <td id=\"T_6d784876_2bf0_11e8_9386_9801a78ac6dbrow9_col21\" class=\"data row9 col21\" >-0.06</td> \n",
       "        <td id=\"T_6d784876_2bf0_11e8_9386_9801a78ac6dbrow9_col22\" class=\"data row9 col22\" >-0.02</td> \n",
       "        <td id=\"T_6d784876_2bf0_11e8_9386_9801a78ac6dbrow9_col23\" class=\"data row9 col23\" >-0.068</td> \n",
       "    </tr>    <tr> \n",
       "        <th id=\"T_6d784876_2bf0_11e8_9386_9801a78ac6dblevel0_row10\" class=\"row_heading level0 row10\" >zip_code</th> \n",
       "        <td id=\"T_6d784876_2bf0_11e8_9386_9801a78ac6dbrow10_col0\" class=\"data row10 col0\" >-0.0049</td> \n",
       "        <td id=\"T_6d784876_2bf0_11e8_9386_9801a78ac6dbrow10_col1\" class=\"data row10 col1\" >-0.022</td> \n",
       "        <td id=\"T_6d784876_2bf0_11e8_9386_9801a78ac6dbrow10_col2\" class=\"data row10 col2\" >-0.0049</td> \n",
       "        <td id=\"T_6d784876_2bf0_11e8_9386_9801a78ac6dbrow10_col3\" class=\"data row10 col3\" >4.3e-05</td> \n",
       "        <td id=\"T_6d784876_2bf0_11e8_9386_9801a78ac6dbrow10_col4\" class=\"data row10 col4\" >0.0076</td> \n",
       "        <td id=\"T_6d784876_2bf0_11e8_9386_9801a78ac6dbrow10_col5\" class=\"data row10 col5\" >-0.0065</td> \n",
       "        <td id=\"T_6d784876_2bf0_11e8_9386_9801a78ac6dbrow10_col6\" class=\"data row10 col6\" >0.011</td> \n",
       "        <td id=\"T_6d784876_2bf0_11e8_9386_9801a78ac6dbrow10_col7\" class=\"data row10 col7\" >-0.011</td> \n",
       "        <td id=\"T_6d784876_2bf0_11e8_9386_9801a78ac6dbrow10_col8\" class=\"data row10 col8\" >-0.016</td> \n",
       "        <td id=\"T_6d784876_2bf0_11e8_9386_9801a78ac6dbrow10_col9\" class=\"data row10 col9\" >-0.015</td> \n",
       "        <td id=\"T_6d784876_2bf0_11e8_9386_9801a78ac6dbrow10_col10\" class=\"data row10 col10\" >1.0</td> \n",
       "        <td id=\"T_6d784876_2bf0_11e8_9386_9801a78ac6dbrow10_col11\" class=\"data row10 col11\" >-0.28</td> \n",
       "        <td id=\"T_6d784876_2bf0_11e8_9386_9801a78ac6dbrow10_col12\" class=\"data row10 col12\" >0.012</td> \n",
       "        <td id=\"T_6d784876_2bf0_11e8_9386_9801a78ac6dbrow10_col13\" class=\"data row10 col13\" >-0.011</td> \n",
       "        <td id=\"T_6d784876_2bf0_11e8_9386_9801a78ac6dbrow10_col14\" class=\"data row10 col14\" >-0.023</td> \n",
       "        <td id=\"T_6d784876_2bf0_11e8_9386_9801a78ac6dbrow10_col15\" class=\"data row10 col15\" >-0.0082</td> \n",
       "        <td id=\"T_6d784876_2bf0_11e8_9386_9801a78ac6dbrow10_col16\" class=\"data row10 col16\" >-0.053</td> \n",
       "        <td id=\"T_6d784876_2bf0_11e8_9386_9801a78ac6dbrow10_col17\" class=\"data row10 col17\" >-0.021</td> \n",
       "        <td id=\"T_6d784876_2bf0_11e8_9386_9801a78ac6dbrow10_col18\" class=\"data row10 col18\" >0.0068</td> \n",
       "        <td id=\"T_6d784876_2bf0_11e8_9386_9801a78ac6dbrow10_col19\" class=\"data row10 col19\" >0.0019</td> \n",
       "        <td id=\"T_6d784876_2bf0_11e8_9386_9801a78ac6dbrow10_col20\" class=\"data row10 col20\" >0.008</td> \n",
       "        <td id=\"T_6d784876_2bf0_11e8_9386_9801a78ac6dbrow10_col21\" class=\"data row10 col21\" >0.026</td> \n",
       "        <td id=\"T_6d784876_2bf0_11e8_9386_9801a78ac6dbrow10_col22\" class=\"data row10 col22\" >-0.022</td> \n",
       "        <td id=\"T_6d784876_2bf0_11e8_9386_9801a78ac6dbrow10_col23\" class=\"data row10 col23\" >-0.033</td> \n",
       "    </tr>    <tr> \n",
       "        <th id=\"T_6d784876_2bf0_11e8_9386_9801a78ac6dblevel0_row11\" class=\"row_heading level0 row11\" >addr_state</th> \n",
       "        <td id=\"T_6d784876_2bf0_11e8_9386_9801a78ac6dbrow11_col0\" class=\"data row11 col0\" >0.013</td> \n",
       "        <td id=\"T_6d784876_2bf0_11e8_9386_9801a78ac6dbrow11_col1\" class=\"data row11 col1\" >0.017</td> \n",
       "        <td id=\"T_6d784876_2bf0_11e8_9386_9801a78ac6dbrow11_col2\" class=\"data row11 col2\" >0.0038</td> \n",
       "        <td id=\"T_6d784876_2bf0_11e8_9386_9801a78ac6dbrow11_col3\" class=\"data row11 col3\" >0.0093</td> \n",
       "        <td id=\"T_6d784876_2bf0_11e8_9386_9801a78ac6dbrow11_col4\" class=\"data row11 col4\" >-0.0041</td> \n",
       "        <td id=\"T_6d784876_2bf0_11e8_9386_9801a78ac6dbrow11_col5\" class=\"data row11 col5\" >0.0044</td> \n",
       "        <td id=\"T_6d784876_2bf0_11e8_9386_9801a78ac6dbrow11_col6\" class=\"data row11 col6\" >-0.02</td> \n",
       "        <td id=\"T_6d784876_2bf0_11e8_9386_9801a78ac6dbrow11_col7\" class=\"data row11 col7\" >-0.043</td> \n",
       "        <td id=\"T_6d784876_2bf0_11e8_9386_9801a78ac6dbrow11_col8\" class=\"data row11 col8\" >-0.0023</td> \n",
       "        <td id=\"T_6d784876_2bf0_11e8_9386_9801a78ac6dbrow11_col9\" class=\"data row11 col9\" >-0.0051</td> \n",
       "        <td id=\"T_6d784876_2bf0_11e8_9386_9801a78ac6dbrow11_col10\" class=\"data row11 col10\" >-0.28</td> \n",
       "        <td id=\"T_6d784876_2bf0_11e8_9386_9801a78ac6dbrow11_col11\" class=\"data row11 col11\" >1.0</td> \n",
       "        <td id=\"T_6d784876_2bf0_11e8_9386_9801a78ac6dbrow11_col12\" class=\"data row11 col12\" >0.04</td> \n",
       "        <td id=\"T_6d784876_2bf0_11e8_9386_9801a78ac6dbrow11_col13\" class=\"data row11 col13\" >-0.00046</td> \n",
       "        <td id=\"T_6d784876_2bf0_11e8_9386_9801a78ac6dbrow11_col14\" class=\"data row11 col14\" >0.012</td> \n",
       "        <td id=\"T_6d784876_2bf0_11e8_9386_9801a78ac6dbrow11_col15\" class=\"data row11 col15\" >0.0098</td> \n",
       "        <td id=\"T_6d784876_2bf0_11e8_9386_9801a78ac6dbrow11_col16\" class=\"data row11 col16\" >0.034</td> \n",
       "        <td id=\"T_6d784876_2bf0_11e8_9386_9801a78ac6dbrow11_col17\" class=\"data row11 col17\" >0.0017</td> \n",
       "        <td id=\"T_6d784876_2bf0_11e8_9386_9801a78ac6dbrow11_col18\" class=\"data row11 col18\" >-0.0029</td> \n",
       "        <td id=\"T_6d784876_2bf0_11e8_9386_9801a78ac6dbrow11_col19\" class=\"data row11 col19\" >0.011</td> \n",
       "        <td id=\"T_6d784876_2bf0_11e8_9386_9801a78ac6dbrow11_col20\" class=\"data row11 col20\" >0.0056</td> \n",
       "        <td id=\"T_6d784876_2bf0_11e8_9386_9801a78ac6dbrow11_col21\" class=\"data row11 col21\" >-0.0038</td> \n",
       "        <td id=\"T_6d784876_2bf0_11e8_9386_9801a78ac6dbrow11_col22\" class=\"data row11 col22\" >0.018</td> \n",
       "        <td id=\"T_6d784876_2bf0_11e8_9386_9801a78ac6dbrow11_col23\" class=\"data row11 col23\" >0.0068</td> \n",
       "    </tr>    <tr> \n",
       "        <th id=\"T_6d784876_2bf0_11e8_9386_9801a78ac6dblevel0_row12\" class=\"row_heading level0 row12\" >dti</th> \n",
       "        <td id=\"T_6d784876_2bf0_11e8_9386_9801a78ac6dbrow12_col0\" class=\"data row12 col0\" >0.03</td> \n",
       "        <td id=\"T_6d784876_2bf0_11e8_9386_9801a78ac6dbrow12_col1\" class=\"data row12 col1\" >0.059</td> \n",
       "        <td id=\"T_6d784876_2bf0_11e8_9386_9801a78ac6dbrow12_col2\" class=\"data row12 col2\" >0.14</td> \n",
       "        <td id=\"T_6d784876_2bf0_11e8_9386_9801a78ac6dbrow12_col3\" class=\"data row12 col3\" >0.032</td> \n",
       "        <td id=\"T_6d784876_2bf0_11e8_9386_9801a78ac6dbrow12_col4\" class=\"data row12 col4\" >-0.12</td> \n",
       "        <td id=\"T_6d784876_2bf0_11e8_9386_9801a78ac6dbrow12_col5\" class=\"data row12 col5\" >0.13</td> \n",
       "        <td id=\"T_6d784876_2bf0_11e8_9386_9801a78ac6dbrow12_col6\" class=\"data row12 col6\" >-0.0017</td> \n",
       "        <td id=\"T_6d784876_2bf0_11e8_9386_9801a78ac6dbrow12_col7\" class=\"data row12 col7\" >0.019</td> \n",
       "        <td id=\"T_6d784876_2bf0_11e8_9386_9801a78ac6dbrow12_col8\" class=\"data row12 col8\" >-0.2</td> \n",
       "        <td id=\"T_6d784876_2bf0_11e8_9386_9801a78ac6dbrow12_col9\" class=\"data row12 col9\" >-0.078</td> \n",
       "        <td id=\"T_6d784876_2bf0_11e8_9386_9801a78ac6dbrow12_col10\" class=\"data row12 col10\" >0.012</td> \n",
       "        <td id=\"T_6d784876_2bf0_11e8_9386_9801a78ac6dbrow12_col11\" class=\"data row12 col11\" >0.04</td> \n",
       "        <td id=\"T_6d784876_2bf0_11e8_9386_9801a78ac6dbrow12_col12\" class=\"data row12 col12\" >1.0</td> \n",
       "        <td id=\"T_6d784876_2bf0_11e8_9386_9801a78ac6dbrow12_col13\" class=\"data row12 col13\" >-0.012</td> \n",
       "        <td id=\"T_6d784876_2bf0_11e8_9386_9801a78ac6dbrow12_col14\" class=\"data row12 col14\" >-0.11</td> \n",
       "        <td id=\"T_6d784876_2bf0_11e8_9386_9801a78ac6dbrow12_col15\" class=\"data row12 col15\" >0.015</td> \n",
       "        <td id=\"T_6d784876_2bf0_11e8_9386_9801a78ac6dbrow12_col16\" class=\"data row12 col16\" >0.3</td> \n",
       "        <td id=\"T_6d784876_2bf0_11e8_9386_9801a78ac6dbrow12_col17\" class=\"data row12 col17\" >0.14</td> \n",
       "        <td id=\"T_6d784876_2bf0_11e8_9386_9801a78ac6dbrow12_col18\" class=\"data row12 col18\" >-0.0027</td> \n",
       "        <td id=\"T_6d784876_2bf0_11e8_9386_9801a78ac6dbrow12_col19\" class=\"data row12 col19\" >0.013</td> \n",
       "        <td id=\"T_6d784876_2bf0_11e8_9386_9801a78ac6dbrow12_col20\" class=\"data row12 col20\" >-0.018</td> \n",
       "        <td id=\"T_6d784876_2bf0_11e8_9386_9801a78ac6dbrow12_col21\" class=\"data row12 col21\" >-0.089</td> \n",
       "        <td id=\"T_6d784876_2bf0_11e8_9386_9801a78ac6dbrow12_col22\" class=\"data row12 col22\" >0.31</td> \n",
       "        <td id=\"T_6d784876_2bf0_11e8_9386_9801a78ac6dbrow12_col23\" class=\"data row12 col23\" >0.025</td> \n",
       "    </tr>    <tr> \n",
       "        <th id=\"T_6d784876_2bf0_11e8_9386_9801a78ac6dblevel0_row13\" class=\"row_heading level0 row13\" >delinq_2yrs</th> \n",
       "        <td id=\"T_6d784876_2bf0_11e8_9386_9801a78ac6dbrow13_col0\" class=\"data row13 col0\" >0.0087</td> \n",
       "        <td id=\"T_6d784876_2bf0_11e8_9386_9801a78ac6dbrow13_col1\" class=\"data row13 col1\" >0.0029</td> \n",
       "        <td id=\"T_6d784876_2bf0_11e8_9386_9801a78ac6dbrow13_col2\" class=\"data row13 col2\" >0.09</td> \n",
       "        <td id=\"T_6d784876_2bf0_11e8_9386_9801a78ac6dbrow13_col3\" class=\"data row13 col3\" >0.02</td> \n",
       "        <td id=\"T_6d784876_2bf0_11e8_9386_9801a78ac6dbrow13_col4\" class=\"data row13 col4\" >-0.085</td> \n",
       "        <td id=\"T_6d784876_2bf0_11e8_9386_9801a78ac6dbrow13_col5\" class=\"data row13 col5\" >0.087</td> \n",
       "        <td id=\"T_6d784876_2bf0_11e8_9386_9801a78ac6dbrow13_col6\" class=\"data row13 col6\" >-0.021</td> \n",
       "        <td id=\"T_6d784876_2bf0_11e8_9386_9801a78ac6dbrow13_col7\" class=\"data row13 col7\" >-0.044</td> \n",
       "        <td id=\"T_6d784876_2bf0_11e8_9386_9801a78ac6dbrow13_col8\" class=\"data row13 col8\" >0.068</td> \n",
       "        <td id=\"T_6d784876_2bf0_11e8_9386_9801a78ac6dbrow13_col9\" class=\"data row13 col9\" >0.017</td> \n",
       "        <td id=\"T_6d784876_2bf0_11e8_9386_9801a78ac6dbrow13_col10\" class=\"data row13 col10\" >-0.011</td> \n",
       "        <td id=\"T_6d784876_2bf0_11e8_9386_9801a78ac6dbrow13_col11\" class=\"data row13 col11\" >-0.00046</td> \n",
       "        <td id=\"T_6d784876_2bf0_11e8_9386_9801a78ac6dbrow13_col12\" class=\"data row13 col12\" >-0.012</td> \n",
       "        <td id=\"T_6d784876_2bf0_11e8_9386_9801a78ac6dbrow13_col13\" class=\"data row13 col13\" >1.0</td> \n",
       "        <td id=\"T_6d784876_2bf0_11e8_9386_9801a78ac6dbrow13_col14\" class=\"data row13 col14\" >-0.16</td> \n",
       "        <td id=\"T_6d784876_2bf0_11e8_9386_9801a78ac6dbrow13_col15\" class=\"data row13 col15\" >0.027</td> \n",
       "        <td id=\"T_6d784876_2bf0_11e8_9386_9801a78ac6dbrow13_col16\" class=\"data row13 col16\" >0.057</td> \n",
       "        <td id=\"T_6d784876_2bf0_11e8_9386_9801a78ac6dbrow13_col17\" class=\"data row13 col17\" >-0.024</td> \n",
       "        <td id=\"T_6d784876_2bf0_11e8_9386_9801a78ac6dbrow13_col18\" class=\"data row13 col18\" >0.0035</td> \n",
       "        <td id=\"T_6d784876_2bf0_11e8_9386_9801a78ac6dbrow13_col19\" class=\"data row13 col19\" >0.014</td> \n",
       "        <td id=\"T_6d784876_2bf0_11e8_9386_9801a78ac6dbrow13_col20\" class=\"data row13 col20\" >0.003</td> \n",
       "        <td id=\"T_6d784876_2bf0_11e8_9386_9801a78ac6dbrow13_col21\" class=\"data row13 col21\" >-0.056</td> \n",
       "        <td id=\"T_6d784876_2bf0_11e8_9386_9801a78ac6dbrow13_col22\" class=\"data row13 col22\" >0.039</td> \n",
       "        <td id=\"T_6d784876_2bf0_11e8_9386_9801a78ac6dbrow13_col23\" class=\"data row13 col23\" >-0.058</td> \n",
       "    </tr>    <tr> \n",
       "        <th id=\"T_6d784876_2bf0_11e8_9386_9801a78ac6dblevel0_row14\" class=\"row_heading level0 row14\" >fico_range_low</th> \n",
       "        <td id=\"T_6d784876_2bf0_11e8_9386_9801a78ac6dbrow14_col0\" class=\"data row14 col0\" >0.11</td> \n",
       "        <td id=\"T_6d784876_2bf0_11e8_9386_9801a78ac6dbrow14_col1\" class=\"data row14 col1\" >-0.0067</td> \n",
       "        <td id=\"T_6d784876_2bf0_11e8_9386_9801a78ac6dbrow14_col2\" class=\"data row14 col2\" >-0.56</td> \n",
       "        <td id=\"T_6d784876_2bf0_11e8_9386_9801a78ac6dbrow14_col3\" class=\"data row14 col3\" >0.051</td> \n",
       "        <td id=\"T_6d784876_2bf0_11e8_9386_9801a78ac6dbrow14_col4\" class=\"data row14 col4\" >0.5</td> \n",
       "        <td id=\"T_6d784876_2bf0_11e8_9386_9801a78ac6dbrow14_col5\" class=\"data row14 col5\" >-0.52</td> \n",
       "        <td id=\"T_6d784876_2bf0_11e8_9386_9801a78ac6dbrow14_col6\" class=\"data row14 col6\" >-0.013</td> \n",
       "        <td id=\"T_6d784876_2bf0_11e8_9386_9801a78ac6dbrow14_col7\" class=\"data row14 col7\" >-0.099</td> \n",
       "        <td id=\"T_6d784876_2bf0_11e8_9386_9801a78ac6dbrow14_col8\" class=\"data row14 col8\" >0.11</td> \n",
       "        <td id=\"T_6d784876_2bf0_11e8_9386_9801a78ac6dbrow14_col9\" class=\"data row14 col9\" >0.064</td> \n",
       "        <td id=\"T_6d784876_2bf0_11e8_9386_9801a78ac6dbrow14_col10\" class=\"data row14 col10\" >-0.023</td> \n",
       "        <td id=\"T_6d784876_2bf0_11e8_9386_9801a78ac6dbrow14_col11\" class=\"data row14 col11\" >0.012</td> \n",
       "        <td id=\"T_6d784876_2bf0_11e8_9386_9801a78ac6dbrow14_col12\" class=\"data row14 col12\" >-0.11</td> \n",
       "        <td id=\"T_6d784876_2bf0_11e8_9386_9801a78ac6dbrow14_col13\" class=\"data row14 col13\" >-0.16</td> \n",
       "        <td id=\"T_6d784876_2bf0_11e8_9386_9801a78ac6dbrow14_col14\" class=\"data row14 col14\" >1.0</td> \n",
       "        <td id=\"T_6d784876_2bf0_11e8_9386_9801a78ac6dbrow14_col15\" class=\"data row14 col15\" >-0.036</td> \n",
       "        <td id=\"T_6d784876_2bf0_11e8_9386_9801a78ac6dbrow14_col16\" class=\"data row14 col16\" >0.011</td> \n",
       "        <td id=\"T_6d784876_2bf0_11e8_9386_9801a78ac6dbrow14_col17\" class=\"data row14 col17\" >0.039</td> \n",
       "        <td id=\"T_6d784876_2bf0_11e8_9386_9801a78ac6dbrow14_col18\" class=\"data row14 col18\" >0.014</td> \n",
       "        <td id=\"T_6d784876_2bf0_11e8_9386_9801a78ac6dbrow14_col19\" class=\"data row14 col19\" >0.091</td> \n",
       "        <td id=\"T_6d784876_2bf0_11e8_9386_9801a78ac6dbrow14_col20\" class=\"data row14 col20\" >0.15</td> \n",
       "        <td id=\"T_6d784876_2bf0_11e8_9386_9801a78ac6dbrow14_col21\" class=\"data row14 col21\" >0.33</td> \n",
       "        <td id=\"T_6d784876_2bf0_11e8_9386_9801a78ac6dbrow14_col22\" class=\"data row14 col22\" >0.039</td> \n",
       "        <td id=\"T_6d784876_2bf0_11e8_9386_9801a78ac6dbrow14_col23\" class=\"data row14 col23\" >0.38</td> \n",
       "    </tr>    <tr> \n",
       "        <th id=\"T_6d784876_2bf0_11e8_9386_9801a78ac6dblevel0_row15\" class=\"row_heading level0 row15\" >inq_last_6mths</th> \n",
       "        <td id=\"T_6d784876_2bf0_11e8_9386_9801a78ac6dbrow15_col0\" class=\"data row15 col0\" >0.026</td> \n",
       "        <td id=\"T_6d784876_2bf0_11e8_9386_9801a78ac6dbrow15_col1\" class=\"data row15 col1\" >0.063</td> \n",
       "        <td id=\"T_6d784876_2bf0_11e8_9386_9801a78ac6dbrow15_col2\" class=\"data row15 col2\" >0.25</td> \n",
       "        <td id=\"T_6d784876_2bf0_11e8_9386_9801a78ac6dbrow15_col3\" class=\"data row15 col3\" >0.04</td> \n",
       "        <td id=\"T_6d784876_2bf0_11e8_9386_9801a78ac6dbrow15_col4\" class=\"data row15 col4\" >-0.25</td> \n",
       "        <td id=\"T_6d784876_2bf0_11e8_9386_9801a78ac6dbrow15_col5\" class=\"data row15 col5\" >0.26</td> \n",
       "        <td id=\"T_6d784876_2bf0_11e8_9386_9801a78ac6dbrow15_col6\" class=\"data row15 col6\" >0.0018</td> \n",
       "        <td id=\"T_6d784876_2bf0_11e8_9386_9801a78ac6dbrow15_col7\" class=\"data row15 col7\" >-0.08</td> \n",
       "        <td id=\"T_6d784876_2bf0_11e8_9386_9801a78ac6dbrow15_col8\" class=\"data row15 col8\" >0.085</td> \n",
       "        <td id=\"T_6d784876_2bf0_11e8_9386_9801a78ac6dbrow15_col9\" class=\"data row15 col9\" >0.053</td> \n",
       "        <td id=\"T_6d784876_2bf0_11e8_9386_9801a78ac6dbrow15_col10\" class=\"data row15 col10\" >-0.0082</td> \n",
       "        <td id=\"T_6d784876_2bf0_11e8_9386_9801a78ac6dbrow15_col11\" class=\"data row15 col11\" >0.0098</td> \n",
       "        <td id=\"T_6d784876_2bf0_11e8_9386_9801a78ac6dbrow15_col12\" class=\"data row15 col12\" >0.015</td> \n",
       "        <td id=\"T_6d784876_2bf0_11e8_9386_9801a78ac6dbrow15_col13\" class=\"data row15 col13\" >0.027</td> \n",
       "        <td id=\"T_6d784876_2bf0_11e8_9386_9801a78ac6dbrow15_col14\" class=\"data row15 col14\" >-0.036</td> \n",
       "        <td id=\"T_6d784876_2bf0_11e8_9386_9801a78ac6dbrow15_col15\" class=\"data row15 col15\" >1.0</td> \n",
       "        <td id=\"T_6d784876_2bf0_11e8_9386_9801a78ac6dbrow15_col16\" class=\"data row15 col16\" >0.13</td> \n",
       "        <td id=\"T_6d784876_2bf0_11e8_9386_9801a78ac6dbrow15_col17\" class=\"data row15 col17\" >0.01</td> \n",
       "        <td id=\"T_6d784876_2bf0_11e8_9386_9801a78ac6dbrow15_col18\" class=\"data row15 col18\" >-0.0021</td> \n",
       "        <td id=\"T_6d784876_2bf0_11e8_9386_9801a78ac6dbrow15_col19\" class=\"data row15 col19\" >0.012</td> \n",
       "        <td id=\"T_6d784876_2bf0_11e8_9386_9801a78ac6dbrow15_col20\" class=\"data row15 col20\" >-0.013</td> \n",
       "        <td id=\"T_6d784876_2bf0_11e8_9386_9801a78ac6dbrow15_col21\" class=\"data row15 col21\" >-0.076</td> \n",
       "        <td id=\"T_6d784876_2bf0_11e8_9386_9801a78ac6dbrow15_col22\" class=\"data row15 col22\" >0.089</td> \n",
       "        <td id=\"T_6d784876_2bf0_11e8_9386_9801a78ac6dbrow15_col23\" class=\"data row15 col23\" >0.012</td> \n",
       "    </tr>    <tr> \n",
       "        <th id=\"T_6d784876_2bf0_11e8_9386_9801a78ac6dblevel0_row16\" class=\"row_heading level0 row16\" >open_acc</th> \n",
       "        <td id=\"T_6d784876_2bf0_11e8_9386_9801a78ac6dbrow16_col0\" class=\"data row16 col0\" >0.19</td> \n",
       "        <td id=\"T_6d784876_2bf0_11e8_9386_9801a78ac6dbrow16_col1\" class=\"data row16 col1\" >0.071</td> \n",
       "        <td id=\"T_6d784876_2bf0_11e8_9386_9801a78ac6dbrow16_col2\" class=\"data row16 col2\" >0.0029</td> \n",
       "        <td id=\"T_6d784876_2bf0_11e8_9386_9801a78ac6dbrow16_col3\" class=\"data row16 col3\" >0.19</td> \n",
       "        <td id=\"T_6d784876_2bf0_11e8_9386_9801a78ac6dbrow16_col4\" class=\"data row16 col4\" >-0.0078</td> \n",
       "        <td id=\"T_6d784876_2bf0_11e8_9386_9801a78ac6dbrow16_col5\" class=\"data row16 col5\" >0.0083</td> \n",
       "        <td id=\"T_6d784876_2bf0_11e8_9386_9801a78ac6dbrow16_col6\" class=\"data row16 col6\" >0.0075</td> \n",
       "        <td id=\"T_6d784876_2bf0_11e8_9386_9801a78ac6dbrow16_col7\" class=\"data row16 col7\" >-0.12</td> \n",
       "        <td id=\"T_6d784876_2bf0_11e8_9386_9801a78ac6dbrow16_col8\" class=\"data row16 col8\" >0.16</td> \n",
       "        <td id=\"T_6d784876_2bf0_11e8_9386_9801a78ac6dbrow16_col9\" class=\"data row16 col9\" >-0.072</td> \n",
       "        <td id=\"T_6d784876_2bf0_11e8_9386_9801a78ac6dbrow16_col10\" class=\"data row16 col10\" >-0.053</td> \n",
       "        <td id=\"T_6d784876_2bf0_11e8_9386_9801a78ac6dbrow16_col11\" class=\"data row16 col11\" >0.034</td> \n",
       "        <td id=\"T_6d784876_2bf0_11e8_9386_9801a78ac6dbrow16_col12\" class=\"data row16 col12\" >0.3</td> \n",
       "        <td id=\"T_6d784876_2bf0_11e8_9386_9801a78ac6dbrow16_col13\" class=\"data row16 col13\" >0.057</td> \n",
       "        <td id=\"T_6d784876_2bf0_11e8_9386_9801a78ac6dbrow16_col14\" class=\"data row16 col14\" >0.011</td> \n",
       "        <td id=\"T_6d784876_2bf0_11e8_9386_9801a78ac6dbrow16_col15\" class=\"data row16 col15\" >0.13</td> \n",
       "        <td id=\"T_6d784876_2bf0_11e8_9386_9801a78ac6dbrow16_col16\" class=\"data row16 col16\" >1.0</td> \n",
       "        <td id=\"T_6d784876_2bf0_11e8_9386_9801a78ac6dbrow16_col17\" class=\"data row16 col17\" >0.21</td> \n",
       "        <td id=\"T_6d784876_2bf0_11e8_9386_9801a78ac6dbrow16_col18\" class=\"data row16 col18\" >0.016</td> \n",
       "        <td id=\"T_6d784876_2bf0_11e8_9386_9801a78ac6dbrow16_col19\" class=\"data row16 col19\" >0.17</td> \n",
       "        <td id=\"T_6d784876_2bf0_11e8_9386_9801a78ac6dbrow16_col20\" class=\"data row16 col20\" >0.16</td> \n",
       "        <td id=\"T_6d784876_2bf0_11e8_9386_9801a78ac6dbrow16_col21\" class=\"data row16 col21\" >0.012</td> \n",
       "        <td id=\"T_6d784876_2bf0_11e8_9386_9801a78ac6dbrow16_col22\" class=\"data row16 col22\" >0.39</td> \n",
       "        <td id=\"T_6d784876_2bf0_11e8_9386_9801a78ac6dbrow16_col23\" class=\"data row16 col23\" >0.31</td> \n",
       "    </tr>    <tr> \n",
       "        <th id=\"T_6d784876_2bf0_11e8_9386_9801a78ac6dblevel0_row17\" class=\"row_heading level0 row17\" >revol_bal</th> \n",
       "        <td id=\"T_6d784876_2bf0_11e8_9386_9801a78ac6dbrow17_col0\" class=\"data row17 col0\" >0.32</td> \n",
       "        <td id=\"T_6d784876_2bf0_11e8_9386_9801a78ac6dbrow17_col1\" class=\"data row17 col1\" >0.081</td> \n",
       "        <td id=\"T_6d784876_2bf0_11e8_9386_9801a78ac6dbrow17_col2\" class=\"data row17 col2\" >-0.022</td> \n",
       "        <td id=\"T_6d784876_2bf0_11e8_9386_9801a78ac6dbrow17_col3\" class=\"data row17 col3\" >0.31</td> \n",
       "        <td id=\"T_6d784876_2bf0_11e8_9386_9801a78ac6dbrow17_col4\" class=\"data row17 col4\" >0.018</td> \n",
       "        <td id=\"T_6d784876_2bf0_11e8_9386_9801a78ac6dbrow17_col5\" class=\"data row17 col5\" >-0.015</td> \n",
       "        <td id=\"T_6d784876_2bf0_11e8_9386_9801a78ac6dbrow17_col6\" class=\"data row17 col6\" >-0.026</td> \n",
       "        <td id=\"T_6d784876_2bf0_11e8_9386_9801a78ac6dbrow17_col7\" class=\"data row17 col7\" >-0.12</td> \n",
       "        <td id=\"T_6d784876_2bf0_11e8_9386_9801a78ac6dbrow17_col8\" class=\"data row17 col8\" >0.34</td> \n",
       "        <td id=\"T_6d784876_2bf0_11e8_9386_9801a78ac6dbrow17_col9\" class=\"data row17 col9\" >-0.063</td> \n",
       "        <td id=\"T_6d784876_2bf0_11e8_9386_9801a78ac6dbrow17_col10\" class=\"data row17 col10\" >-0.021</td> \n",
       "        <td id=\"T_6d784876_2bf0_11e8_9386_9801a78ac6dbrow17_col11\" class=\"data row17 col11\" >0.0017</td> \n",
       "        <td id=\"T_6d784876_2bf0_11e8_9386_9801a78ac6dbrow17_col12\" class=\"data row17 col12\" >0.14</td> \n",
       "        <td id=\"T_6d784876_2bf0_11e8_9386_9801a78ac6dbrow17_col13\" class=\"data row17 col13\" >-0.024</td> \n",
       "        <td id=\"T_6d784876_2bf0_11e8_9386_9801a78ac6dbrow17_col14\" class=\"data row17 col14\" >0.039</td> \n",
       "        <td id=\"T_6d784876_2bf0_11e8_9386_9801a78ac6dbrow17_col15\" class=\"data row17 col15\" >0.01</td> \n",
       "        <td id=\"T_6d784876_2bf0_11e8_9386_9801a78ac6dbrow17_col16\" class=\"data row17 col16\" >0.21</td> \n",
       "        <td id=\"T_6d784876_2bf0_11e8_9386_9801a78ac6dbrow17_col17\" class=\"data row17 col17\" >1.0</td> \n",
       "        <td id=\"T_6d784876_2bf0_11e8_9386_9801a78ac6dbrow17_col18\" class=\"data row17 col18\" >0.015</td> \n",
       "        <td id=\"T_6d784876_2bf0_11e8_9386_9801a78ac6dbrow17_col19\" class=\"data row17 col19\" >0.29</td> \n",
       "        <td id=\"T_6d784876_2bf0_11e8_9386_9801a78ac6dbrow17_col20\" class=\"data row17 col20\" >0.28</td> \n",
       "        <td id=\"T_6d784876_2bf0_11e8_9386_9801a78ac6dbrow17_col21\" class=\"data row17 col21\" >0.055</td> \n",
       "        <td id=\"T_6d784876_2bf0_11e8_9386_9801a78ac6dbrow17_col22\" class=\"data row17 col22\" >0.55</td> \n",
       "        <td id=\"T_6d784876_2bf0_11e8_9386_9801a78ac6dbrow17_col23\" class=\"data row17 col23\" >0.48</td> \n",
       "    </tr>    <tr> \n",
       "        <th id=\"T_6d784876_2bf0_11e8_9386_9801a78ac6dblevel0_row18\" class=\"row_heading level0 row18\" >initial_list_status</th> \n",
       "        <td id=\"T_6d784876_2bf0_11e8_9386_9801a78ac6dbrow18_col0\" class=\"data row18 col0\" >0.022</td> \n",
       "        <td id=\"T_6d784876_2bf0_11e8_9386_9801a78ac6dbrow18_col1\" class=\"data row18 col1\" >-0.015</td> \n",
       "        <td id=\"T_6d784876_2bf0_11e8_9386_9801a78ac6dbrow18_col2\" class=\"data row18 col2\" >-0.037</td> \n",
       "        <td id=\"T_6d784876_2bf0_11e8_9386_9801a78ac6dbrow18_col3\" class=\"data row18 col3\" >0.022</td> \n",
       "        <td id=\"T_6d784876_2bf0_11e8_9386_9801a78ac6dbrow18_col4\" class=\"data row18 col4\" >0.038</td> \n",
       "        <td id=\"T_6d784876_2bf0_11e8_9386_9801a78ac6dbrow18_col5\" class=\"data row18 col5\" >-0.036</td> \n",
       "        <td id=\"T_6d784876_2bf0_11e8_9386_9801a78ac6dbrow18_col6\" class=\"data row18 col6\" >-0.0038</td> \n",
       "        <td id=\"T_6d784876_2bf0_11e8_9386_9801a78ac6dbrow18_col7\" class=\"data row18 col7\" >-0.017</td> \n",
       "        <td id=\"T_6d784876_2bf0_11e8_9386_9801a78ac6dbrow18_col8\" class=\"data row18 col8\" >0.021</td> \n",
       "        <td id=\"T_6d784876_2bf0_11e8_9386_9801a78ac6dbrow18_col9\" class=\"data row18 col9\" >-0.033</td> \n",
       "        <td id=\"T_6d784876_2bf0_11e8_9386_9801a78ac6dbrow18_col10\" class=\"data row18 col10\" >0.0068</td> \n",
       "        <td id=\"T_6d784876_2bf0_11e8_9386_9801a78ac6dbrow18_col11\" class=\"data row18 col11\" >-0.0029</td> \n",
       "        <td id=\"T_6d784876_2bf0_11e8_9386_9801a78ac6dbrow18_col12\" class=\"data row18 col12\" >-0.0027</td> \n",
       "        <td id=\"T_6d784876_2bf0_11e8_9386_9801a78ac6dbrow18_col13\" class=\"data row18 col13\" >0.0035</td> \n",
       "        <td id=\"T_6d784876_2bf0_11e8_9386_9801a78ac6dbrow18_col14\" class=\"data row18 col14\" >0.014</td> \n",
       "        <td id=\"T_6d784876_2bf0_11e8_9386_9801a78ac6dbrow18_col15\" class=\"data row18 col15\" >-0.0021</td> \n",
       "        <td id=\"T_6d784876_2bf0_11e8_9386_9801a78ac6dbrow18_col16\" class=\"data row18 col16\" >0.016</td> \n",
       "        <td id=\"T_6d784876_2bf0_11e8_9386_9801a78ac6dbrow18_col17\" class=\"data row18 col17\" >0.015</td> \n",
       "        <td id=\"T_6d784876_2bf0_11e8_9386_9801a78ac6dbrow18_col18\" class=\"data row18 col18\" >1.0</td> \n",
       "        <td id=\"T_6d784876_2bf0_11e8_9386_9801a78ac6dbrow18_col19\" class=\"data row18 col19\" >0.021</td> \n",
       "        <td id=\"T_6d784876_2bf0_11e8_9386_9801a78ac6dbrow18_col20\" class=\"data row18 col20\" >0.031</td> \n",
       "        <td id=\"T_6d784876_2bf0_11e8_9386_9801a78ac6dbrow18_col21\" class=\"data row18 col21\" >0.029</td> \n",
       "        <td id=\"T_6d784876_2bf0_11e8_9386_9801a78ac6dbrow18_col22\" class=\"data row18 col22\" >0.013</td> \n",
       "        <td id=\"T_6d784876_2bf0_11e8_9386_9801a78ac6dbrow18_col23\" class=\"data row18 col23\" >0.03</td> \n",
       "    </tr>    <tr> \n",
       "        <th id=\"T_6d784876_2bf0_11e8_9386_9801a78ac6dblevel0_row19\" class=\"row_heading level0 row19\" >total_pymnt</th> \n",
       "        <td id=\"T_6d784876_2bf0_11e8_9386_9801a78ac6dbrow19_col0\" class=\"data row19 col0\" >0.89</td> \n",
       "        <td id=\"T_6d784876_2bf0_11e8_9386_9801a78ac6dbrow19_col1\" class=\"data row19 col1\" >0.31</td> \n",
       "        <td id=\"T_6d784876_2bf0_11e8_9386_9801a78ac6dbrow19_col2\" class=\"data row19 col2\" >0.11</td> \n",
       "        <td id=\"T_6d784876_2bf0_11e8_9386_9801a78ac6dbrow19_col3\" class=\"data row19 col3\" >0.87</td> \n",
       "        <td id=\"T_6d784876_2bf0_11e8_9386_9801a78ac6dbrow19_col4\" class=\"data row19 col4\" >-0.12</td> \n",
       "        <td id=\"T_6d784876_2bf0_11e8_9386_9801a78ac6dbrow19_col5\" class=\"data row19 col5\" >0.12</td> \n",
       "        <td id=\"T_6d784876_2bf0_11e8_9386_9801a78ac6dbrow19_col6\" class=\"data row19 col6\" >0.0056</td> \n",
       "        <td id=\"T_6d784876_2bf0_11e8_9386_9801a78ac6dbrow19_col7\" class=\"data row19 col7\" >-0.15</td> \n",
       "        <td id=\"T_6d784876_2bf0_11e8_9386_9801a78ac6dbrow19_col8\" class=\"data row19 col8\" >0.35</td> \n",
       "        <td id=\"T_6d784876_2bf0_11e8_9386_9801a78ac6dbrow19_col9\" class=\"data row19 col9\" >-0.13</td> \n",
       "        <td id=\"T_6d784876_2bf0_11e8_9386_9801a78ac6dbrow19_col10\" class=\"data row19 col10\" >0.0019</td> \n",
       "        <td id=\"T_6d784876_2bf0_11e8_9386_9801a78ac6dbrow19_col11\" class=\"data row19 col11\" >0.011</td> \n",
       "        <td id=\"T_6d784876_2bf0_11e8_9386_9801a78ac6dbrow19_col12\" class=\"data row19 col12\" >0.013</td> \n",
       "        <td id=\"T_6d784876_2bf0_11e8_9386_9801a78ac6dbrow19_col13\" class=\"data row19 col13\" >0.014</td> \n",
       "        <td id=\"T_6d784876_2bf0_11e8_9386_9801a78ac6dbrow19_col14\" class=\"data row19 col14\" >0.091</td> \n",
       "        <td id=\"T_6d784876_2bf0_11e8_9386_9801a78ac6dbrow19_col15\" class=\"data row19 col15\" >0.012</td> \n",
       "        <td id=\"T_6d784876_2bf0_11e8_9386_9801a78ac6dbrow19_col16\" class=\"data row19 col16\" >0.17</td> \n",
       "        <td id=\"T_6d784876_2bf0_11e8_9386_9801a78ac6dbrow19_col17\" class=\"data row19 col17\" >0.29</td> \n",
       "        <td id=\"T_6d784876_2bf0_11e8_9386_9801a78ac6dbrow19_col18\" class=\"data row19 col18\" >0.021</td> \n",
       "        <td id=\"T_6d784876_2bf0_11e8_9386_9801a78ac6dbrow19_col19\" class=\"data row19 col19\" >1.0</td> \n",
       "        <td id=\"T_6d784876_2bf0_11e8_9386_9801a78ac6dbrow19_col20\" class=\"data row19 col20\" >0.97</td> \n",
       "        <td id=\"T_6d784876_2bf0_11e8_9386_9801a78ac6dbrow19_col21\" class=\"data row19 col21\" >0.23</td> \n",
       "        <td id=\"T_6d784876_2bf0_11e8_9386_9801a78ac6dbrow19_col22\" class=\"data row19 col22\" >0.25</td> \n",
       "        <td id=\"T_6d784876_2bf0_11e8_9386_9801a78ac6dbrow19_col23\" class=\"data row19 col23\" >0.33</td> \n",
       "    </tr>    <tr> \n",
       "        <th id=\"T_6d784876_2bf0_11e8_9386_9801a78ac6dblevel0_row20\" class=\"row_heading level0 row20\" >total_rec_prncp</th> \n",
       "        <td id=\"T_6d784876_2bf0_11e8_9386_9801a78ac6dbrow20_col0\" class=\"data row20 col0\" >0.83</td> \n",
       "        <td id=\"T_6d784876_2bf0_11e8_9386_9801a78ac6dbrow20_col1\" class=\"data row20 col1\" >0.19</td> \n",
       "        <td id=\"T_6d784876_2bf0_11e8_9386_9801a78ac6dbrow20_col2\" class=\"data row20 col2\" >-0.028</td> \n",
       "        <td id=\"T_6d784876_2bf0_11e8_9386_9801a78ac6dbrow20_col3\" class=\"data row20 col3\" >0.82</td> \n",
       "        <td id=\"T_6d784876_2bf0_11e8_9386_9801a78ac6dbrow20_col4\" class=\"data row20 col4\" >0.022</td> \n",
       "        <td id=\"T_6d784876_2bf0_11e8_9386_9801a78ac6dbrow20_col5\" class=\"data row20 col5\" >-0.016</td> \n",
       "        <td id=\"T_6d784876_2bf0_11e8_9386_9801a78ac6dbrow20_col6\" class=\"data row20 col6\" >0.0044</td> \n",
       "        <td id=\"T_6d784876_2bf0_11e8_9386_9801a78ac6dbrow20_col7\" class=\"data row20 col7\" >-0.16</td> \n",
       "        <td id=\"T_6d784876_2bf0_11e8_9386_9801a78ac6dbrow20_col8\" class=\"data row20 col8\" >0.35</td> \n",
       "        <td id=\"T_6d784876_2bf0_11e8_9386_9801a78ac6dbrow20_col9\" class=\"data row20 col9\" >-0.14</td> \n",
       "        <td id=\"T_6d784876_2bf0_11e8_9386_9801a78ac6dbrow20_col10\" class=\"data row20 col10\" >0.008</td> \n",
       "        <td id=\"T_6d784876_2bf0_11e8_9386_9801a78ac6dbrow20_col11\" class=\"data row20 col11\" >0.0056</td> \n",
       "        <td id=\"T_6d784876_2bf0_11e8_9386_9801a78ac6dbrow20_col12\" class=\"data row20 col12\" >-0.018</td> \n",
       "        <td id=\"T_6d784876_2bf0_11e8_9386_9801a78ac6dbrow20_col13\" class=\"data row20 col13\" >0.003</td> \n",
       "        <td id=\"T_6d784876_2bf0_11e8_9386_9801a78ac6dbrow20_col14\" class=\"data row20 col14\" >0.15</td> \n",
       "        <td id=\"T_6d784876_2bf0_11e8_9386_9801a78ac6dbrow20_col15\" class=\"data row20 col15\" >-0.013</td> \n",
       "        <td id=\"T_6d784876_2bf0_11e8_9386_9801a78ac6dbrow20_col16\" class=\"data row20 col16\" >0.16</td> \n",
       "        <td id=\"T_6d784876_2bf0_11e8_9386_9801a78ac6dbrow20_col17\" class=\"data row20 col17\" >0.28</td> \n",
       "        <td id=\"T_6d784876_2bf0_11e8_9386_9801a78ac6dbrow20_col18\" class=\"data row20 col18\" >0.031</td> \n",
       "        <td id=\"T_6d784876_2bf0_11e8_9386_9801a78ac6dbrow20_col19\" class=\"data row20 col19\" >0.97</td> \n",
       "        <td id=\"T_6d784876_2bf0_11e8_9386_9801a78ac6dbrow20_col20\" class=\"data row20 col20\" >1.0</td> \n",
       "        <td id=\"T_6d784876_2bf0_11e8_9386_9801a78ac6dbrow20_col21\" class=\"data row20 col21\" >0.32</td> \n",
       "        <td id=\"T_6d784876_2bf0_11e8_9386_9801a78ac6dbrow20_col22\" class=\"data row20 col22\" >0.24</td> \n",
       "        <td id=\"T_6d784876_2bf0_11e8_9386_9801a78ac6dbrow20_col23\" class=\"data row20 col23\" >0.36</td> \n",
       "    </tr>    <tr> \n",
       "        <th id=\"T_6d784876_2bf0_11e8_9386_9801a78ac6dblevel0_row21\" class=\"row_heading level0 row21\" >last_fico_range_high</th> \n",
       "        <td id=\"T_6d784876_2bf0_11e8_9386_9801a78ac6dbrow21_col0\" class=\"data row21 col0\" >0.066</td> \n",
       "        <td id=\"T_6d784876_2bf0_11e8_9386_9801a78ac6dbrow21_col1\" class=\"data row21 col1\" >-0.096</td> \n",
       "        <td id=\"T_6d784876_2bf0_11e8_9386_9801a78ac6dbrow21_col2\" class=\"data row21 col2\" >-0.34</td> \n",
       "        <td id=\"T_6d784876_2bf0_11e8_9386_9801a78ac6dbrow21_col3\" class=\"data row21 col3\" >0.06</td> \n",
       "        <td id=\"T_6d784876_2bf0_11e8_9386_9801a78ac6dbrow21_col4\" class=\"data row21 col4\" >0.32</td> \n",
       "        <td id=\"T_6d784876_2bf0_11e8_9386_9801a78ac6dbrow21_col5\" class=\"data row21 col5\" >-0.33</td> \n",
       "        <td id=\"T_6d784876_2bf0_11e8_9386_9801a78ac6dbrow21_col6\" class=\"data row21 col6\" >-0.017</td> \n",
       "        <td id=\"T_6d784876_2bf0_11e8_9386_9801a78ac6dbrow21_col7\" class=\"data row21 col7\" >-0.071</td> \n",
       "        <td id=\"T_6d784876_2bf0_11e8_9386_9801a78ac6dbrow21_col8\" class=\"data row21 col8\" >0.083</td> \n",
       "        <td id=\"T_6d784876_2bf0_11e8_9386_9801a78ac6dbrow21_col9\" class=\"data row21 col9\" >-0.06</td> \n",
       "        <td id=\"T_6d784876_2bf0_11e8_9386_9801a78ac6dbrow21_col10\" class=\"data row21 col10\" >0.026</td> \n",
       "        <td id=\"T_6d784876_2bf0_11e8_9386_9801a78ac6dbrow21_col11\" class=\"data row21 col11\" >-0.0038</td> \n",
       "        <td id=\"T_6d784876_2bf0_11e8_9386_9801a78ac6dbrow21_col12\" class=\"data row21 col12\" >-0.089</td> \n",
       "        <td id=\"T_6d784876_2bf0_11e8_9386_9801a78ac6dbrow21_col13\" class=\"data row21 col13\" >-0.056</td> \n",
       "        <td id=\"T_6d784876_2bf0_11e8_9386_9801a78ac6dbrow21_col14\" class=\"data row21 col14\" >0.33</td> \n",
       "        <td id=\"T_6d784876_2bf0_11e8_9386_9801a78ac6dbrow21_col15\" class=\"data row21 col15\" >-0.076</td> \n",
       "        <td id=\"T_6d784876_2bf0_11e8_9386_9801a78ac6dbrow21_col16\" class=\"data row21 col16\" >0.012</td> \n",
       "        <td id=\"T_6d784876_2bf0_11e8_9386_9801a78ac6dbrow21_col17\" class=\"data row21 col17\" >0.055</td> \n",
       "        <td id=\"T_6d784876_2bf0_11e8_9386_9801a78ac6dbrow21_col18\" class=\"data row21 col18\" >0.029</td> \n",
       "        <td id=\"T_6d784876_2bf0_11e8_9386_9801a78ac6dbrow21_col19\" class=\"data row21 col19\" >0.23</td> \n",
       "        <td id=\"T_6d784876_2bf0_11e8_9386_9801a78ac6dbrow21_col20\" class=\"data row21 col20\" >0.32</td> \n",
       "        <td id=\"T_6d784876_2bf0_11e8_9386_9801a78ac6dbrow21_col21\" class=\"data row21 col21\" >1.0</td> \n",
       "        <td id=\"T_6d784876_2bf0_11e8_9386_9801a78ac6dbrow21_col22\" class=\"data row21 col22\" >0.035</td> \n",
       "        <td id=\"T_6d784876_2bf0_11e8_9386_9801a78ac6dbrow21_col23\" class=\"data row21 col23\" >0.22</td> \n",
       "    </tr>    <tr> \n",
       "        <th id=\"T_6d784876_2bf0_11e8_9386_9801a78ac6dblevel0_row22\" class=\"row_heading level0 row22\" >total_bal_ex_mort</th> \n",
       "        <td id=\"T_6d784876_2bf0_11e8_9386_9801a78ac6dbrow22_col0\" class=\"data row22 col0\" >0.28</td> \n",
       "        <td id=\"T_6d784876_2bf0_11e8_9386_9801a78ac6dbrow22_col1\" class=\"data row22 col1\" >0.1</td> \n",
       "        <td id=\"T_6d784876_2bf0_11e8_9386_9801a78ac6dbrow22_col2\" class=\"data row22 col2\" >0.026</td> \n",
       "        <td id=\"T_6d784876_2bf0_11e8_9386_9801a78ac6dbrow22_col3\" class=\"data row22 col3\" >0.27</td> \n",
       "        <td id=\"T_6d784876_2bf0_11e8_9386_9801a78ac6dbrow22_col4\" class=\"data row22 col4\" >-0.032</td> \n",
       "        <td id=\"T_6d784876_2bf0_11e8_9386_9801a78ac6dbrow22_col5\" class=\"data row22 col5\" >0.036</td> \n",
       "        <td id=\"T_6d784876_2bf0_11e8_9386_9801a78ac6dbrow22_col6\" class=\"data row22 col6\" >-0.005</td> \n",
       "        <td id=\"T_6d784876_2bf0_11e8_9386_9801a78ac6dbrow22_col7\" class=\"data row22 col7\" >-0.13</td> \n",
       "        <td id=\"T_6d784876_2bf0_11e8_9386_9801a78ac6dbrow22_col8\" class=\"data row22 col8\" >0.39</td> \n",
       "        <td id=\"T_6d784876_2bf0_11e8_9386_9801a78ac6dbrow22_col9\" class=\"data row22 col9\" >-0.02</td> \n",
       "        <td id=\"T_6d784876_2bf0_11e8_9386_9801a78ac6dbrow22_col10\" class=\"data row22 col10\" >-0.022</td> \n",
       "        <td id=\"T_6d784876_2bf0_11e8_9386_9801a78ac6dbrow22_col11\" class=\"data row22 col11\" >0.018</td> \n",
       "        <td id=\"T_6d784876_2bf0_11e8_9386_9801a78ac6dbrow22_col12\" class=\"data row22 col12\" >0.31</td> \n",
       "        <td id=\"T_6d784876_2bf0_11e8_9386_9801a78ac6dbrow22_col13\" class=\"data row22 col13\" >0.039</td> \n",
       "        <td id=\"T_6d784876_2bf0_11e8_9386_9801a78ac6dbrow22_col14\" class=\"data row22 col14\" >0.039</td> \n",
       "        <td id=\"T_6d784876_2bf0_11e8_9386_9801a78ac6dbrow22_col15\" class=\"data row22 col15\" >0.089</td> \n",
       "        <td id=\"T_6d784876_2bf0_11e8_9386_9801a78ac6dbrow22_col16\" class=\"data row22 col16\" >0.39</td> \n",
       "        <td id=\"T_6d784876_2bf0_11e8_9386_9801a78ac6dbrow22_col17\" class=\"data row22 col17\" >0.55</td> \n",
       "        <td id=\"T_6d784876_2bf0_11e8_9386_9801a78ac6dbrow22_col18\" class=\"data row22 col18\" >0.013</td> \n",
       "        <td id=\"T_6d784876_2bf0_11e8_9386_9801a78ac6dbrow22_col19\" class=\"data row22 col19\" >0.25</td> \n",
       "        <td id=\"T_6d784876_2bf0_11e8_9386_9801a78ac6dbrow22_col20\" class=\"data row22 col20\" >0.24</td> \n",
       "        <td id=\"T_6d784876_2bf0_11e8_9386_9801a78ac6dbrow22_col21\" class=\"data row22 col21\" >0.035</td> \n",
       "        <td id=\"T_6d784876_2bf0_11e8_9386_9801a78ac6dbrow22_col22\" class=\"data row22 col22\" >1.0</td> \n",
       "        <td id=\"T_6d784876_2bf0_11e8_9386_9801a78ac6dbrow22_col23\" class=\"data row22 col23\" >0.27</td> \n",
       "    </tr>    <tr> \n",
       "        <th id=\"T_6d784876_2bf0_11e8_9386_9801a78ac6dblevel0_row23\" class=\"row_heading level0 row23\" >total_bc_limit</th> \n",
       "        <td id=\"T_6d784876_2bf0_11e8_9386_9801a78ac6dbrow23_col0\" class=\"data row23 col0\" >0.37</td> \n",
       "        <td id=\"T_6d784876_2bf0_11e8_9386_9801a78ac6dbrow23_col1\" class=\"data row23 col1\" >0.067</td> \n",
       "        <td id=\"T_6d784876_2bf0_11e8_9386_9801a78ac6dbrow23_col2\" class=\"data row23 col2\" >-0.28</td> \n",
       "        <td id=\"T_6d784876_2bf0_11e8_9386_9801a78ac6dbrow23_col3\" class=\"data row23 col3\" >0.34</td> \n",
       "        <td id=\"T_6d784876_2bf0_11e8_9386_9801a78ac6dbrow23_col4\" class=\"data row23 col4\" >0.25</td> \n",
       "        <td id=\"T_6d784876_2bf0_11e8_9386_9801a78ac6dbrow23_col5\" class=\"data row23 col5\" >-0.26</td> \n",
       "        <td id=\"T_6d784876_2bf0_11e8_9386_9801a78ac6dbrow23_col6\" class=\"data row23 col6\" >-0.026</td> \n",
       "        <td id=\"T_6d784876_2bf0_11e8_9386_9801a78ac6dbrow23_col7\" class=\"data row23 col7\" >-0.12</td> \n",
       "        <td id=\"T_6d784876_2bf0_11e8_9386_9801a78ac6dbrow23_col8\" class=\"data row23 col8\" >0.29</td> \n",
       "        <td id=\"T_6d784876_2bf0_11e8_9386_9801a78ac6dbrow23_col9\" class=\"data row23 col9\" >-0.068</td> \n",
       "        <td id=\"T_6d784876_2bf0_11e8_9386_9801a78ac6dbrow23_col10\" class=\"data row23 col10\" >-0.033</td> \n",
       "        <td id=\"T_6d784876_2bf0_11e8_9386_9801a78ac6dbrow23_col11\" class=\"data row23 col11\" >0.0068</td> \n",
       "        <td id=\"T_6d784876_2bf0_11e8_9386_9801a78ac6dbrow23_col12\" class=\"data row23 col12\" >0.025</td> \n",
       "        <td id=\"T_6d784876_2bf0_11e8_9386_9801a78ac6dbrow23_col13\" class=\"data row23 col13\" >-0.058</td> \n",
       "        <td id=\"T_6d784876_2bf0_11e8_9386_9801a78ac6dbrow23_col14\" class=\"data row23 col14\" >0.38</td> \n",
       "        <td id=\"T_6d784876_2bf0_11e8_9386_9801a78ac6dbrow23_col15\" class=\"data row23 col15\" >0.012</td> \n",
       "        <td id=\"T_6d784876_2bf0_11e8_9386_9801a78ac6dbrow23_col16\" class=\"data row23 col16\" >0.31</td> \n",
       "        <td id=\"T_6d784876_2bf0_11e8_9386_9801a78ac6dbrow23_col17\" class=\"data row23 col17\" >0.48</td> \n",
       "        <td id=\"T_6d784876_2bf0_11e8_9386_9801a78ac6dbrow23_col18\" class=\"data row23 col18\" >0.03</td> \n",
       "        <td id=\"T_6d784876_2bf0_11e8_9386_9801a78ac6dbrow23_col19\" class=\"data row23 col19\" >0.33</td> \n",
       "        <td id=\"T_6d784876_2bf0_11e8_9386_9801a78ac6dbrow23_col20\" class=\"data row23 col20\" >0.36</td> \n",
       "        <td id=\"T_6d784876_2bf0_11e8_9386_9801a78ac6dbrow23_col21\" class=\"data row23 col21\" >0.22</td> \n",
       "        <td id=\"T_6d784876_2bf0_11e8_9386_9801a78ac6dbrow23_col22\" class=\"data row23 col22\" >0.27</td> \n",
       "        <td id=\"T_6d784876_2bf0_11e8_9386_9801a78ac6dbrow23_col23\" class=\"data row23 col23\" >1.0</td> \n",
       "    </tr></tbody> \n",
       "</table> "
      ],
      "text/plain": [
       "<pandas.io.formats.style.Styler at 0x1a111b0e10>"
      ]
     },
     "execution_count": 26,
     "metadata": {},
     "output_type": "execute_result"
    }
   ],
   "source": [
    "X.corr(method='pearson').style.format(\"{:.2}\").background_gradient(cmap=plt.get_cmap('coolwarm'), axis=1)"
   ]
  },
  {
   "cell_type": "markdown",
   "metadata": {},
   "source": [
    "# Variable Visualization"
   ]
  },
  {
   "cell_type": "markdown",
   "metadata": {},
   "source": [
    "Visualization of relation between the Grade and Interest - Rate"
   ]
  },
  {
   "cell_type": "code",
   "execution_count": 27,
   "metadata": {
    "scrolled": false
   },
   "outputs": [
    {
     "data": {
      "text/plain": [
       "<matplotlib.axes._subplots.AxesSubplot at 0x1a110e6860>"
      ]
     },
     "execution_count": 27,
     "metadata": {},
     "output_type": "execute_result"
    },
    {
     "data": {
      "image/png": "[encoded data removed]",
      "text/plain": [
       "<matplotlib.figure.Figure at 0x1a11928748>"
      ]
     },
     "metadata": {},
     "output_type": "display_data"
    }
   ],
   "source": [
    "sns.boxplot(x='grade', y='int_rate', data=X)"
   ]
  },
  {
   "cell_type": "code",
   "execution_count": 28,
   "metadata": {},
   "outputs": [
    {
     "data": {
      "text/plain": [
       "<matplotlib.axes._subplots.AxesSubplot at 0x1085ddeb8>"
      ]
     },
     "execution_count": 28,
     "metadata": {},
     "output_type": "execute_result"
    },
    {
     "data": {
      "image/png": "[encoded data removed]",
      "text/plain": [
       "<matplotlib.figure.Figure at 0x1a150c9a20>"
      ]
     },
     "metadata": {},
     "output_type": "display_data"
    }
   ],
   "source": [
    "sns.boxplot(x='grade', y='loan_amnt', data=X)"
   ]
  },
  {
   "cell_type": "markdown",
   "metadata": {},
   "source": [
    "Visualization of Annual Income"
   ]
  },
  {
   "cell_type": "code",
   "execution_count": 29,
   "metadata": {},
   "outputs": [
    {
     "data": {
      "text/plain": [
       "<matplotlib.axes._subplots.AxesSubplot at 0x1a10f01518>"
      ]
     },
     "execution_count": 29,
     "metadata": {},
     "output_type": "execute_result"
    },
    {
     "data": {
      "image/png": "[encoded data removed]",
      "text/plain": [
       "<matplotlib.figure.Figure at 0x1085e5780>"
      ]
     },
     "metadata": {},
     "output_type": "display_data"
    }
   ],
   "source": [
    "plt.rcParams['figure.figsize'] = (9,6)\n",
    "X[\"annual_inc\"].plot.density(logx = True)"
   ]
  },
  {
   "cell_type": "markdown",
   "metadata": {},
   "source": [
    "Density Plot of Interest Rate"
   ]
  },
  {
   "cell_type": "code",
   "execution_count": 30,
   "metadata": {},
   "outputs": [
    {
     "data": {
      "image/png": "[encoded data removed]",
      "text/plain": [
       "<matplotlib.figure.Figure at 0x1a110b5470>"
      ]
     },
     "metadata": {},
     "output_type": "display_data"
    }
   ],
   "source": [
    "plt.rcParams['figure.figsize'] = (9,6)\n",
    "ax=sns.distplot(X.int_rate, color=\"r\")\n",
    "ax.set(xlabel='Interest Rate %', \n",
    "       ylabel='% Distribution',title='Density Plot of Interest Rate')\n",
    "\n",
    "plt.legend();"
   ]
  },
  {
   "cell_type": "markdown",
   "metadata": {},
   "source": [
    "Density plot of Grade"
   ]
  },
  {
   "cell_type": "code",
   "execution_count": 31,
   "metadata": {},
   "outputs": [
    {
     "data": {
      "image/png": "[encoded data removed]",
      "text/plain": [
       "<matplotlib.figure.Figure at 0x1a10eff438>"
      ]
     },
     "metadata": {},
     "output_type": "display_data"
    }
   ],
   "source": [
    "plt.rcParams['figure.figsize'] = (9,6)\n",
    "ax=sns.distplot(X.grade, color=\"b\")\n",
    "ax.set(xlabel='Grade', \n",
    "       ylabel='Distribution',title='Density Plot of Grade')\n",
    "\n",
    "plt.legend()"
   ]
  },
  {
   "cell_type": "markdown",
   "metadata": {},
   "source": [
    "Visualisation of frequency of each loan status and percentage of each loan-status"
   ]
  },
  {
   "cell_type": "code",
   "execution_count": 32,
   "metadata": {
    "scrolled": true
   },
   "outputs": [
    {
     "data": {
      "image/png": "[encoded data removed]",
      "text/plain": [
       "<matplotlib.figure.Figure at 0x1a13212a90>"
      ]
     },
     "metadata": {},
     "output_type": "display_data"
    }
   ],
   "source": [
    "fig, axs = plt.subplots(1,2,figsize=(14,7))\n",
    "sns.countplot(x='loan_status',data=Y,ax=axs[0])\n",
    "axs[0].set_title(\"Frequency of each Loan Status\")\n",
    "Y.loan_status.value_counts().plot(x=None,y=None, kind='pie', ax=axs[1],autopct='%1.2f%%')\n",
    "axs[1].set_title(\"Percentage of each Loan status\")\n",
    "plt.show()"
   ]
  },
  {
   "cell_type": "code",
   "execution_count": 34,
   "metadata": {
    "collapsed": true,
    "scrolled": true
   },
   "outputs": [],
   "source": [
    "median_dti = cleandata.dti.median()\n",
    "ninety_ninth_percentile = cleandata.dti.quantile(.9999)\n",
    "cleandata.loc[cleandata.dti > ninety_ninth_percentile, 'dti'] = median_dti"
   ]
  },
  {
   "cell_type": "code",
   "execution_count": 35,
   "metadata": {},
   "outputs": [
    {
     "data": {
      "image/png": "[encoded data removed]",
      "text/plain": [
       "<matplotlib.figure.Figure at 0x1a110c4be0>"
      ]
     },
     "metadata": {},
     "output_type": "display_data"
    }
   ],
   "source": [
    "sns.distplot(cleandata.dti, axlabel='Debt to Income Percentage');"
   ]
  },
  {
   "cell_type": "code",
   "execution_count": 36,
   "metadata": {},
   "outputs": [
    {
     "data": {
      "image/png": "[encoded data removed]",
      "text/plain": [
       "<matplotlib.figure.Figure at 0x1a11fa9d30>"
      ]
     },
     "metadata": {},
     "output_type": "display_data"
    }
   ],
   "source": [
    "with sns.axes_style(style='ticks'):\n",
    "    g = sns.factorplot(\"loan_status\", \"dti\", data=cleandata, kind=\"box\")\n",
    "    g.set_axis_labels(\"loan_status\", \"Debt to Income Percentage\");"
   ]
  },
  {
   "cell_type": "markdown",
   "metadata": {},
   "source": [
    "# Models Used:"
   ]
  },
  {
   "cell_type": "markdown",
   "metadata": {},
   "source": [
    "# Logistics Regression"
   ]
  },
  {
   "cell_type": "code",
   "execution_count": 77,
   "metadata": {},
   "outputs": [
    {
     "name": "stdout",
     "output_type": "stream",
     "text": [
      "Cross Validation Score :\n"
     ]
    },
    {
     "data": {
      "text/plain": [
       "array([ 0.99779165,  0.99794395,  0.99809625,  0.9980201 ,  0.99817226,\n",
       "        0.99855304,  0.99824842,  0.99824829,  0.99840061,  0.99817212])"
      ]
     },
     "execution_count": 77,
     "metadata": {},
     "output_type": "execute_result"
    }
   ],
   "source": [
    "logreg = linear_model.LogisticRegression()\n",
    "\n",
    "print('Cross Validation Score :')\n",
    "\n",
    "cross_val_score(logreg,X_train1,np.ravel(Y_train1,order ='C'), cv = 10)\n"
   ]
  },
  {
   "cell_type": "code",
   "execution_count": 78,
   "metadata": {
    "scrolled": true
   },
   "outputs": [
    {
     "data": {
      "text/plain": [
       "LogisticRegression(C=1.0, class_weight=None, dual=False, fit_intercept=True,\n",
       "          intercept_scaling=1, max_iter=100, multi_class='ovr', n_jobs=1,\n",
       "          penalty='l2', random_state=None, solver='liblinear', tol=0.0001,\n",
       "          verbose=0, warm_start=False)"
      ]
     },
     "execution_count": 78,
     "metadata": {},
     "output_type": "execute_result"
    }
   ],
   "source": [
    "logreg.fit(X_train2, np.ravel(Y_train2,order = 'C'))"
   ]
  },
  {
   "cell_type": "code",
   "execution_count": 79,
   "metadata": {},
   "outputs": [
    {
     "name": "stdout",
     "output_type": "stream",
     "text": [
      "[1 1 1 ..., 0 1 0]\n"
     ]
    }
   ],
   "source": [
    "logpredict = logreg.predict(X_test2)\n",
    "print(logpredict)"
   ]
  },
  {
   "cell_type": "code",
   "execution_count": 80,
   "metadata": {},
   "outputs": [
    {
     "name": "stdout",
     "output_type": "stream",
     "text": [
      "Accuracy Score: 0.998400852878\n",
      "Classification Report :\n",
      "             precision    recall  f1-score   support\n",
      "\n",
      "          0       1.00      0.99      0.99      2088\n",
      "          1       1.00      1.00      1.00     11044\n",
      "\n",
      "avg / total       1.00      1.00      1.00     13132\n",
      "\n"
     ]
    }
   ],
   "source": [
    "print('Accuracy Score: ' +  str(accuracy_score(Y_test2, logpredict.round())))\n",
    "\n",
    "print('Classification Report :')\n",
    "\n",
    "print(classification_report(Y_test2, logpredict.round()))"
   ]
  },
  {
   "cell_type": "code",
   "execution_count": 81,
   "metadata": {},
   "outputs": [
    {
     "name": "stdout",
     "output_type": "stream",
     "text": [
      "RMSE for logistic regression : 0.0399893375981, R^2: 0.987970848111\n"
     ]
    }
   ],
   "source": [
    "print('RMSE for logistic regression : ' + \n",
    "      str(np.sqrt(mean_squared_error(logpredict, Y_test2))) \n",
    "      + ', R^2: ' + str(r2_score(logpredict, Y_test2)))"
   ]
  },
  {
   "cell_type": "code",
   "execution_count": 82,
   "metadata": {
    "collapsed": true
   },
   "outputs": [],
   "source": [
    "#Classifier On 20% of hold out data\n",
    "logpredict = logreg.predict(X_test1)"
   ]
  },
  {
   "cell_type": "code",
   "execution_count": 83,
   "metadata": {},
   "outputs": [
    {
     "name": "stdout",
     "output_type": "stream",
     "text": [
      "Classification Report :\n",
      "             precision    recall  f1-score   support\n",
      "\n",
      "          0       1.00      0.99      0.99      5277\n",
      "          1       1.00      1.00      1.00     27551\n",
      "\n",
      "avg / total       1.00      1.00      1.00     32828\n",
      "\n"
     ]
    }
   ],
   "source": [
    "#Classification report on 20% of the hold out data\n",
    "print('Classification Report :')\n",
    "\n",
    "print(classification_report(Y_test1, logpredict))"
   ]
  },
  {
   "cell_type": "markdown",
   "metadata": {},
   "source": [
    "# KNN"
   ]
  },
  {
   "cell_type": "code",
   "execution_count": 84,
   "metadata": {},
   "outputs": [
    {
     "name": "stdout",
     "output_type": "stream",
     "text": [
      "Cross Validation Score :\n"
     ]
    },
    {
     "data": {
      "text/plain": [
       "array([ 0.64297961,  0.64058188,  0.6476919 ,  0.63703619,  0.64325544,\n",
       "        0.64236414,  0.64707363,  0.65387258,  0.63594446,  0.65312206])"
      ]
     },
     "execution_count": 84,
     "metadata": {},
     "output_type": "execute_result"
    }
   ],
   "source": [
    "knn = KNeighborsRegressor()\n",
    "\n",
    "print('Cross Validation Score :')\n",
    "cross_val_score(knn,X_train1,Y_train1, cv = 10)"
   ]
  },
  {
   "cell_type": "code",
   "execution_count": 85,
   "metadata": {},
   "outputs": [
    {
     "data": {
      "text/plain": [
       "KNeighborsRegressor(algorithm='auto', leaf_size=30, metric='minkowski',\n",
       "          metric_params=None, n_jobs=1, n_neighbors=5, p=2,\n",
       "          weights='uniform')"
      ]
     },
     "execution_count": 85,
     "metadata": {},
     "output_type": "execute_result"
    }
   ],
   "source": [
    "knn.fit(X_train2, Y_train2)"
   ]
  },
  {
   "cell_type": "code",
   "execution_count": 86,
   "metadata": {},
   "outputs": [
    {
     "name": "stdout",
     "output_type": "stream",
     "text": [
      "[[ 1.]\n",
      " [ 1.]\n",
      " [ 1.]\n",
      " ..., \n",
      " [ 0.]\n",
      " [ 1.]\n",
      " [ 1.]]\n"
     ]
    }
   ],
   "source": [
    "knn_pred = knn.predict(X_test2)\n",
    "print (knn_pred)"
   ]
  },
  {
   "cell_type": "code",
   "execution_count": 87,
   "metadata": {},
   "outputs": [
    {
     "name": "stdout",
     "output_type": "stream",
     "text": [
      "RMSE for KNN regression: 0.223695323887\n",
      "R^2:0.39868780832\n"
     ]
    }
   ],
   "source": [
    "print('RMSE for KNN regression: ' + str(np.sqrt(mean_squared_error(knn_pred, Y_test2))))\n",
    "      \n",
    "print('R^2:' + str(r2_score(knn_pred, Y_test2)))"
   ]
  },
  {
   "cell_type": "code",
   "execution_count": 88,
   "metadata": {},
   "outputs": [
    {
     "name": "stdout",
     "output_type": "stream",
     "text": [
      "Accuracy Score: 0.9402223576\n"
     ]
    }
   ],
   "source": [
    "print('Accuracy Score: ' +  str(accuracy_score(Y_test2,knn_pred.round())))"
   ]
  },
  {
   "cell_type": "code",
   "execution_count": 89,
   "metadata": {},
   "outputs": [
    {
     "name": "stdout",
     "output_type": "stream",
     "text": [
      "Classification Report : \n",
      "             precision    recall  f1-score   support\n",
      "\n",
      "          0       0.98      0.64      0.77      2088\n",
      "          1       0.94      1.00      0.97     11044\n",
      "\n",
      "avg / total       0.94      0.94      0.93     13132\n",
      "\n"
     ]
    }
   ],
   "source": [
    "print('Classification Report : ')\n",
    "\n",
    "print(classification_report(Y_test2, knn_pred.round()))"
   ]
  },
  {
   "cell_type": "code",
   "execution_count": 90,
   "metadata": {},
   "outputs": [
    {
     "name": "stdout",
     "output_type": "stream",
     "text": [
      "[[ 1. ]\n",
      " [ 1. ]\n",
      " [ 1. ]\n",
      " ..., \n",
      " [ 1. ]\n",
      " [ 1. ]\n",
      " [ 0.2]]\n"
     ]
    }
   ],
   "source": [
    "#Classifier On 20% of hold out data\n",
    "knn_pred = knn.predict(X_test1)\n",
    "print (knn_pred)"
   ]
  },
  {
   "cell_type": "code",
   "execution_count": 91,
   "metadata": {},
   "outputs": [
    {
     "name": "stdout",
     "output_type": "stream",
     "text": [
      "Classification Report : \n",
      "             precision    recall  f1-score   support\n",
      "\n",
      "          0       0.98      0.65      0.78      5277\n",
      "          1       0.94      1.00      0.97     27551\n",
      "\n",
      "avg / total       0.94      0.94      0.94     32828\n",
      "\n"
     ]
    }
   ],
   "source": [
    "#Classification report on 20% of the hold out data\n",
    "print('Classification Report : ')\n",
    "\n",
    "print(classification_report(Y_test1, knn_pred.round()))"
   ]
  },
  {
   "cell_type": "markdown",
   "metadata": {},
   "source": [
    "# Decision Tree"
   ]
  },
  {
   "cell_type": "code",
   "execution_count": 92,
   "metadata": {},
   "outputs": [
    {
     "name": "stdout",
     "output_type": "stream",
     "text": [
      "Cross Validation Score :\n"
     ]
    },
    {
     "data": {
      "text/plain": [
       "array([ 0.99588791,  0.99565946,  0.99703016,  0.9972586 ,  0.99642068,\n",
       "        0.996573  ,  0.99702993,  0.99672506,  0.99512567,  0.9966489 ])"
      ]
     },
     "execution_count": 92,
     "metadata": {},
     "output_type": "execute_result"
    }
   ],
   "source": [
    "clf = tree.DecisionTreeClassifier() \n",
    "\n",
    "print('Cross Validation Score :')\n",
    "\n",
    "cross_val_score(clf, X_train1,Y_train1, cv=10)"
   ]
  },
  {
   "cell_type": "code",
   "execution_count": 93,
   "metadata": {
    "collapsed": true
   },
   "outputs": [],
   "source": [
    "clf = clf.fit(X_train2, Y_train2)\n",
    "\n",
    "Dt_predict = clf.predict(X_test2)"
   ]
  },
  {
   "cell_type": "code",
   "execution_count": 94,
   "metadata": {},
   "outputs": [
    {
     "name": "stdout",
     "output_type": "stream",
     "text": [
      "Accuracy Score: 0.996116356991\n",
      "Classification Report : \n",
      "             precision    recall  f1-score   support\n",
      "\n",
      "          0       0.99      0.99      0.99      2088\n",
      "          1       1.00      1.00      1.00     11044\n",
      "\n",
      "avg / total       1.00      1.00      1.00     13132\n",
      "\n"
     ]
    }
   ],
   "source": [
    "print('Accuracy Score: ' +  str (accuracy_score(Y_test2,Dt_predict)))\n",
    "\n",
    "print('Classification Report : ')\n",
    "      \n",
    "print(classification_report(Y_test2, Dt_predict))"
   ]
  },
  {
   "cell_type": "code",
   "execution_count": 95,
   "metadata": {},
   "outputs": [
    {
     "name": "stdout",
     "output_type": "stream",
     "text": [
      "RMSE: 0.0623188816447, R^2: 0.970990609281\n"
     ]
    }
   ],
   "source": [
    "print('RMSE: ' + \n",
    "      str(np.sqrt(mean_squared_error(Dt_predict, Y_test2))) \n",
    "      + ', R^2: ' + str(r2_score(Dt_predict, Y_test2)))"
   ]
  },
  {
   "cell_type": "code",
   "execution_count": 96,
   "metadata": {
    "collapsed": true
   },
   "outputs": [],
   "source": [
    "#Classifier On 20% of hold out data\n",
    "Dt_predict = clf.predict(X_test1)"
   ]
  },
  {
   "cell_type": "code",
   "execution_count": 97,
   "metadata": {},
   "outputs": [
    {
     "name": "stdout",
     "output_type": "stream",
     "text": [
      "Classification Report : \n",
      "             precision    recall  f1-score   support\n",
      "\n",
      "          0       0.99      0.99      0.99      5277\n",
      "          1       1.00      1.00      1.00     27551\n",
      "\n",
      "avg / total       1.00      1.00      1.00     32828\n",
      "\n"
     ]
    }
   ],
   "source": [
    "#Classification report on 20% of the hold out data\n",
    "print('Classification Report : ')\n",
    "      \n",
    "print(classification_report(Y_test1, Dt_predict))"
   ]
  },
  {
   "cell_type": "markdown",
   "metadata": {},
   "source": [
    "# Gaussian NB"
   ]
  },
  {
   "cell_type": "code",
   "execution_count": 98,
   "metadata": {
    "collapsed": true
   },
   "outputs": [],
   "source": [
    "from sklearn.naive_bayes import GaussianNB\n",
    "GNB = GaussianNB()"
   ]
  },
  {
   "cell_type": "code",
   "execution_count": 99,
   "metadata": {},
   "outputs": [
    {
     "name": "stdout",
     "output_type": "stream",
     "text": [
      "Cross Validation Score :\n"
     ]
    },
    {
     "data": {
      "text/plain": [
       "array([ 0.8898873 ,  0.8911057 ,  0.89453244,  0.89430399,  0.8809687 ,\n",
       "        0.89155434,  0.8950575 ,  0.88956588,  0.89847677,  0.89573496])"
      ]
     },
     "execution_count": 99,
     "metadata": {},
     "output_type": "execute_result"
    }
   ],
   "source": [
    "print('Cross Validation Score :')\n",
    "\n",
    "(cross_val_score(GNB, X_train1,np.ravel(Y_train1,order = 'C') , cv = 10))"
   ]
  },
  {
   "cell_type": "code",
   "execution_count": 100,
   "metadata": {
    "collapsed": true
   },
   "outputs": [],
   "source": [
    "GNB = GNB.fit(X_train2,np.ravel(Y_train2,order = 'C'))\n",
    "\n",
    "GNB_pred = GNB.predict(X_test2)"
   ]
  },
  {
   "cell_type": "code",
   "execution_count": 101,
   "metadata": {},
   "outputs": [
    {
     "name": "stdout",
     "output_type": "stream",
     "text": [
      "Accuracy Score: 0.892171794091\n"
     ]
    }
   ],
   "source": [
    "print('Accuracy Score: ' +  str(accuracy_score(Y_test2, GNB_pred.round())))"
   ]
  },
  {
   "cell_type": "code",
   "execution_count": 102,
   "metadata": {},
   "outputs": [
    {
     "name": "stdout",
     "output_type": "stream",
     "text": [
      "RMSE for GNB : 0.328372054093, R^2: 0.339819359237\n"
     ]
    }
   ],
   "source": [
    "print('RMSE for GNB : ' + \n",
    "      str(np.sqrt(mean_squared_error(GNB_pred, Y_test2))) \n",
    "      + ', R^2: ' + str(r2_score(GNB_pred, Y_test2)))"
   ]
  },
  {
   "cell_type": "code",
   "execution_count": 103,
   "metadata": {},
   "outputs": [
    {
     "name": "stdout",
     "output_type": "stream",
     "text": [
      "Classification Report : \n",
      "             precision    recall  f1-score   support\n",
      "\n",
      "          0       0.62      0.81      0.70      2088\n",
      "          1       0.96      0.91      0.93     11044\n",
      "\n",
      "avg / total       0.91      0.89      0.90     13132\n",
      "\n"
     ]
    }
   ],
   "source": [
    "print('Classification Report : ')\n",
    "      \n",
    "print(classification_report(Y_test2,GNB_pred))"
   ]
  },
  {
   "cell_type": "code",
   "execution_count": 104,
   "metadata": {
    "collapsed": true
   },
   "outputs": [],
   "source": [
    "#Classifier On 20% of hold out data\n",
    "GNB_pred = GNB.predict(X_test1)"
   ]
  },
  {
   "cell_type": "code",
   "execution_count": 105,
   "metadata": {},
   "outputs": [
    {
     "name": "stdout",
     "output_type": "stream",
     "text": [
      "Classification Report : \n",
      "             precision    recall  f1-score   support\n",
      "\n",
      "          0       0.62      0.81      0.70      5277\n",
      "          1       0.96      0.90      0.93     27551\n",
      "\n",
      "avg / total       0.91      0.89      0.89     32828\n",
      "\n"
     ]
    }
   ],
   "source": [
    "#Classification report on 20% of the hold out data\n",
    "print('Classification Report : ')\n",
    "      \n",
    "print(classification_report(Y_test1,GNB_pred))"
   ]
  },
  {
   "cell_type": "code",
   "execution_count": null,
   "metadata": {
    "collapsed": true
   },
   "outputs": [],
   "source": []
  }
 ],
 "metadata": {
  "kernelspec": {
   "display_name": "Python 3",
   "language": "python",
   "name": "python3"
  },
  "language_info": {
   "codemirror_mode": {
    "name": "ipython",
    "version": 3
   },
   "file_extension": ".py",
   "mimetype": "text/x-python",
   "name": "python",
   "nbconvert_exporter": "python",
   "pygments_lexer": "ipython3",
   "version": "3.6.3"
  }
 },
 "nbformat": 4,
 "nbformat_minor": 2
}
